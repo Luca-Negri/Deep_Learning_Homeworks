{
 "cells": [
  {
   "cell_type": "markdown",
   "metadata": {
    "id": "zYncZVOyF8Rb"
   },
   "source": [
    "# NEURAL NETWORKS AND DEEP LEARNING\n",
    "\n",
    "**First Homework by Luca Negri**\n",
    "\n",
    "---\n",
    "A.A. 2021/22 (6 CFU) - Dr. Alberto Testolin, Dr. Umberto Michieli\n",
    "---\n"
   ]
  },
  {
   "cell_type": "markdown",
   "metadata": {
    "id": "AgHJFDwYvgHg"
   },
   "source": [
    "# Homework 1 - Supervised Deep Learning"
   ]
  },
  {
   "cell_type": "markdown",
   "metadata": {
    "id": "bNENm7RHGFMd"
   },
   "source": [
    "## Introduction\n",
    "\n",
    "This python notebook will contain both the code and the report for the first NNDL homework. It's divided in two main sections, that reflect the two tasks:\n",
    "+ The **Regression task**, aimed at predicting the behaviour of a one dimensional input and output unknown function, througth the use of a fully connected neural network.\n",
    "+ The **Classification task**, which will build a convolutional neural net able to classify images from the Fashion MNIST dataset into 10 different classes.\n",
    "\n",
    "Both of these tasks will be accomplished using neural networks constructed in the pytorch framework. The hyperparameters will be optimized throught a Random search for the most important quantitites.\n",
    " "
   ]
  },
  {
   "cell_type": "markdown",
   "metadata": {
    "id": "rZCClsi8vrYi"
   },
   "source": [
    "# Regression task"
   ]
  },
  {
   "cell_type": "markdown",
   "metadata": {
    "id": "pHeLKNYayXKO"
   },
   "source": [
    "## Guidelines"
   ]
  },
  {
   "cell_type": "markdown",
   "metadata": {
    "id": "zs0AM6W_yoMs"
   },
   "source": [
    "* The goal is to train a neural network to approximate an unknown function:\n",
    "$$ \n",
    "f:\\mathbb{R}→\\mathbb{R} \\\\\n",
    "x↦y=f(x) \\\\\n",
    "\\text{network}(x) \\approx f(x)\n",
    "$$\n",
    "* As training point, you only have noisy measures from the target function.\n",
    "$$\n",
    "\\hat{y} = f(x) + noise\n",
    "$$\n",
    "\n"
   ]
  },
  {
   "cell_type": "markdown",
   "metadata": {
    "id": "JpHoPt5nyocz"
   },
   "source": [
    "## Dataset\n",
    "Before defining the dataset class, we will proceed to import all the major libraries that will be useful during the tasks"
   ]
  },
  {
   "cell_type": "code",
   "execution_count": 1,
   "metadata": {
    "id": "3ViQh-gfzxNH"
   },
   "outputs": [],
   "source": [
    "#basics\n",
    "import pandas as pd\n",
    "import matplotlib.pyplot as plt\n",
    "import numpy as np\n",
    "\n",
    "#pytorch\n",
    "import torch\n",
    "import torch.nn as nn\n",
    "import torch.optim as optim\n",
    "from torch.utils.data import Dataset, DataLoader\n",
    "from torchvision import transforms\n",
    "from sklearn.model_selection import train_test_split\n",
    "\n",
    "#others\n",
    "import os\n",
    "from tqdm import tqdm\n",
    "os.environ['CUDA_LAUNCH_BLOCKING'] = '1'"
   ]
  },
  {
   "cell_type": "markdown",
   "metadata": {
    "id": "OjV_JeRcwrLC"
   },
   "source": [
    "The following cell of code will download the dataset and make it available in the local folder `regression_dataset`. There are two files:\n",
    "\n",
    "* `regression_dataset/train_data.csv`\n",
    "* `regression_dataset/test_data.csv`\n",
    "\n",
    "These will be used to train and test the model. Each row contains two values, respactively the input and the target (label)."
   ]
  },
  {
   "cell_type": "code",
   "execution_count": 209,
   "metadata": {
    "colab": {
     "base_uri": "https://localhost:8080/"
    },
    "id": "QXCqDgEsvt96",
    "outputId": "b39682cf-3627-4cc2-fe3c-4c4314a42294"
   },
   "outputs": [],
   "source": [
    "!wget -P regression_dataset https://gitlab.dei.unipd.it/michieli/nnld-2021-22-lab-resources/-/raw/main/homework1/train_data.csv\n",
    "!wget -P regression_dataset https://gitlab.dei.unipd.it/michieli/nnld-2021-22-lab-resources/-/raw/main/homework1/test_data.csv "
   ]
  },
  {
   "cell_type": "markdown",
   "metadata": {
    "id": "FJRxVBksxsBw"
   },
   "source": [
    "How to load the data:"
   ]
  },
  {
   "cell_type": "code",
   "execution_count": 150,
   "metadata": {
    "colab": {
     "base_uri": "https://localhost:8080/",
     "height": 417
    },
    "id": "a-FdEP-JxwEu",
    "outputId": "3f3b795f-1b55-4453-949b-261f197e1a54"
   },
   "outputs": [
    {
     "data": {
      "text/html": [
       "<div>\n",
       "<style scoped>\n",
       "    .dataframe tbody tr th:only-of-type {\n",
       "        vertical-align: middle;\n",
       "    }\n",
       "\n",
       "    .dataframe tbody tr th {\n",
       "        vertical-align: top;\n",
       "    }\n",
       "\n",
       "    .dataframe thead th {\n",
       "        text-align: right;\n",
       "    }\n",
       "</style>\n",
       "<table border=\"1\" class=\"dataframe\">\n",
       "  <thead>\n",
       "    <tr style=\"text-align: right;\">\n",
       "      <th></th>\n",
       "      <th>input</th>\n",
       "      <th>label</th>\n",
       "    </tr>\n",
       "  </thead>\n",
       "  <tbody>\n",
       "    <tr>\n",
       "      <th>0</th>\n",
       "      <td>-4.787870</td>\n",
       "      <td>-1.216804</td>\n",
       "    </tr>\n",
       "    <tr>\n",
       "      <th>1</th>\n",
       "      <td>-3.509057</td>\n",
       "      <td>3.277581</td>\n",
       "    </tr>\n",
       "    <tr>\n",
       "      <th>2</th>\n",
       "      <td>-3.855373</td>\n",
       "      <td>2.621375</td>\n",
       "    </tr>\n",
       "    <tr>\n",
       "      <th>3</th>\n",
       "      <td>-4.083518</td>\n",
       "      <td>1.046088</td>\n",
       "    </tr>\n",
       "    <tr>\n",
       "      <th>4</th>\n",
       "      <td>-4.230588</td>\n",
       "      <td>1.228874</td>\n",
       "    </tr>\n",
       "    <tr>\n",
       "      <th>...</th>\n",
       "      <td>...</td>\n",
       "      <td>...</td>\n",
       "    </tr>\n",
       "    <tr>\n",
       "      <th>95</th>\n",
       "      <td>4.745864</td>\n",
       "      <td>5.839698</td>\n",
       "    </tr>\n",
       "    <tr>\n",
       "      <th>96</th>\n",
       "      <td>4.454523</td>\n",
       "      <td>3.584919</td>\n",
       "    </tr>\n",
       "    <tr>\n",
       "      <th>97</th>\n",
       "      <td>4.547246</td>\n",
       "      <td>4.586484</td>\n",
       "    </tr>\n",
       "    <tr>\n",
       "      <th>98</th>\n",
       "      <td>4.649648</td>\n",
       "      <td>5.185536</td>\n",
       "    </tr>\n",
       "    <tr>\n",
       "      <th>99</th>\n",
       "      <td>4.781836</td>\n",
       "      <td>6.616912</td>\n",
       "    </tr>\n",
       "  </tbody>\n",
       "</table>\n",
       "<p>100 rows × 2 columns</p>\n",
       "</div>"
      ],
      "text/plain": [
       "       input     label\n",
       "0  -4.787870 -1.216804\n",
       "1  -3.509057  3.277581\n",
       "2  -3.855373  2.621375\n",
       "3  -4.083518  1.046088\n",
       "4  -4.230588  1.228874\n",
       "..       ...       ...\n",
       "95  4.745864  5.839698\n",
       "96  4.454523  3.584919\n",
       "97  4.547246  4.586484\n",
       "98  4.649648  5.185536\n",
       "99  4.781836  6.616912\n",
       "\n",
       "[100 rows x 2 columns]"
      ]
     },
     "execution_count": 150,
     "metadata": {},
     "output_type": "execute_result"
    }
   ],
   "source": [
    "train_df = pd.read_csv('regression_dataset/train_data.csv')\n",
    "test_df  = pd.read_csv('regression_dataset/test_data.csv')\n",
    "\n",
    "train_df"
   ]
  },
  {
   "cell_type": "markdown",
   "metadata": {
    "id": "UgH9AOL8yAak"
   },
   "source": [
    "How to get a specific sample:"
   ]
  },
  {
   "cell_type": "code",
   "execution_count": 151,
   "metadata": {
    "colab": {
     "base_uri": "https://localhost:8080/"
    },
    "id": "Gz8mOEUcyJdw",
    "outputId": "bdd729b0-1a53-4267-a282-34ecdc7d1802"
   },
   "outputs": [
    {
     "name": "stdout",
     "output_type": "stream",
     "text": [
      "SAMPLE AT INDEX 0\n",
      "INPUT: -4.787870188090535\n",
      "LABEL: -1.216803599957529\n"
     ]
    }
   ],
   "source": [
    "sample_index = 0\n",
    "input = train_df.iloc[sample_index]['input']\n",
    "label = train_df.iloc[sample_index]['label']\n",
    "\n",
    "print(f\"SAMPLE AT INDEX {sample_index}\")\n",
    "print(f\"INPUT: {input}\")\n",
    "print(f\"LABEL: {label}\")"
   ]
  },
  {
   "cell_type": "markdown",
   "metadata": {
    "id": "o4FMs2rmzXps"
   },
   "source": [
    "And here are all of the training and testing point that our network will try to guess. The x will be the input variable while it will try to guess the y value."
   ]
  },
  {
   "cell_type": "code",
   "execution_count": 152,
   "metadata": {
    "colab": {
     "base_uri": "https://localhost:8080/",
     "height": 977
    },
    "id": "EXc_6w24zFEB",
    "outputId": "61fb5ef3-b350-46ff-ae9e-d5b73dc5605b"
   },
   "outputs": [
    {
     "data": {
      "image/png": "[encoded data removed]",
      "text/plain": [
       "<Figure size 864x576 with 1 Axes>"
      ]
     },
     "metadata": {
      "needs_background": "light"
     },
     "output_type": "display_data"
    },
    {
     "data": {
      "image/png": "[encoded data removed]",
      "text/plain": [
       "<Figure size 864x576 with 1 Axes>"
      ]
     },
     "metadata": {
      "needs_background": "light"
     },
     "output_type": "display_data"
    }
   ],
   "source": [
    "fig = plt.figure(figsize=(12,8))\n",
    "plt.scatter(train_df.input, train_df.label, label='Training points',color='black')\n",
    "plt.xlabel('input')\n",
    "plt.ylabel('label')\n",
    "plt.legend()\n",
    "plt.show()\n",
    "fig = plt.figure(figsize=(12,8))\n",
    "plt.scatter(test_df.input, test_df.label, label='Test points',color='black')\n",
    "plt.xlabel('input')\n",
    "plt.ylabel('label')\n",
    "plt.legend()\n",
    "plt.show()"
   ]
  },
  {
   "cell_type": "markdown",
   "metadata": {},
   "source": [
    "As we can see our training dataset is a noisy realization of the test set. If the regularization of the network is properly implemented this will help with reliability of the network, and also somehow simulates how real world data may behave."
   ]
  },
  {
   "cell_type": "markdown",
   "metadata": {
    "id": "ndbCpl-hFFWc"
   },
   "source": [
    "## Definition of the dataset class\n",
    "The class `pdDataset` will help to transform the dataset from a pandas dataframe to a more readable format for pytorch."
   ]
  },
  {
   "cell_type": "code",
   "execution_count": 153,
   "metadata": {
    "id": "2wCRniWUE3Ks"
   },
   "outputs": [],
   "source": [
    "class pdDataset(Dataset):\n",
    "\n",
    "    def __init__(self, df, transform=None):\n",
    "        \"\"\"\n",
    "        Args:\n",
    "            df (pands.DataFrame)          : Dataframe containing samples and labels\n",
    "            transform (callable, optional): Optional transform to be applied\n",
    "                on a sample.\n",
    "        \"\"\"\n",
    "        self.transform = transform\n",
    "        self.data = df\n",
    "\n",
    "    def __len__(self):\n",
    "        return len(self.data)\n",
    "\n",
    "    def __getitem__(self, idx):\n",
    "\n",
    "        sample = self.data.iloc[idx]\n",
    "        \n",
    "        if self.transform:\n",
    "            sample = self.transform(sample)\n",
    "        return sample"
   ]
  },
  {
   "cell_type": "markdown",
   "metadata": {
    "id": "4N7VAd0vIJk5"
   },
   "source": [
    "## Definition of the Neural Network class\n",
    "The architecture chosen to solve this problem is really simple : A fully connected Neural Network that has 2 hidden layers, an input and an output layer.\n",
    "+ The input layer will have $N_{in}=1$ node, value fixed by the nature of the problem\n",
    "+ The first hidden layer will have $N_{h1}$ nodes and will be a tunable parameter of our search\n",
    "+ The second hidden layer will have $N_{h2}$ nodes and will be a tunable parameter as well\n",
    "+ The last layer is the output and will have $N_{out}=1$ node, again, value fixed by the nature of our problem \n",
    "\n",
    "\n",
    "The number of nodes for $N_{}h1$ and $N_{h2}$ will be kept somehow limited, since there is a high risk of overfitting in such a simple regression task. The class also allows to have a specific initialization function, a specif activation and to choose the value of the dropout, wich will be parameters that our random search will try to optimize. The activation function is kept fixed as the *sigmoid* function for every layer except the last. "
   ]
  },
  {
   "cell_type": "code",
   "execution_count": 154,
   "metadata": {
    "id": "RPv75U3aIItn"
   },
   "outputs": [],
   "source": [
    "class Net(nn.Module):\n",
    "    \n",
    "    def __init__(self, Ni, Nh1, Nh2, No, Act,pDropout=0.3, init_func=nn.init.xavier_normal_ ):\n",
    "        \"\"\"\n",
    "        Ni  - Input size\n",
    "        Nh1 - Neurons in the 1st hidden layer\n",
    "        Nh2 - Neurons in the 2nd hidden layer\n",
    "        No  - Output size\n",
    "        Act - Activation function\n",
    "        pDropout  - Dropout probability \n",
    "        init_func - Inizialization method\n",
    "        \"\"\"\n",
    "        super().__init__()\n",
    "        \n",
    "        print('Network initialized')\n",
    "        self.fc1 = nn.Linear(in_features=Ni, out_features=Nh1)\n",
    "        init_func(self.fc1.weight)\n",
    "\n",
    "        self.fc2 = nn.Linear(in_features=Nh1, out_features=Nh2)\n",
    "        init_func(self.fc2.weight)\n",
    "\n",
    "        self.out = nn.Linear(in_features=Nh2, out_features=No)\n",
    "        init_func(self.out.weight)\n",
    "\n",
    "        self.act = Act\n",
    "        self.dropout = nn.Dropout(pDropout)\n",
    "        \n",
    "    def forward(self, x, additional_out=False):\n",
    "        x = self.act(self.fc1(x))\n",
    "        x = self.dropout(x)\n",
    "        x = self.act(self.fc2(x))\n",
    "        x = self.dropout(x)\n",
    "        x = self.out(x)\n",
    "        return x"
   ]
  },
  {
   "cell_type": "markdown",
   "metadata": {
    "id": "ioTvo5omJBnS"
   },
   "source": [
    "## Definition of the transforms\n",
    "To actually make the pandas dataframe readable to pytorch, the object needs to be transformed into a `tensor` object. To do this we define a simple tranform class that does this exact conversion. this transform will then be passed to the `pdDataset` class."
   ]
  },
  {
   "cell_type": "code",
   "execution_count": 210,
   "metadata": {
    "id": "elsvv0oqJA2r"
   },
   "outputs": [],
   "source": [
    "class ToTensor(object):\n",
    "    \"\"\"Convert sample to Tensors.\"\"\"\n",
    "\n",
    "    def __call__(self, sample):\n",
    "        x, y = sample\n",
    "        return (torch.tensor([x]).float(),\n",
    "                torch.tensor([y]).float())\n",
    "        \n",
    "    "
   ]
  },
  {
   "cell_type": "markdown",
   "metadata": {},
   "source": [
    "Now the funcion in the next cell will divide the dataset into a validation and a train dataset. The  previous defined functions will then be applied to the datasets. An 80 / 20 % train/validation size split has been chosen for the datasets, since it's usually the most used ratio for these kinds of tasks. Even if we are working with really small datasets this ratio is still considered adeguate. For the final test set a different dataset is used, since it represent the least noisy data.  "
   ]
  },
  {
   "cell_type": "code",
   "execution_count": 156,
   "metadata": {
    "colab": {
     "base_uri": "https://localhost:8080/"
    },
    "id": "gRpNItlEKgMW",
    "outputId": "06fd22f3-f284-4068-cf12-3851916d9ebd"
   },
   "outputs": [
    {
     "data": {
      "text/plain": [
       "(tensor([3.4972]), tensor([1.7237]))"
      ]
     },
     "execution_count": 156,
     "metadata": {},
     "output_type": "execute_result"
    }
   ],
   "source": [
    "transform = transforms.Compose([ToTensor()])\n",
    "\n",
    "train_samples_n = len(train_df)\n",
    "\n",
    "train_fraction = int(0.8*train_samples_n)\n",
    "train_ns        = np.random.choice(np.arange(train_samples_n),replace=False,size=train_samples_n)\n",
    "\n",
    "train_data = pdDataset( train_df.iloc[ train_ns[:train_fraction] ] , transform=transform)\n",
    "val_data   = pdDataset( train_df.iloc[ train_ns[train_fraction:] ] , transform=transform)\n",
    "test_data  = pdDataset( test_df                   , transform=transform)\n",
    "train_data[6]"
   ]
  },
  {
   "cell_type": "markdown",
   "metadata": {},
   "source": [
    "## Training the network \n",
    "Now we will proceed to do a test training of the whole network to test that everything is working with some random hyperparameters choiche"
   ]
  },
  {
   "cell_type": "markdown",
   "metadata": {},
   "source": [
    "### Train & test functions\n",
    "\n",
    "These functions will help in the training and test phase of the project. \n",
    "\n",
    "+ `train_epoch` makes a single pass over all of the training data and updates the weights trought backpropagation of the gradient over the loss funcion `loss_fn` and optimizes it with the given user defined `optimizer`. It's also possbile to add an L1 regularization term by seting the `l1lambda` parameter different from 0.\n",
    "+ `test_epoch` just evaluates the performance of the network over a specific dataset, giving as output the calculated loss, the real and the predicted labels of the given samples.\n",
    "+ `train_func` autimates the train and evaluation steps for a given number of epochs."
   ]
  },
  {
   "cell_type": "code",
   "execution_count": 163,
   "metadata": {
    "id": "dsM0ARdELRgn"
   },
   "outputs": [],
   "source": [
    "def train_epoch(net, device, dataloader, loss_fn, optimizer, verbose=0, m = None, c = None, disable_tqdm=True, l1lambda = 0):\n",
    "    \"\"\"Function to advance training one step\"\"\"\n",
    "    # Set train mode\n",
    "    net.train()\n",
    "    for train_batch, label_batch in tqdm(dataloader,position=0,leave=True,disable=disable_tqdm):\n",
    "        # Move tensors to the selected device\n",
    "        train_batch = train_batch.to(device)\n",
    "        label_batch = label_batch.to(device)\n",
    "        # Forward pass\n",
    "        out = net(train_batch)\n",
    "        # wether to apply regularization\n",
    "        l1 = sum(p.abs().sum() for p in net.parameters())\n",
    "        # Evaluate loss\n",
    "        loss = loss_fn(out, label_batch) + l1lambda*l1\n",
    "        \n",
    "        # Backward pass and update\n",
    "        optimizer.zero_grad()\n",
    "        loss.backward()\n",
    "        optimizer.step()\n",
    "        # Print loss\n",
    "        if verbose==2:\n",
    "            print('\\t Training loss (single batch):', float(loss.data))\n",
    "            \n",
    "            \n",
    "### Testing function\n",
    "def test_epoch(net, device, dataloader, loss_fn, m=None,disable_tqdm=True,l1lambda=0):\n",
    "    # Set evaluation mode\n",
    "    net.eval()\n",
    "    with torch.no_grad():\n",
    "        # Define the lists to store the outputs for each batch\n",
    "        conc_out = []\n",
    "        conc_label = []\n",
    "        for image_batch, label_batch in tqdm(dataloader,position=0,leave=True,disable=disable_tqdm):\n",
    "            # Move tensor to the proper device\n",
    "            image_batch = image_batch.to(device)\n",
    "            label_batch = label_batch.to(device)\n",
    "            # Forward pass\n",
    "            out = net(image_batch)\n",
    "            # Append the network output and the original image to the lists\n",
    "            conc_out.append(out)\n",
    "            conc_label.append(label_batch)\n",
    "        # Create a single tensor with all the values in the lists\n",
    "        conc_out = torch.cat(conc_out)\n",
    "        conc_label = torch.cat(conc_label) \n",
    "        # Evaluate global loss\n",
    "        if m:\n",
    "            conc_out = m(conc_out)\n",
    "        l1 = sum(p.abs().sum() for p in net.parameters())\n",
    "        val_loss = loss_fn(conc_out, conc_label) + l1lambda*l1\n",
    "    return conc_out, conc_label, val_loss.data # We return all the outputs, all the labels and the global loss\n",
    "\n",
    "\n",
    "def train_func(First_net , train_dataloader ,val_dataloader , device, loss_fn, optimizer,verbose = 1, num_epochs=50, m=None, disable_tqdm=True,l1lambda=0 ):\n",
    "    ### TRAINING!\n",
    "\n",
    "    train_losses = []\n",
    "    val_losses = []\n",
    "    \n",
    "    tqdm_upper = True\n",
    "    if verbose == 0 :\n",
    "        tqdm_upper = False\n",
    "        \n",
    "    for epoch in tqdm(range(num_epochs),position=0,leave=True,disable=tqdm_upper):\n",
    "        if verbose >= 1:\n",
    "            print(f\"EPOCH {epoch + 1}/{num_epochs}\")\n",
    "        ### Training \n",
    "        train_epoch(\n",
    "            net=First_net,\n",
    "            device=device, \n",
    "            dataloader=train_dataloader, \n",
    "            loss_fn=loss_fn, \n",
    "            optimizer=optimizer,\n",
    "            verbose=verbose,m=m,\n",
    "            disable_tqdm=disable_tqdm,\n",
    "            l1lambda=l1lambda)\n",
    "\n",
    "        ### Train loss \n",
    "        _, _, train_loss = test_epoch(\n",
    "            net=First_net,\n",
    "            device=device, \n",
    "            dataloader=train_dataloader, \n",
    "            loss_fn=loss_fn,m=m,\n",
    "            disable_tqdm=disable_tqdm,\n",
    "            l1lambda=l1lambda)\n",
    "\n",
    "        # Print Train loss\n",
    "        if verbose >=1:\n",
    "            print(f\"\\n\\n\\t TRAIN - EPOCH {epoch + 1}/{num_epochs} - train loss: {train_loss}\\n\\n\")\n",
    "        train_losses.append(train_loss)\n",
    "\n",
    "        ### Validation \n",
    "        _, _, val_loss = test_epoch(\n",
    "            net=First_net,\n",
    "            device=device, \n",
    "            dataloader=val_dataloader, \n",
    "            loss_fn=loss_fn,m=m,\n",
    "            disable_tqdm=disable_tqdm)\n",
    "\n",
    "        # Print Validation loss\n",
    "        if verbose>=1:\n",
    "            print(f\"\\n\\n\\t VALIDATION - EPOCH {epoch + 1}/{num_epochs} - val loss: {val_loss}\\n\\n\")\n",
    "        val_losses.append(val_loss)\n",
    "        \n",
    "    return train_losses, val_losses\n"
   ]
  },
  {
   "cell_type": "markdown",
   "metadata": {},
   "source": [
    "To pass the dataset to the network durning training the choice to divide it into batches has been taken. this will both speed up the training and help with avoiding overfitting. The batches will be 8 samples each and will be random shuffled each time."
   ]
  },
  {
   "cell_type": "markdown",
   "metadata": {},
   "source": [
    "We define here both the loss function and the algorithm that will try to optimize it. For regression problems the usual loss function chosen is the **mean squared error**, which is just the squaere of the difference between the prediciton and the real result. Fot the optinimizer the Adam algorithm is chosen, since in most machine learning application seems to be the best performing one. "
   ]
  },
  {
   "cell_type": "code",
   "execution_count": 171,
   "metadata": {
    "colab": {
     "base_uri": "https://localhost:8080/"
    },
    "id": "UJmkfYW9Kfdo",
    "outputId": "1b62cd70-e010-4b73-8a3f-752a5a53d07c"
   },
   "outputs": [
    {
     "name": "stdout",
     "output_type": "stream",
     "text": [
      "Training device: cpu\n",
      "Network initialized\n"
     ]
    },
    {
     "data": {
      "text/plain": [
       "tensor([-0.9558], grad_fn=<AddBackward0>)"
      ]
     },
     "execution_count": 171,
     "metadata": {},
     "output_type": "execute_result"
    }
   ],
   "source": [
    "\n",
    "\n",
    "train_dataloader = DataLoader(train_data , batch_size=8           , shuffle=True  , num_workers=0)\n",
    "val_dataloader   = DataLoader(val_data   , batch_size=len(val_data) , shuffle=False , num_workers=0)\n",
    "\n",
    "device = torch.device(\"cuda\") if torch.cuda.is_available() else torch.device(\"cpu\")\n",
    "print(f\"Training device: {device}\")\n",
    "\n",
    "\n",
    "torch.manual_seed(0)\n",
    "Ni = 1\n",
    "Nh1 = 64\n",
    "Nh2 = 64\n",
    "No = 1\n",
    "act = nn.Sigmoid()\n",
    "net = Net(Ni, Nh1, Nh2, No, act , init_func=nn.init.xavier_normal_)\n",
    "net.to(device)\n",
    "\n",
    "loss_fn = nn.MSELoss()\n",
    "\n",
    "optimizer = optim.Adam(net.parameters(), lr=2e-3)\n",
    "\n",
    "net(train_data[78][0].to(device))\n"
   ]
  },
  {
   "cell_type": "code",
   "execution_count": 172,
   "metadata": {
    "colab": {
     "base_uri": "https://localhost:8080/"
    },
    "id": "NqNUBv8kkN0O",
    "outputId": "97e6514a-55d9-48d9-b4be-6a8973ad605d"
   },
   "outputs": [
    {
     "name": "stderr",
     "output_type": "stream",
     "text": [
      "100%|████████████████████████████████████████████████████████████████████████████████| 400/400 [00:13<00:00, 29.30it/s]\n"
     ]
    }
   ],
   "source": [
    "train_loss_log, val_loss_log = train_func(net,train_dataloader,val_dataloader,device,\n",
    "                                          loss_fn, optimizer, verbose=0,\n",
    "                                          num_epochs=400, disable_tqdm=True, l1lambda=1e-4)"
   ]
  },
  {
   "cell_type": "code",
   "execution_count": 173,
   "metadata": {
    "colab": {
     "base_uri": "https://localhost:8080/",
     "height": 265
    },
    "id": "_FbbZH9cl4P1",
    "outputId": "2e4f02d4-27e5-41ca-adc1-27c9ba816819"
   },
   "outputs": [
    {
     "data": {
      "image/png": "[encoded data removed]",
      "text/plain": [
       "<Figure size 432x288 with 1 Axes>"
      ]
     },
     "metadata": {
      "needs_background": "light"
     },
     "output_type": "display_data"
    }
   ],
   "source": [
    "plt.plot(train_loss_log, label = 'MSE loss over train data')\n",
    "plt.plot(val_loss_log, label = 'MSE loss over validation data')\n",
    "plt.xlabel('Epoch')\n",
    "plt.ylabel('MSEloss')\n",
    "plt.title('Network performance during training')\n",
    "plt.legend()\n",
    "plt.grid()\n",
    "plt.show()"
   ]
  },
  {
   "cell_type": "markdown",
   "metadata": {},
   "source": [
    "As we can see the network is training as we expected. We do not see any strong indication of overfitting and so the order of magnitude of the neuron chosen is adeguate. For this training a L1 type of regularization was used and seems to be helping."
   ]
  },
  {
   "cell_type": "markdown",
   "metadata": {},
   "source": [
    "## Random search\n",
    "\n",
    "To tune the hyperparamers, a random search approach was chosen, where some user defined parameters are randomly chosen at each iteration from a small list. This method of search has a few advantages over, for example, a Grid Search approach, since it does have less biases and the resolution of the search can be imrpoved on the fly.\n",
    "\n",
    "To actually compare different hyperparameters realizations, we use a Cross Validation setup, which is a tecnique that divides the training dataset into $k$ parts, and in turns each of these \"folds\" will be part of the training or the validation dataset. This ensures that no bias exist in the choice of the best hyperparametr given by the arbitrary choice of validation and training set. The actual function used in this setup are:\n",
    "\n",
    "+ `KFoldDivider` divides the dataset into `n_folds` datasets\n",
    "+ `RandomSearch` actually performs the search. Some parameters are preselected and the function performs the cross validation setup. It returns a dataframe containing the paramteres of the train, the mean loss oveer the cross validation and the loss evolution during training for each fold."
   ]
  },
  {
   "cell_type": "code",
   "execution_count": 179,
   "metadata": {},
   "outputs": [],
   "source": [
    "def KFoldDivider(train_data, train_data_size , n_folds=4):\n",
    "    \"\"\"Function to divide in different folds the train set\"\"\"\n",
    "    test_size = int(train_data_size/n_folds)\n",
    "    \n",
    "    cvs = []\n",
    "    \n",
    "    total_data = train_data\n",
    "    \n",
    "    for i in range(n_folds-1):\n",
    "    \n",
    "        total_data , cv_data = train_test_split(total_data, test_size=test_size, shuffle=True, random_state=0)\n",
    "        \n",
    "        cvs.append(cv_data)\n",
    "    cvs.append(total_data)\n",
    "    \n",
    "    return cvs\n",
    "    "
   ]
  },
  {
   "cell_type": "code",
   "execution_count": 180,
   "metadata": {
    "colab": {
     "base_uri": "https://localhost:8080/"
    },
    "id": "y_E9v_SwPsEO",
    "outputId": "1c3856ec-f3cd-477f-d452-381c2c227070",
    "tags": []
   },
   "outputs": [],
   "source": [
    "def RandomSearch(params_to_choose, Net_class, train_dataset, n_folds = 4 , n_points = 5):\n",
    "    \"\"\"random search of hyper parameters\"\"\"\n",
    "\n",
    "    cvs = KFoldDivider(train_dataset,len(train_dataset),n_folds)\n",
    "\n",
    "    result_df_columns = ['mean_loss'] + list(params_to_choose.keys()) + ['losslog_cv' + str(i) for i in range(n_folds)] \n",
    "\n",
    "    results = pd.DataFrame(np.zeros((n_points,len(result_df_columns))),\n",
    "                           columns = result_df_columns, dtype=object)\n",
    "\n",
    "    Ni , No = 1 , 1\n",
    "    act = nn.Sigmoid()    \n",
    "\n",
    "    for i in range(n_points):\n",
    "\n",
    "        params   = {}\n",
    "        for param in params_to_choose.keys():\n",
    "            params[param] = np.random.choice(params_to_choose[param])\n",
    "\n",
    "            results[param][i] = params[param]\n",
    "\n",
    "        print('ITERATION N ' + str(i+1))\n",
    "        print('PARAMS:\\n' )\n",
    "        for value,name in zip(params.values(),params.keys()):\n",
    "            print(name,'     \\t :',value)\n",
    "\n",
    "        val_cv_losses = []\n",
    "\n",
    "        mean_loss = 0\n",
    "\n",
    "        for j in range(n_folds):\n",
    "\n",
    "            train_cv = cvs.copy()\n",
    "            val_cv   = train_cv.pop(j)\n",
    "            train_cv = pd.concat(train_cv)\n",
    "\n",
    "            train_data = pdDataset( train_cv , transform=transform)\n",
    "            val_data   = pdDataset( val_cv   , transform=transform)\n",
    "\n",
    "\n",
    "            train_dataloader = DataLoader(train_data , batch_size=8             , shuffle=True  , num_workers=0)\n",
    "            val_dataloader   = DataLoader(val_data   , batch_size=len(val_data) , shuffle=False , num_workers=0)  \n",
    "\n",
    "\n",
    "            Nh1,Nh2   = params['Nh1'] , params['Nh2']\n",
    "            init_func = params['init_func']\n",
    "            p_drop    = params['p_drop']\n",
    "            net       = Net_class(Ni, Nh1, Nh2, No, act , init_func=init_func)\n",
    "            net.to(device)\n",
    "\n",
    "            loss_fn = params['loss_fn']\n",
    "\n",
    "            optimizer = params['optimizer']\n",
    "            optimizer = optimizer(net.parameters(),lr=params['lr'])\n",
    "\n",
    "            _ , val_loss_log = train_func(net,train_dataloader,val_dataloader,device,\n",
    "                                          loss_fn, optimizer, verbose=0,\n",
    "                                          num_epochs = params['num_epochs'], disable_tqdm=True,\n",
    "                                          l1lambda=params['l1lambda'])\n",
    "\n",
    "            results['losslog_cv' + str(j) ][i] = val_loss_log\n",
    "            mean_loss += val_loss_log[-1]     \n",
    "\n",
    "        results['mean_loss'][i] = mean_loss/n_folds\n",
    "    return results"
   ]
  },
  {
   "cell_type": "markdown",
   "metadata": {},
   "source": [
    "The parameter that this search is aimed at optimizing are:\n",
    "+ The sizes of the 2 hidden layers\n",
    "+ The optimal inizialization function, between the uniform, the normal and the xavier normal functions\n",
    "+ The dropout probabiity\n",
    "+ The optimizer, with a choice between Adam, Adamax or a simple SGD\n",
    "+ The learning rate\n",
    "+ The total number of epochs\n",
    "+ The L1 regularization term $\\lambda$"
   ]
  },
  {
   "cell_type": "code",
   "execution_count": 181,
   "metadata": {},
   "outputs": [],
   "source": [
    "params_to_choose = {  'Nh1'       : [64,128,256],\n",
    "                      'Nh2'       : [64,128,256],\n",
    "                      'init_func' : [nn.init.xavier_normal_,nn.init.uniform_,nn.init.normal_],\n",
    "                      'p_drop'    : [0.0,0.1,0.3,0.4],\n",
    "                      'loss_fn'   : [nn.MSELoss()],\n",
    "                      'optimizer' : [optim.Adam, optim.SGD, optim.Adamax ],\n",
    "                      'lr'        : [1e-4,1e-3,1e-2],\n",
    "                      'num_epochs': [300,400],\n",
    "                      'l1lambda'  : [1e-4,1e-5,0] }"
   ]
  },
  {
   "cell_type": "code",
   "execution_count": 182,
   "metadata": {},
   "outputs": [
    {
     "name": "stdout",
     "output_type": "stream",
     "text": [
      "ITERATION N 1\n",
      "PARAMS:\n",
      "\n",
      "Nh1      \t : 256\n",
      "Nh2      \t : 128\n",
      "init_func      \t : <function uniform_ at 0x0000016806B36048>\n",
      "p_drop      \t : 0.0\n",
      "loss_fn      \t : MSELoss()\n",
      "optimizer      \t : <class 'torch.optim.sgd.SGD'>\n",
      "lr      \t : 0.01\n",
      "num_epochs      \t : 400\n",
      "l1lambda      \t : 1e-05\n",
      "Network initialized\n"
     ]
    },
    {
     "name": "stderr",
     "output_type": "stream",
     "text": [
      "100%|████████████████████████████████████████████████████████████████████████████████| 400/400 [00:16<00:00, 23.64it/s]\n"
     ]
    },
    {
     "name": "stdout",
     "output_type": "stream",
     "text": [
      "Network initialized\n"
     ]
    },
    {
     "name": "stderr",
     "output_type": "stream",
     "text": [
      "100%|████████████████████████████████████████████████████████████████████████████████| 400/400 [00:17<00:00, 23.40it/s]\n"
     ]
    },
    {
     "name": "stdout",
     "output_type": "stream",
     "text": [
      "Network initialized\n"
     ]
    },
    {
     "name": "stderr",
     "output_type": "stream",
     "text": [
      "100%|████████████████████████████████████████████████████████████████████████████████| 400/400 [00:18<00:00, 21.79it/s]\n"
     ]
    },
    {
     "name": "stdout",
     "output_type": "stream",
     "text": [
      "Network initialized\n"
     ]
    },
    {
     "name": "stderr",
     "output_type": "stream",
     "text": [
      "100%|████████████████████████████████████████████████████████████████████████████████| 400/400 [00:18<00:00, 21.57it/s]\n"
     ]
    },
    {
     "name": "stdout",
     "output_type": "stream",
     "text": [
      "ITERATION N 2\n",
      "PARAMS:\n",
      "\n",
      "Nh1      \t : 64\n",
      "Nh2      \t : 64\n",
      "init_func      \t : <function normal_ at 0x0000016806B360D0>\n",
      "p_drop      \t : 0.3\n",
      "loss_fn      \t : MSELoss()\n",
      "optimizer      \t : <class 'torch.optim.adam.Adam'>\n",
      "lr      \t : 0.01\n",
      "num_epochs      \t : 300\n",
      "l1lambda      \t : 0.0\n",
      "Network initialized\n"
     ]
    },
    {
     "name": "stderr",
     "output_type": "stream",
     "text": [
      "100%|████████████████████████████████████████████████████████████████████████████████| 300/300 [00:11<00:00, 26.06it/s]\n"
     ]
    },
    {
     "name": "stdout",
     "output_type": "stream",
     "text": [
      "Network initialized\n"
     ]
    },
    {
     "name": "stderr",
     "output_type": "stream",
     "text": [
      "100%|████████████████████████████████████████████████████████████████████████████████| 300/300 [00:11<00:00, 27.26it/s]\n"
     ]
    },
    {
     "name": "stdout",
     "output_type": "stream",
     "text": [
      "Network initialized\n"
     ]
    },
    {
     "name": "stderr",
     "output_type": "stream",
     "text": [
      "100%|████████████████████████████████████████████████████████████████████████████████| 300/300 [00:11<00:00, 27.12it/s]\n"
     ]
    },
    {
     "name": "stdout",
     "output_type": "stream",
     "text": [
      "Network initialized\n"
     ]
    },
    {
     "name": "stderr",
     "output_type": "stream",
     "text": [
      "100%|████████████████████████████████████████████████████████████████████████████████| 300/300 [00:10<00:00, 27.45it/s]\n"
     ]
    },
    {
     "name": "stdout",
     "output_type": "stream",
     "text": [
      "ITERATION N 3\n",
      "PARAMS:\n",
      "\n",
      "Nh1      \t : 64\n",
      "Nh2      \t : 128\n",
      "init_func      \t : <function normal_ at 0x0000016806B360D0>\n",
      "p_drop      \t : 0.0\n",
      "loss_fn      \t : MSELoss()\n",
      "optimizer      \t : <class 'torch.optim.adam.Adam'>\n",
      "lr      \t : 0.001\n",
      "num_epochs      \t : 400\n",
      "l1lambda      \t : 0.0001\n",
      "Network initialized\n"
     ]
    },
    {
     "name": "stderr",
     "output_type": "stream",
     "text": [
      "100%|████████████████████████████████████████████████████████████████████████████████| 400/400 [00:15<00:00, 25.52it/s]\n"
     ]
    },
    {
     "name": "stdout",
     "output_type": "stream",
     "text": [
      "Network initialized\n"
     ]
    },
    {
     "name": "stderr",
     "output_type": "stream",
     "text": [
      "100%|████████████████████████████████████████████████████████████████████████████████| 400/400 [00:15<00:00, 25.91it/s]\n"
     ]
    },
    {
     "name": "stdout",
     "output_type": "stream",
     "text": [
      "Network initialized\n"
     ]
    },
    {
     "name": "stderr",
     "output_type": "stream",
     "text": [
      "100%|████████████████████████████████████████████████████████████████████████████████| 400/400 [00:15<00:00, 25.68it/s]\n"
     ]
    },
    {
     "name": "stdout",
     "output_type": "stream",
     "text": [
      "Network initialized\n"
     ]
    },
    {
     "name": "stderr",
     "output_type": "stream",
     "text": [
      "100%|████████████████████████████████████████████████████████████████████████████████| 400/400 [00:15<00:00, 25.02it/s]\n"
     ]
    },
    {
     "name": "stdout",
     "output_type": "stream",
     "text": [
      "ITERATION N 4\n",
      "PARAMS:\n",
      "\n",
      "Nh1      \t : 64\n",
      "Nh2      \t : 128\n",
      "init_func      \t : <function normal_ at 0x0000016806B360D0>\n",
      "p_drop      \t : 0.4\n",
      "loss_fn      \t : MSELoss()\n",
      "optimizer      \t : <class 'torch.optim.adamax.Adamax'>\n",
      "lr      \t : 0.01\n",
      "num_epochs      \t : 400\n",
      "l1lambda      \t : 0.0\n",
      "Network initialized\n"
     ]
    },
    {
     "name": "stderr",
     "output_type": "stream",
     "text": [
      "100%|████████████████████████████████████████████████████████████████████████████████| 400/400 [00:16<00:00, 24.57it/s]\n"
     ]
    },
    {
     "name": "stdout",
     "output_type": "stream",
     "text": [
      "Network initialized\n"
     ]
    },
    {
     "name": "stderr",
     "output_type": "stream",
     "text": [
      "100%|████████████████████████████████████████████████████████████████████████████████| 400/400 [00:15<00:00, 25.02it/s]\n"
     ]
    },
    {
     "name": "stdout",
     "output_type": "stream",
     "text": [
      "Network initialized\n"
     ]
    },
    {
     "name": "stderr",
     "output_type": "stream",
     "text": [
      "100%|████████████████████████████████████████████████████████████████████████████████| 400/400 [00:15<00:00, 25.03it/s]\n"
     ]
    },
    {
     "name": "stdout",
     "output_type": "stream",
     "text": [
      "Network initialized\n"
     ]
    },
    {
     "name": "stderr",
     "output_type": "stream",
     "text": [
      "100%|████████████████████████████████████████████████████████████████████████████████| 400/400 [00:15<00:00, 25.24it/s]\n"
     ]
    },
    {
     "name": "stdout",
     "output_type": "stream",
     "text": [
      "ITERATION N 5\n",
      "PARAMS:\n",
      "\n",
      "Nh1      \t : 256\n",
      "Nh2      \t : 64\n",
      "init_func      \t : <function uniform_ at 0x0000016806B36048>\n",
      "p_drop      \t : 0.3\n",
      "loss_fn      \t : MSELoss()\n",
      "optimizer      \t : <class 'torch.optim.adamax.Adamax'>\n",
      "lr      \t : 0.0001\n",
      "num_epochs      \t : 300\n",
      "l1lambda      \t : 0.0\n",
      "Network initialized\n"
     ]
    },
    {
     "name": "stderr",
     "output_type": "stream",
     "text": [
      "100%|████████████████████████████████████████████████████████████████████████████████| 300/300 [00:12<00:00, 23.22it/s]\n"
     ]
    },
    {
     "name": "stdout",
     "output_type": "stream",
     "text": [
      "Network initialized\n"
     ]
    },
    {
     "name": "stderr",
     "output_type": "stream",
     "text": [
      "100%|████████████████████████████████████████████████████████████████████████████████| 300/300 [00:12<00:00, 23.71it/s]\n"
     ]
    },
    {
     "name": "stdout",
     "output_type": "stream",
     "text": [
      "Network initialized\n"
     ]
    },
    {
     "name": "stderr",
     "output_type": "stream",
     "text": [
      "100%|████████████████████████████████████████████████████████████████████████████████| 300/300 [00:12<00:00, 23.17it/s]\n"
     ]
    },
    {
     "name": "stdout",
     "output_type": "stream",
     "text": [
      "Network initialized\n"
     ]
    },
    {
     "name": "stderr",
     "output_type": "stream",
     "text": [
      "100%|████████████████████████████████████████████████████████████████████████████████| 300/300 [00:13<00:00, 22.70it/s]\n"
     ]
    },
    {
     "name": "stdout",
     "output_type": "stream",
     "text": [
      "ITERATION N 6\n",
      "PARAMS:\n",
      "\n",
      "Nh1      \t : 256\n",
      "Nh2      \t : 128\n",
      "init_func      \t : <function normal_ at 0x0000016806B360D0>\n",
      "p_drop      \t : 0.0\n",
      "loss_fn      \t : MSELoss()\n",
      "optimizer      \t : <class 'torch.optim.adamax.Adamax'>\n",
      "lr      \t : 0.01\n",
      "num_epochs      \t : 400\n",
      "l1lambda      \t : 1e-05\n",
      "Network initialized\n"
     ]
    },
    {
     "name": "stderr",
     "output_type": "stream",
     "text": [
      "100%|████████████████████████████████████████████████████████████████████████████████| 400/400 [00:20<00:00, 19.99it/s]\n"
     ]
    },
    {
     "name": "stdout",
     "output_type": "stream",
     "text": [
      "Network initialized\n"
     ]
    },
    {
     "name": "stderr",
     "output_type": "stream",
     "text": [
      "100%|████████████████████████████████████████████████████████████████████████████████| 400/400 [00:20<00:00, 19.77it/s]\n"
     ]
    },
    {
     "name": "stdout",
     "output_type": "stream",
     "text": [
      "Network initialized\n"
     ]
    },
    {
     "name": "stderr",
     "output_type": "stream",
     "text": [
      "100%|████████████████████████████████████████████████████████████████████████████████| 400/400 [00:20<00:00, 19.17it/s]\n"
     ]
    },
    {
     "name": "stdout",
     "output_type": "stream",
     "text": [
      "Network initialized\n"
     ]
    },
    {
     "name": "stderr",
     "output_type": "stream",
     "text": [
      "100%|████████████████████████████████████████████████████████████████████████████████| 400/400 [00:20<00:00, 19.57it/s]\n"
     ]
    },
    {
     "name": "stdout",
     "output_type": "stream",
     "text": [
      "ITERATION N 7\n",
      "PARAMS:\n",
      "\n",
      "Nh1      \t : 128\n",
      "Nh2      \t : 128\n",
      "init_func      \t : <function xavier_normal_ at 0x0000016806B36598>\n",
      "p_drop      \t : 0.1\n",
      "loss_fn      \t : MSELoss()\n",
      "optimizer      \t : <class 'torch.optim.adam.Adam'>\n",
      "lr      \t : 0.01\n",
      "num_epochs      \t : 400\n",
      "l1lambda      \t : 0.0\n",
      "Network initialized\n"
     ]
    },
    {
     "name": "stderr",
     "output_type": "stream",
     "text": [
      "100%|████████████████████████████████████████████████████████████████████████████████| 400/400 [00:16<00:00, 24.59it/s]\n"
     ]
    },
    {
     "name": "stdout",
     "output_type": "stream",
     "text": [
      "Network initialized\n"
     ]
    },
    {
     "name": "stderr",
     "output_type": "stream",
     "text": [
      "100%|████████████████████████████████████████████████████████████████████████████████| 400/400 [00:16<00:00, 24.92it/s]\n"
     ]
    },
    {
     "name": "stdout",
     "output_type": "stream",
     "text": [
      "Network initialized\n"
     ]
    },
    {
     "name": "stderr",
     "output_type": "stream",
     "text": [
      "100%|████████████████████████████████████████████████████████████████████████████████| 400/400 [00:16<00:00, 23.64it/s]\n"
     ]
    },
    {
     "name": "stdout",
     "output_type": "stream",
     "text": [
      "Network initialized\n"
     ]
    },
    {
     "name": "stderr",
     "output_type": "stream",
     "text": [
      "100%|████████████████████████████████████████████████████████████████████████████████| 400/400 [00:17<00:00, 22.81it/s]\n"
     ]
    },
    {
     "name": "stdout",
     "output_type": "stream",
     "text": [
      "ITERATION N 8\n",
      "PARAMS:\n",
      "\n",
      "Nh1      \t : 256\n",
      "Nh2      \t : 64\n",
      "init_func      \t : <function xavier_normal_ at 0x0000016806B36598>\n",
      "p_drop      \t : 0.0\n",
      "loss_fn      \t : MSELoss()\n",
      "optimizer      \t : <class 'torch.optim.adamax.Adamax'>\n",
      "lr      \t : 0.01\n",
      "num_epochs      \t : 300\n",
      "l1lambda      \t : 0.0001\n",
      "Network initialized\n"
     ]
    },
    {
     "name": "stderr",
     "output_type": "stream",
     "text": [
      "100%|████████████████████████████████████████████████████████████████████████████████| 300/300 [00:13<00:00, 22.96it/s]\n"
     ]
    },
    {
     "name": "stdout",
     "output_type": "stream",
     "text": [
      "Network initialized\n"
     ]
    },
    {
     "name": "stderr",
     "output_type": "stream",
     "text": [
      "100%|████████████████████████████████████████████████████████████████████████████████| 300/300 [00:13<00:00, 22.85it/s]\n"
     ]
    },
    {
     "name": "stdout",
     "output_type": "stream",
     "text": [
      "Network initialized\n"
     ]
    },
    {
     "name": "stderr",
     "output_type": "stream",
     "text": [
      "100%|████████████████████████████████████████████████████████████████████████████████| 300/300 [00:12<00:00, 23.47it/s]\n"
     ]
    },
    {
     "name": "stdout",
     "output_type": "stream",
     "text": [
      "Network initialized\n"
     ]
    },
    {
     "name": "stderr",
     "output_type": "stream",
     "text": [
      "100%|████████████████████████████████████████████████████████████████████████████████| 300/300 [00:13<00:00, 23.07it/s]\n"
     ]
    },
    {
     "name": "stdout",
     "output_type": "stream",
     "text": [
      "ITERATION N 9\n",
      "PARAMS:\n",
      "\n",
      "Nh1      \t : 64\n",
      "Nh2      \t : 256\n",
      "init_func      \t : <function uniform_ at 0x0000016806B36048>\n",
      "p_drop      \t : 0.4\n",
      "loss_fn      \t : MSELoss()\n",
      "optimizer      \t : <class 'torch.optim.sgd.SGD'>\n",
      "lr      \t : 0.01\n",
      "num_epochs      \t : 300\n",
      "l1lambda      \t : 1e-05\n",
      "Network initialized\n"
     ]
    },
    {
     "name": "stderr",
     "output_type": "stream",
     "text": [
      "100%|████████████████████████████████████████████████████████████████████████████████| 300/300 [00:11<00:00, 25.25it/s]\n"
     ]
    },
    {
     "name": "stdout",
     "output_type": "stream",
     "text": [
      "Network initialized\n"
     ]
    },
    {
     "name": "stderr",
     "output_type": "stream",
     "text": [
      "100%|████████████████████████████████████████████████████████████████████████████████| 300/300 [00:11<00:00, 25.43it/s]\n"
     ]
    },
    {
     "name": "stdout",
     "output_type": "stream",
     "text": [
      "Network initialized\n"
     ]
    },
    {
     "name": "stderr",
     "output_type": "stream",
     "text": [
      "100%|████████████████████████████████████████████████████████████████████████████████| 300/300 [00:11<00:00, 25.20it/s]\n"
     ]
    },
    {
     "name": "stdout",
     "output_type": "stream",
     "text": [
      "Network initialized\n"
     ]
    },
    {
     "name": "stderr",
     "output_type": "stream",
     "text": [
      "100%|████████████████████████████████████████████████████████████████████████████████| 300/300 [00:11<00:00, 25.80it/s]\n"
     ]
    },
    {
     "name": "stdout",
     "output_type": "stream",
     "text": [
      "ITERATION N 10\n",
      "PARAMS:\n",
      "\n",
      "Nh1      \t : 128\n",
      "Nh2      \t : 64\n",
      "init_func      \t : <function normal_ at 0x0000016806B360D0>\n",
      "p_drop      \t : 0.0\n",
      "loss_fn      \t : MSELoss()\n",
      "optimizer      \t : <class 'torch.optim.sgd.SGD'>\n",
      "lr      \t : 0.01\n",
      "num_epochs      \t : 300\n",
      "l1lambda      \t : 0.0001\n",
      "Network initialized\n"
     ]
    },
    {
     "name": "stderr",
     "output_type": "stream",
     "text": [
      "100%|████████████████████████████████████████████████████████████████████████████████| 300/300 [00:11<00:00, 27.00it/s]\n"
     ]
    },
    {
     "name": "stdout",
     "output_type": "stream",
     "text": [
      "Network initialized\n"
     ]
    },
    {
     "name": "stderr",
     "output_type": "stream",
     "text": [
      "100%|████████████████████████████████████████████████████████████████████████████████| 300/300 [00:10<00:00, 27.54it/s]\n"
     ]
    },
    {
     "name": "stdout",
     "output_type": "stream",
     "text": [
      "Network initialized\n"
     ]
    },
    {
     "name": "stderr",
     "output_type": "stream",
     "text": [
      "100%|████████████████████████████████████████████████████████████████████████████████| 300/300 [00:10<00:00, 27.78it/s]\n"
     ]
    },
    {
     "name": "stdout",
     "output_type": "stream",
     "text": [
      "Network initialized\n"
     ]
    },
    {
     "name": "stderr",
     "output_type": "stream",
     "text": [
      "100%|████████████████████████████████████████████████████████████████████████████████| 300/300 [00:10<00:00, 27.46it/s]\n"
     ]
    }
   ],
   "source": [
    "results = RandomSearch(params_to_choose,Net,train_df,n_points=10)"
   ]
  },
  {
   "cell_type": "markdown",
   "metadata": {},
   "source": [
    "### Best results, final train &  test"
   ]
  },
  {
   "cell_type": "markdown",
   "metadata": {},
   "source": [
    "These are the best results of the random search, so now we will perform one last training of the network with these parameters.\n",
    "\n",
    "The Adam class of optimizers results to be the best suited for achieving the wanted result. With decently high learning rates. Introducing dropout also helps to generalize more the results and achieve better performance over the validation. "
   ]
  },
  {
   "cell_type": "code",
   "execution_count": 185,
   "metadata": {},
   "outputs": [
    {
     "data": {
      "text/html": [
       "<div>\n",
       "<style scoped>\n",
       "    .dataframe tbody tr th:only-of-type {\n",
       "        vertical-align: middle;\n",
       "    }\n",
       "\n",
       "    .dataframe tbody tr th {\n",
       "        vertical-align: top;\n",
       "    }\n",
       "\n",
       "    .dataframe thead th {\n",
       "        text-align: right;\n",
       "    }\n",
       "</style>\n",
       "<table border=\"1\" class=\"dataframe\">\n",
       "  <thead>\n",
       "    <tr style=\"text-align: right;\">\n",
       "      <th></th>\n",
       "      <th>mean_loss</th>\n",
       "      <th>Nh1</th>\n",
       "      <th>Nh2</th>\n",
       "      <th>init_func</th>\n",
       "      <th>p_drop</th>\n",
       "      <th>loss_fn</th>\n",
       "      <th>optimizer</th>\n",
       "      <th>lr</th>\n",
       "      <th>num_epochs</th>\n",
       "      <th>l1lambda</th>\n",
       "      <th>losslog_cv0</th>\n",
       "      <th>losslog_cv1</th>\n",
       "      <th>losslog_cv2</th>\n",
       "      <th>losslog_cv3</th>\n",
       "    </tr>\n",
       "  </thead>\n",
       "  <tbody>\n",
       "    <tr>\n",
       "      <th>0</th>\n",
       "      <td>tensor(22.4553)</td>\n",
       "      <td>256</td>\n",
       "      <td>128</td>\n",
       "      <td>&lt;function uniform_ at 0x0000016806B36048&gt;</td>\n",
       "      <td>0</td>\n",
       "      <td>MSELoss()</td>\n",
       "      <td>&lt;class 'torch.optim.sgd.SGD'&gt;</td>\n",
       "      <td>0.01</td>\n",
       "      <td>400</td>\n",
       "      <td>1e-05</td>\n",
       "      <td>[tensor(32816996.), tensor(3.2884e+11), tensor...</td>\n",
       "      <td>[tensor(20607816.), tensor(1.6517e+11), tensor...</td>\n",
       "      <td>[tensor(40474000.), tensor(2.1271e+08), tensor...</td>\n",
       "      <td>[tensor(24735944.), tensor(3.8782e+11), tensor...</td>\n",
       "    </tr>\n",
       "    <tr>\n",
       "      <th>1</th>\n",
       "      <td>tensor(1.0399)</td>\n",
       "      <td>64</td>\n",
       "      <td>64</td>\n",
       "      <td>&lt;function normal_ at 0x0000016806B360D0&gt;</td>\n",
       "      <td>0.3</td>\n",
       "      <td>MSELoss()</td>\n",
       "      <td>&lt;class 'torch.optim.adam.Adam'&gt;</td>\n",
       "      <td>0.01</td>\n",
       "      <td>300</td>\n",
       "      <td>0</td>\n",
       "      <td>[tensor(7.7006), tensor(2.7313), tensor(3.6973...</td>\n",
       "      <td>[tensor(5.6784), tensor(4.6176), tensor(3.0429...</td>\n",
       "      <td>[tensor(7.6928), tensor(8.0291), tensor(5.2533...</td>\n",
       "      <td>[tensor(5.8602), tensor(3.7069), tensor(4.0672...</td>\n",
       "    </tr>\n",
       "    <tr>\n",
       "      <th>2</th>\n",
       "      <td>tensor(2.2932)</td>\n",
       "      <td>64</td>\n",
       "      <td>128</td>\n",
       "      <td>&lt;function normal_ at 0x0000016806B360D0&gt;</td>\n",
       "      <td>0</td>\n",
       "      <td>MSELoss()</td>\n",
       "      <td>&lt;class 'torch.optim.adam.Adam'&gt;</td>\n",
       "      <td>0.001</td>\n",
       "      <td>400</td>\n",
       "      <td>0.0001</td>\n",
       "      <td>[tensor(9.7768), tensor(5.5109), tensor(5.1584...</td>\n",
       "      <td>[tensor(15.2457), tensor(7.8334), tensor(4.168...</td>\n",
       "      <td>[tensor(10.3539), tensor(9.8305), tensor(9.366...</td>\n",
       "      <td>[tensor(10.2001), tensor(4.5964), tensor(3.386...</td>\n",
       "    </tr>\n",
       "    <tr>\n",
       "      <th>3</th>\n",
       "      <td>tensor(2.2665)</td>\n",
       "      <td>64</td>\n",
       "      <td>128</td>\n",
       "      <td>&lt;function normal_ at 0x0000016806B360D0&gt;</td>\n",
       "      <td>0.4</td>\n",
       "      <td>MSELoss()</td>\n",
       "      <td>&lt;class 'torch.optim.adamax.Adamax'&gt;</td>\n",
       "      <td>0.01</td>\n",
       "      <td>400</td>\n",
       "      <td>0</td>\n",
       "      <td>[tensor(14.6963), tensor(7.3965), tensor(3.846...</td>\n",
       "      <td>[tensor(7.2004), tensor(23.5619), tensor(36.57...</td>\n",
       "      <td>[tensor(7.0705), tensor(4.7309), tensor(6.1529...</td>\n",
       "      <td>[tensor(21.2965), tensor(8.8470), tensor(5.536...</td>\n",
       "    </tr>\n",
       "    <tr>\n",
       "      <th>4</th>\n",
       "      <td>tensor(275.6580)</td>\n",
       "      <td>256</td>\n",
       "      <td>64</td>\n",
       "      <td>&lt;function uniform_ at 0x0000016806B36048&gt;</td>\n",
       "      <td>0.3</td>\n",
       "      <td>MSELoss()</td>\n",
       "      <td>&lt;class 'torch.optim.adamax.Adamax'&gt;</td>\n",
       "      <td>0.0001</td>\n",
       "      <td>300</td>\n",
       "      <td>0</td>\n",
       "      <td>[tensor(933.5655), tensor(930.6863), tensor(92...</td>\n",
       "      <td>[tensor(587.8503), tensor(585.6218), tensor(58...</td>\n",
       "      <td>[tensor(941.4515), tensor(938.5405), tensor(93...</td>\n",
       "      <td>[tensor(987.1475), tensor(984.1672), tensor(98...</td>\n",
       "    </tr>\n",
       "    <tr>\n",
       "      <th>5</th>\n",
       "      <td>tensor(2.0537)</td>\n",
       "      <td>256</td>\n",
       "      <td>128</td>\n",
       "      <td>&lt;function normal_ at 0x0000016806B360D0&gt;</td>\n",
       "      <td>0</td>\n",
       "      <td>MSELoss()</td>\n",
       "      <td>&lt;class 'torch.optim.adamax.Adamax'&gt;</td>\n",
       "      <td>0.01</td>\n",
       "      <td>400</td>\n",
       "      <td>1e-05</td>\n",
       "      <td>[tensor(10.0963), tensor(10.3531), tensor(7.52...</td>\n",
       "      <td>[tensor(7.1752), tensor(6.4650), tensor(3.8608...</td>\n",
       "      <td>[tensor(6.5153), tensor(9.6138), tensor(11.407...</td>\n",
       "      <td>[tensor(7.9182), tensor(14.2248), tensor(19.79...</td>\n",
       "    </tr>\n",
       "    <tr>\n",
       "      <th>6</th>\n",
       "      <td>tensor(0.5461)</td>\n",
       "      <td>128</td>\n",
       "      <td>128</td>\n",
       "      <td>&lt;function xavier_normal_ at 0x0000016806B36598&gt;</td>\n",
       "      <td>0.1</td>\n",
       "      <td>MSELoss()</td>\n",
       "      <td>&lt;class 'torch.optim.adam.Adam'&gt;</td>\n",
       "      <td>0.01</td>\n",
       "      <td>400</td>\n",
       "      <td>0</td>\n",
       "      <td>[tensor(7.0528), tensor(4.8295), tensor(4.2833...</td>\n",
       "      <td>[tensor(5.2215), tensor(2.5539), tensor(2.1475...</td>\n",
       "      <td>[tensor(2.0023), tensor(1.8746), tensor(2.3219...</td>\n",
       "      <td>[tensor(3.9115), tensor(2.9501), tensor(2.5691...</td>\n",
       "    </tr>\n",
       "    <tr>\n",
       "      <th>7</th>\n",
       "      <td>tensor(0.5914)</td>\n",
       "      <td>256</td>\n",
       "      <td>64</td>\n",
       "      <td>&lt;function xavier_normal_ at 0x0000016806B36598&gt;</td>\n",
       "      <td>0</td>\n",
       "      <td>MSELoss()</td>\n",
       "      <td>&lt;class 'torch.optim.adamax.Adamax'&gt;</td>\n",
       "      <td>0.01</td>\n",
       "      <td>300</td>\n",
       "      <td>0.0001</td>\n",
       "      <td>[tensor(5.4983), tensor(5.4186), tensor(4.8170...</td>\n",
       "      <td>[tensor(3.7507), tensor(3.1109), tensor(3.1786...</td>\n",
       "      <td>[tensor(2.1517), tensor(1.8063), tensor(1.9559...</td>\n",
       "      <td>[tensor(3.8113), tensor(3.4130), tensor(3.2135...</td>\n",
       "    </tr>\n",
       "    <tr>\n",
       "      <th>8</th>\n",
       "      <td>tensor(3.0668)</td>\n",
       "      <td>64</td>\n",
       "      <td>256</td>\n",
       "      <td>&lt;function uniform_ at 0x0000016806B36048&gt;</td>\n",
       "      <td>0.4</td>\n",
       "      <td>MSELoss()</td>\n",
       "      <td>&lt;class 'torch.optim.sgd.SGD'&gt;</td>\n",
       "      <td>0.01</td>\n",
       "      <td>300</td>\n",
       "      <td>1e-05</td>\n",
       "      <td>[tensor(60.3527), tensor(17.0348), tensor(17.2...</td>\n",
       "      <td>[tensor(9.1240), tensor(10.7132), tensor(13.34...</td>\n",
       "      <td>[tensor(5025.0508), tensor(234.1752), tensor(6...</td>\n",
       "      <td>[tensor(192.7379), tensor(97.4864), tensor(82....</td>\n",
       "    </tr>\n",
       "    <tr>\n",
       "      <th>9</th>\n",
       "      <td>tensor(2.5781)</td>\n",
       "      <td>128</td>\n",
       "      <td>64</td>\n",
       "      <td>&lt;function normal_ at 0x0000016806B360D0&gt;</td>\n",
       "      <td>0</td>\n",
       "      <td>MSELoss()</td>\n",
       "      <td>&lt;class 'torch.optim.sgd.SGD'&gt;</td>\n",
       "      <td>0.01</td>\n",
       "      <td>300</td>\n",
       "      <td>0.0001</td>\n",
       "      <td>[tensor(5.7684), tensor(3.9982), tensor(4.0740...</td>\n",
       "      <td>[tensor(2.4189), tensor(14.1718), tensor(3.402...</td>\n",
       "      <td>[tensor(2.1454), tensor(5.5403), tensor(7.4291...</td>\n",
       "      <td>[tensor(5.8632), tensor(7.6631), tensor(5.4321...</td>\n",
       "    </tr>\n",
       "  </tbody>\n",
       "</table>\n",
       "</div>"
      ],
      "text/plain": [
       "          mean_loss  Nh1  Nh2  \\\n",
       "0   tensor(22.4553)  256  128   \n",
       "1    tensor(1.0399)   64   64   \n",
       "2    tensor(2.2932)   64  128   \n",
       "3    tensor(2.2665)   64  128   \n",
       "4  tensor(275.6580)  256   64   \n",
       "5    tensor(2.0537)  256  128   \n",
       "6    tensor(0.5461)  128  128   \n",
       "7    tensor(0.5914)  256   64   \n",
       "8    tensor(3.0668)   64  256   \n",
       "9    tensor(2.5781)  128   64   \n",
       "\n",
       "                                         init_func p_drop    loss_fn  \\\n",
       "0        <function uniform_ at 0x0000016806B36048>      0  MSELoss()   \n",
       "1         <function normal_ at 0x0000016806B360D0>    0.3  MSELoss()   \n",
       "2         <function normal_ at 0x0000016806B360D0>      0  MSELoss()   \n",
       "3         <function normal_ at 0x0000016806B360D0>    0.4  MSELoss()   \n",
       "4        <function uniform_ at 0x0000016806B36048>    0.3  MSELoss()   \n",
       "5         <function normal_ at 0x0000016806B360D0>      0  MSELoss()   \n",
       "6  <function xavier_normal_ at 0x0000016806B36598>    0.1  MSELoss()   \n",
       "7  <function xavier_normal_ at 0x0000016806B36598>      0  MSELoss()   \n",
       "8        <function uniform_ at 0x0000016806B36048>    0.4  MSELoss()   \n",
       "9         <function normal_ at 0x0000016806B360D0>      0  MSELoss()   \n",
       "\n",
       "                             optimizer      lr num_epochs l1lambda  \\\n",
       "0        <class 'torch.optim.sgd.SGD'>    0.01        400    1e-05   \n",
       "1      <class 'torch.optim.adam.Adam'>    0.01        300        0   \n",
       "2      <class 'torch.optim.adam.Adam'>   0.001        400   0.0001   \n",
       "3  <class 'torch.optim.adamax.Adamax'>    0.01        400        0   \n",
       "4  <class 'torch.optim.adamax.Adamax'>  0.0001        300        0   \n",
       "5  <class 'torch.optim.adamax.Adamax'>    0.01        400    1e-05   \n",
       "6      <class 'torch.optim.adam.Adam'>    0.01        400        0   \n",
       "7  <class 'torch.optim.adamax.Adamax'>    0.01        300   0.0001   \n",
       "8        <class 'torch.optim.sgd.SGD'>    0.01        300    1e-05   \n",
       "9        <class 'torch.optim.sgd.SGD'>    0.01        300   0.0001   \n",
       "\n",
       "                                         losslog_cv0  \\\n",
       "0  [tensor(32816996.), tensor(3.2884e+11), tensor...   \n",
       "1  [tensor(7.7006), tensor(2.7313), tensor(3.6973...   \n",
       "2  [tensor(9.7768), tensor(5.5109), tensor(5.1584...   \n",
       "3  [tensor(14.6963), tensor(7.3965), tensor(3.846...   \n",
       "4  [tensor(933.5655), tensor(930.6863), tensor(92...   \n",
       "5  [tensor(10.0963), tensor(10.3531), tensor(7.52...   \n",
       "6  [tensor(7.0528), tensor(4.8295), tensor(4.2833...   \n",
       "7  [tensor(5.4983), tensor(5.4186), tensor(4.8170...   \n",
       "8  [tensor(60.3527), tensor(17.0348), tensor(17.2...   \n",
       "9  [tensor(5.7684), tensor(3.9982), tensor(4.0740...   \n",
       "\n",
       "                                         losslog_cv1  \\\n",
       "0  [tensor(20607816.), tensor(1.6517e+11), tensor...   \n",
       "1  [tensor(5.6784), tensor(4.6176), tensor(3.0429...   \n",
       "2  [tensor(15.2457), tensor(7.8334), tensor(4.168...   \n",
       "3  [tensor(7.2004), tensor(23.5619), tensor(36.57...   \n",
       "4  [tensor(587.8503), tensor(585.6218), tensor(58...   \n",
       "5  [tensor(7.1752), tensor(6.4650), tensor(3.8608...   \n",
       "6  [tensor(5.2215), tensor(2.5539), tensor(2.1475...   \n",
       "7  [tensor(3.7507), tensor(3.1109), tensor(3.1786...   \n",
       "8  [tensor(9.1240), tensor(10.7132), tensor(13.34...   \n",
       "9  [tensor(2.4189), tensor(14.1718), tensor(3.402...   \n",
       "\n",
       "                                         losslog_cv2  \\\n",
       "0  [tensor(40474000.), tensor(2.1271e+08), tensor...   \n",
       "1  [tensor(7.6928), tensor(8.0291), tensor(5.2533...   \n",
       "2  [tensor(10.3539), tensor(9.8305), tensor(9.366...   \n",
       "3  [tensor(7.0705), tensor(4.7309), tensor(6.1529...   \n",
       "4  [tensor(941.4515), tensor(938.5405), tensor(93...   \n",
       "5  [tensor(6.5153), tensor(9.6138), tensor(11.407...   \n",
       "6  [tensor(2.0023), tensor(1.8746), tensor(2.3219...   \n",
       "7  [tensor(2.1517), tensor(1.8063), tensor(1.9559...   \n",
       "8  [tensor(5025.0508), tensor(234.1752), tensor(6...   \n",
       "9  [tensor(2.1454), tensor(5.5403), tensor(7.4291...   \n",
       "\n",
       "                                         losslog_cv3  \n",
       "0  [tensor(24735944.), tensor(3.8782e+11), tensor...  \n",
       "1  [tensor(5.8602), tensor(3.7069), tensor(4.0672...  \n",
       "2  [tensor(10.2001), tensor(4.5964), tensor(3.386...  \n",
       "3  [tensor(21.2965), tensor(8.8470), tensor(5.536...  \n",
       "4  [tensor(987.1475), tensor(984.1672), tensor(98...  \n",
       "5  [tensor(7.9182), tensor(14.2248), tensor(19.79...  \n",
       "6  [tensor(3.9115), tensor(2.9501), tensor(2.5691...  \n",
       "7  [tensor(3.8113), tensor(3.4130), tensor(3.2135...  \n",
       "8  [tensor(192.7379), tensor(97.4864), tensor(82....  \n",
       "9  [tensor(5.8632), tensor(7.6631), tensor(5.4321...  "
      ]
     },
     "execution_count": 185,
     "metadata": {},
     "output_type": "execute_result"
    }
   ],
   "source": [
    "results"
   ]
  },
  {
   "cell_type": "code",
   "execution_count": 183,
   "metadata": {},
   "outputs": [
    {
     "data": {
      "text/plain": [
       "mean_loss                                         tensor(0.5461)\n",
       "Nh1                                                          128\n",
       "Nh2                                                          128\n",
       "init_func        <function xavier_normal_ at 0x0000016806B36598>\n",
       "p_drop                                                       0.1\n",
       "loss_fn                                                MSELoss()\n",
       "optimizer                        <class 'torch.optim.adam.Adam'>\n",
       "lr                                                          0.01\n",
       "num_epochs                                                   400\n",
       "l1lambda                                                       0\n",
       "losslog_cv0    [tensor(7.0528), tensor(4.8295), tensor(4.2833...\n",
       "losslog_cv1    [tensor(5.2215), tensor(2.5539), tensor(2.1475...\n",
       "losslog_cv2    [tensor(2.0023), tensor(1.8746), tensor(2.3219...\n",
       "losslog_cv3    [tensor(3.9115), tensor(2.9501), tensor(2.5691...\n",
       "Name: 6, dtype: object"
      ]
     },
     "execution_count": 183,
     "metadata": {},
     "output_type": "execute_result"
    }
   ],
   "source": [
    "best_results = results.loc[results.mean_loss.apply(float).idxmin()]\n",
    "best_results"
   ]
  },
  {
   "cell_type": "code",
   "execution_count": 186,
   "metadata": {},
   "outputs": [
    {
     "name": "stdout",
     "output_type": "stream",
     "text": [
      "Training device: cpu\n",
      "Network initialized\n"
     ]
    },
    {
     "data": {
      "text/plain": [
       "tensor([-1.2289], grad_fn=<AddBackward0>)"
      ]
     },
     "execution_count": 186,
     "metadata": {},
     "output_type": "execute_result"
    }
   ],
   "source": [
    "train_dataloader = DataLoader(train_data , batch_size=8             , shuffle=True  , num_workers=0)\n",
    "val_dataloader   = DataLoader(val_data   , batch_size=len(val_data) , shuffle=False , num_workers=0)\n",
    "\n",
    "device = torch.device(\"cuda\") if torch.cuda.is_available() else torch.device(\"cpu\")\n",
    "print(f\"Training device: {device}\")\n",
    "\n",
    "\n",
    "torch.manual_seed(0)\n",
    "Ni = 1\n",
    "Nh1 = best_results.Nh1\n",
    "Nh2 = best_results.Nh2\n",
    "No = 1\n",
    "act = nn.Sigmoid()\n",
    "net = Net(Ni, Nh1, Nh2, No, act , init_func=best_results.init_func)\n",
    "net.to(device)\n",
    "\n",
    "loss_fn =  best_results.loss_fn\n",
    "\n",
    "optimizer = best_results.optimizer(net.parameters(), lr= best_results.lr)\n",
    "\n",
    "net(train_data[78][0].to(device))\n"
   ]
  },
  {
   "cell_type": "code",
   "execution_count": 187,
   "metadata": {},
   "outputs": [
    {
     "name": "stderr",
     "output_type": "stream",
     "text": [
      "100%|████████████████████████████████████████████████████████████████████████████████| 400/400 [00:15<00:00, 25.97it/s]\n"
     ]
    }
   ],
   "source": [
    "train_loss_log, val_loss_log = train_func(net,train_dataloader,val_dataloader,device,\n",
    "                                          loss_fn, optimizer, verbose=0,\n",
    "                                          num_epochs=best_results.num_epochs, disable_tqdm=True,\n",
    "                                          l1lambda=best_results.l1lambda)"
   ]
  },
  {
   "cell_type": "code",
   "execution_count": 188,
   "metadata": {},
   "outputs": [
    {
     "data": {
      "image/png": "[encoded data removed]",
      "text/plain": [
       "<Figure size 432x288 with 1 Axes>"
      ]
     },
     "metadata": {
      "needs_background": "light"
     },
     "output_type": "display_data"
    }
   ],
   "source": [
    "plt.plot(train_loss_log, label = 'MSE loss over train data')\n",
    "plt.plot(val_loss_log, label = 'MSE loss over validation data')\n",
    "plt.xlabel('Epoch')\n",
    "plt.ylabel('MSEloss')\n",
    "plt.title('Network performance during training')\n",
    "plt.legend()\n",
    "plt.grid()\n",
    "plt.show()"
   ]
  },
  {
   "cell_type": "markdown",
   "metadata": {},
   "source": [
    "As we can see better results were obtained from before, with a loss of under 0.5 for the validation. Obviusly these data points are really subjected to noise, given the small number of samples that we are working on. But the low dimensionality of the output and input space means that we can still obtain decent results.\n",
    "\n",
    "Now we will proceed to visualize the performance of the network, by visualizing the real and the predicted data points for the validation and test sets."
   ]
  },
  {
   "cell_type": "code",
   "execution_count": 189,
   "metadata": {},
   "outputs": [
    {
     "data": {
      "image/png": "[encoded data removed]",
      "text/plain": [
       "<Figure size 864x576 with 1 Axes>"
      ]
     },
     "metadata": {
      "needs_background": "light"
     },
     "output_type": "display_data"
    },
    {
     "data": {
      "image/png": "[encoded data removed]",
      "text/plain": [
       "<Figure size 864x576 with 1 Axes>"
      ]
     },
     "metadata": {
      "needs_background": "light"
     },
     "output_type": "display_data"
    }
   ],
   "source": [
    "\n",
    "x_val  = torch.Tensor(train_df.iloc[ train_ns[train_fraction:] ].input.sort_values().tolist() )\n",
    "y_val  = torch.Tensor(train_df.iloc[ train_ns[train_fraction:] ].sort_values('input').label.tolist() )\n",
    "\n",
    "test_df = test_df.sort_values('input')\n",
    "\n",
    "x_test = torch.Tensor(test_df.input.tolist() )\n",
    "y_test = torch.Tensor(test_df.label.tolist() )\n",
    "\n",
    "#x_vec = x_vec.to(device)\n",
    "x_val = x_val.unsqueeze(-1)\n",
    "net.eval()\n",
    "with torch.no_grad(): # turn off gradients computation\n",
    "    y_val_predicted = net(x_val.to(device))\n",
    "\n",
    "fig,ax = plt.subplots(figsize=(12,8))\n",
    "ax.plot(x_val.cpu(), y_val_predicted.cpu(),color='black',linewidth=0.6)\n",
    "ax.scatter(x_val.cpu(), y_val_predicted.cpu(), label='Predictions on Validation Set',color='red',s=50,marker='+')\n",
    "plt.scatter(x_val,y_val,color='green',label='True values')\n",
    "textstr = f\"Final MSE validation loss: {float(val_loss_log[-1]):.3f}\"\n",
    "props = dict(boxstyle='round', facecolor='white', alpha=0.25)\n",
    "ax.text(0.015,0.87, textstr, fontsize=12,\n",
    "        verticalalignment='top',bbox=props,transform=ax.transAxes)\n",
    "ax.set_xlabel('Input')\n",
    "ax.set_ylabel('Output')\n",
    "ax.legend()\n",
    "plt.show()\n",
    "\n",
    "x_test = x_test.unsqueeze(-1)\n",
    "net.eval()\n",
    "with torch.no_grad(): # turn off gradients computation\n",
    "    y_test_predicted = net(x_test.to(device))\n",
    "    _, _, val_loss = test_epoch(\n",
    "        net=net,\n",
    "        device=device, \n",
    "        dataloader=test_data, \n",
    "        loss_fn=loss_fn)\n",
    "fig,ax = plt.subplots(figsize=(12,8))\n",
    "ax.plot(x_test.cpu(), y_test_predicted.cpu(),color='black',linewidth=0.6)\n",
    "ax.scatter(x_test.cpu(), y_test_predicted.cpu(), label='Predictions on Test Set',color='red',s=50,marker='+')\n",
    "ax.scatter(x_test.cpu(),y_test.cpu(),color='green',label='True values')\n",
    "ax.set_xlabel('Input')\n",
    "ax.set_ylabel('Output')\n",
    "ax.legend()\n",
    "\n",
    "textstr = f\"Final MSE test loss: {float(val_loss):.3f}\"\n",
    "props = dict(boxstyle='round', facecolor='white', alpha=0.25)\n",
    "ax.text(0.015,0.87, textstr, fontsize=12,\n",
    "        verticalalignment='top',bbox=props,transform=ax.transAxes)\n",
    "\n",
    "plt.show()"
   ]
  },
  {
   "cell_type": "markdown",
   "metadata": {},
   "source": [
    "As we can see we obtain quite decent result. The visual inspection reveals that the network imitaded quite well the behaviour of the output, without quite getting the behaviour at the extremes.\n",
    "\n",
    "When inspecting the performance on the test set we see that the prediction does not match in some regions of the input space. If we inspect the training set it's possible to notice that in these regions there were no samples that the network could learn from, so the drop in performance in these regions is totally to be expected."
   ]
  },
  {
   "cell_type": "markdown",
   "metadata": {},
   "source": [
    "## Weights visualization"
   ]
  },
  {
   "cell_type": "code",
   "execution_count": 107,
   "metadata": {
    "colab": {
     "base_uri": "https://localhost:8080/",
     "height": 585
    },
    "id": "EGeqNaMqkq11",
    "outputId": "d0fbc641-9b24-4cef-885a-1733b7fb444b"
   },
   "outputs": [
    {
     "data": {
      "image/png": "[encoded data removed]",
      "text/plain": [
       "<Figure size 864x576 with 3 Axes>"
      ]
     },
     "metadata": {
      "needs_background": "light"
     },
     "output_type": "display_data"
    }
   ],
   "source": [
    "h1_w = net.fc1.weight.data.cpu().numpy()\n",
    "h1_b = net.fc1.bias.data.cpu().numpy()\n",
    "\n",
    "# Second hidden layer\n",
    "h2_w = net.fc2.weight.data.cpu().numpy()\n",
    "h2_b = net.fc2.bias.data.cpu().numpy()\n",
    "\n",
    "# Output layer\n",
    "out_w = net.out.weight.data.cpu().numpy()\n",
    "out_b = net.out.bias.data.cpu().numpy()\n",
    "\n",
    "fig, axs = plt.subplots(3, 1, figsize=(12,8))\n",
    "axs[0].hist(h1_w.flatten(), 50)\n",
    "axs[0].set_title('First hidden layer weights')\n",
    "axs[1].hist(h2_w.flatten(), 50)\n",
    "axs[1].set_title('Second hidden layer weights')\n",
    "axs[2].hist(out_w.flatten(), 50)\n",
    "axs[2].set_title('Output layer weights')\n",
    "[ax.grid() for ax in axs]\n",
    "plt.tight_layout()\n",
    "plt.show()"
   ]
  },
  {
   "cell_type": "markdown",
   "metadata": {},
   "source": [
    "The weight distributions follow a mostly random pattern, but some structures can be seen. \n",
    "+ the first layer lacks the number of weights needed to perform meaningful statistichs, but a more or less uniform distribution can be seen between -1 and 1, with a notable lack of weights around 0.\n",
    "+ The second layer of weights, the most popolous, we can se a gaussian-like distribution around 0 , with really long tails.\n",
    "+ The last weight layer, similar to the first, is not so much populated, but a concentration around 0 can also be seen, like the second layer."
   ]
  },
  {
   "cell_type": "markdown",
   "metadata": {},
   "source": [
    "Now we'll take a look at the activation profiles. we will try to see how the last layer of the network behaves when given as input -4, 0 and 4 , wich represent the axtremes and the middle of the spectrum of inputs."
   ]
  },
  {
   "cell_type": "code",
   "execution_count": 190,
   "metadata": {
    "colab": {
     "base_uri": "https://localhost:8080/",
     "height": 441
    },
    "id": "s3B9Vw00tgnT",
    "outputId": "a7f630cd-19dc-49fb-ae5c-8cdf6e755c60"
   },
   "outputs": [
    {
     "data": {
      "image/png": "[encoded data removed]",
      "text/plain": [
       "<Figure size 864x432 with 3 Axes>"
      ]
     },
     "metadata": {
      "needs_background": "light"
     },
     "output_type": "display_data"
    }
   ],
   "source": [
    "def get_activation(layer, input, output):\n",
    "    global activation\n",
    "    activation = torch.sigmoid(output)\n",
    "\n",
    "### Register hook  \n",
    "hook_handle = net.fc2.register_forward_hook(get_activation)\n",
    "\n",
    "### Analyze activations\n",
    "net = net.to(device)\n",
    "net.eval()\n",
    "with torch.no_grad():\n",
    "    x1 = torch.tensor([-4]).float().to(device)\n",
    "    y1 = net(x1)\n",
    "    z1 = activation\n",
    "    x2 = torch.tensor([0]).float().to(device)\n",
    "    y2 = net(x2)\n",
    "    z2 = activation\n",
    "    x3 = torch.tensor([4]).float().to(device)\n",
    "    y3 = net(x3)\n",
    "    z3 = activation\n",
    "\n",
    "### Remove hook\n",
    "hook_handle.remove()\n",
    "\n",
    "### Plot activations\n",
    "fig, axs = plt.subplots(3, 1, figsize=(12,6))\n",
    "axs[0].stem(z1.cpu().numpy(), use_line_collection=True)\n",
    "axs[0].set_title('Last layer activations for input x=%.2f' % x1)\n",
    "axs[1].stem(z2.cpu().numpy(), use_line_collection=True)\n",
    "axs[1].set_title('Last layer activations for input x=%.2f' % x2)\n",
    "axs[2].stem(z3.cpu().numpy(), use_line_collection=True)\n",
    "axs[2].set_title('Last layer activations for input x=%.2f' % x3)\n",
    "plt.tight_layout()\n",
    "plt.show()"
   ]
  },
  {
   "cell_type": "markdown",
   "metadata": {},
   "source": [
    "The activation profiles do not gice much insight in the performance of the network. it's still interesting to note how some neurons are always firing in these cases, and also the fact that the number of activated neurons grows as we proceed from the smallest to the biggest input, reflecting the fact that the function that it's tring to learn is has an increasing behaviour."
   ]
  },
  {
   "cell_type": "markdown",
   "metadata": {},
   "source": [
    "## Results.\n",
    "\n",
    "In the end we can say that our fully connected neural network with 2 layers is capable of capturing the structure of our one dimensional output function. From the random search the Optimal sizes seem to be for $N_{h1}$ 128 and for $ N_{h2}$ 128.\n",
    "\n",
    "\n",
    "Regularizations and dropouts help in fighting overfitting of the net, resulting in an overall improvement in the performance. The dropout seems  to be most effective in the 0.2-0.3 range, since outside this range it's either too small to impact anything or it interferes too much in training. Adam/Adamx algorithms perform almost always better than sotchastic gradient descent, since they are way more advanced and implement strategies such as momentum. The drop in performance in the test set with respect to the validation is mostly due to how biased the training set was chosen, since it's missing entire regions of the input space that are crossed by the test set, so it's not surprising that the network is not able to predict the correct behaviour in these regions. Interestingly the fact that the input was noisy did not impact much the performances of the network, in fact it may have even improved it, since it prevented overfitting.\n",
    "\n",
    "In the future some input manipulation and better choice of training set could be implemented to improve the performances."
   ]
  },
  {
   "cell_type": "markdown",
   "metadata": {
    "id": "SxW5QfJRvWV9"
   },
   "source": [
    "# Classification task\n",
    "***\n",
    "The objective now is to create a convolutional neural network that is capable of correctly labelling images of items of clothing, coming from the Fashion MNIST dataset. This dataset has been used extensively in this kind of application, so it's really well studied and is a standard benchmark to evaluate the perfomamnces of different machine learning models."
   ]
  },
  {
   "cell_type": "markdown",
   "metadata": {
    "id": "rsvBiTw7ykT5"
   },
   "source": [
    "## Dataset"
   ]
  },
  {
   "cell_type": "code",
   "execution_count": 358,
   "metadata": {
    "id": "lrkanzKpwaFJ"
   },
   "outputs": [],
   "source": [
    "import torch\n",
    "import torchvision\n",
    "import matplotlib.pyplot as plt\n",
    "import numpy as np"
   ]
  },
  {
   "cell_type": "markdown",
   "metadata": {
    "id": "EYaGs-I_zRk-"
   },
   "source": [
    "Download the dataset:"
   ]
  },
  {
   "cell_type": "code",
   "execution_count": 371,
   "metadata": {
    "colab": {
     "base_uri": "https://localhost:8080/",
     "height": 467,
     "referenced_widgets": [
      "32e794677d834420bdb9c664cff6f7cc",
      "cf57be0a6c7340ca8b54e0809ba0fbc9",
      "7b8fe897f59046e68eb75a8cdd5e92de",
      "d9277c7a992c4f9491530f6d443fc68e",
      "acac05934e5647e8ad42893b8a6c10d1",
      "dec4e52f4ae04b298abc0f125c300534",
      "9db22c25d6474d8288fa40aad726393d",
      "28234bab3d1d43aea0e50d1245cd16f2",
      "827906e0ccbc4881922c18683a4e97bb",
      "b39d8e8b9e1647449544903cc5a2ba34",
      "c8805dcf332245e18439d109c50466d2",
      "b1d7c852c19d4178974246cef1db19ca",
      "182a074481514dbc9f92a1a31923be73",
      "0ca774af453d49e586dd4ac4fdac9663",
      "3129bcbfd8ad40cb8797f60fe984fe3c",
      "77f5bffcf0494c3db33df30552e15b8e",
      "65abcefd8e25405aa5006179d335d2c5",
      "f0e07a02ccce46caaccca01b8fa93686",
      "abdc7c640853476eb2bd1f4edbbe9d24",
      "beeeefdc08e24464ba4369da9cd7faea",
      "72ad719dc306468cb506250d92f570ae",
      "c0494a7e04d549b5a9323fa43d9ad3b2",
      "54fd73e547ed43639e80285963517549",
      "6d9710d95a8247a5b7bc391a2350e55c",
      "ead636b58dfc422596f2e5e53119c830",
      "4c06f483297d47a2a1f81d3dde6007b5",
      "f38390085e504e048e77154395244471",
      "f311b7a94b244f87b5badd6824089d38",
      "1329211232b54ee48ee7b37e38a0416f",
      "99a1e802632c4a1ab0976776641fce8c",
      "108907707fb246c6aa2eb0055f22b6ad",
      "eaf3615362384da3961655307f87bc3a",
      "4725b0ab205e4520a3ad0004728ac82c",
      "b1c6d5b7f8504d84a9782a36e6491712",
      "24139599cc964b0283c787010d446db3",
      "7904076e1ed94fe7ae911266d6f7cc29",
      "8b5cad589d3e4d65a86420980287059a",
      "df911c163a5a49f982caafcbced21920",
      "672dd44117534a09b867291ac9f70974",
      "60f1c19eede14af189bcd752f09e0b2e",
      "1fbf8bf7242b415c9cccda738b25ed04",
      "cd2038d9851a4a4d8c7e107edf02cca1",
      "6cdcb148e8a446be913504e4d9e16634",
      "a68d8cc7829f45718e72751c24dc728f"
     ]
    },
    "id": "6wRuRn08zVO9",
    "outputId": "4339f423-432c-43b4-e41e-323165e22cd4"
   },
   "outputs": [],
   "source": [
    "total_dataset = torchvision.datasets.FashionMNIST('classifier_data', train=True, download=True)\n",
    "test_dataset  = torchvision.datasets.FashionMNIST('classifier_data', train=False, download=True)"
   ]
  },
  {
   "cell_type": "markdown",
   "metadata": {},
   "source": [
    "The images are formed by 28 x 28 pixels, with only one channel, so they are in black and white. The item of clothing belong to 10 different classes. Here we can see come examples."
   ]
  },
  {
   "cell_type": "code",
   "execution_count": 372,
   "metadata": {
    "colab": {
     "base_uri": "https://localhost:8080/",
     "height": 517
    },
    "id": "SGXmy4mNwfk4",
    "outputId": "0eb1ac12-8be0-4bab-ff62-5e58b28c65a0"
   },
   "outputs": [
    {
     "data": {
      "image/png": "[encoded data removed]",
      "text/plain": [
       "<Figure size 1152x576 with 8 Axes>"
      ]
     },
     "metadata": {
      "needs_background": "light"
     },
     "output_type": "display_data"
    }
   ],
   "source": [
    "#sample_index = 10\n",
    "#image = train_dataset[sample_index][0]\n",
    "#label = train_dataset[sample_index][1]\n",
    "classes = total_dataset.classes\n",
    "fig = plt.figure(figsize=(16,8))\n",
    "for sample_index,nplot in zip([9,10,11,16,20,22,30,35],range(241,249)):\n",
    "    image = total_dataset[sample_index][0]\n",
    "    label = total_dataset[sample_index][1]\n",
    "    fig.add_subplot(nplot)\n",
    "    plt.imshow(image, cmap='Greys')\n",
    "    plt.title(classes[label])\n",
    "    plt.axis('off')\n",
    "plt.show()"
   ]
  },
  {
   "cell_type": "markdown",
   "metadata": {},
   "source": [
    "The total list of classes of items of clothing is\n",
    "+ T-shirt\n",
    "+ Trouser\n",
    "+ Pullover\n",
    "+ Dress\n",
    "+ Coat\n",
    "+ Sandal\n",
    "+ Shirt\n",
    "+ Sneaker\n",
    "+ Bag\n",
    "+ Ankle boot\n",
    "\n",
    "These classes are mutually esclusive, meaning that each sample has only one label."
   ]
  },
  {
   "cell_type": "markdown",
   "metadata": {},
   "source": [
    "As we did before, a series of transformations is applied to the samples. Other than the usual tensor transformation a random White noise is also added.The noises changes every time the sample is called. This could help reduce overfitting in the network training.\n",
    "\n",
    "The training set is divided further into an actual training set and a validation set,as before, an 80 - 20 % split has been chosen for the train and validation sets.. With the dataloader then the different sets are divided into batches that will also help in the training process."
   ]
  },
  {
   "cell_type": "code",
   "execution_count": 373,
   "metadata": {},
   "outputs": [],
   "source": [
    "class WhiteNoise():\n",
    "    \"\"\"Class aimed at transforming a dataset adding random gaussian noise to the input variables\"\"\"\n",
    "    def __init__(self, mu = 0.0 , std = 1.0):\n",
    "        self.mu  = mu\n",
    "        self.std = std\n",
    "    def __call__(self, tensor):\n",
    "        return tensor + torch.randn(tensor.size()) * self.std + self.mu"
   ]
  },
  {
   "cell_type": "code",
   "execution_count": 383,
   "metadata": {},
   "outputs": [],
   "source": [
    "WNoiseTransform = WhiteNoise( std = 0.05)\n",
    "\n",
    "Image_transforms = transforms.Compose([\n",
    "    transforms.ToTensor(),\n",
    "    WNoiseTransform,\n",
    "    #transforms.RandomRotation(degrees = 45)\n",
    "])\n",
    "\n",
    "test_transforms = transforms.Compose([\n",
    "    transforms.ToTensor(),\n",
    "])"
   ]
  },
  {
   "cell_type": "code",
   "execution_count": 386,
   "metadata": {},
   "outputs": [],
   "source": [
    "#labels = [train_dataset[i][1] for i in range(len(train_dataset))]\n",
    "\n",
    "\n",
    "\n",
    "#train_data ,val_data = train_test_split(train_dataset,  test_size=0.1, stratify=labels, shuffle=True, random_state=0)\n",
    "\n",
    "val_split = 0.2\n",
    "\n",
    "Ntot   = len(total_dataset)\n",
    "Nval   = int(Ntot * val_split)\n",
    "Ntrain = Ntot - Nval\n",
    "\n",
    "train_dataset, val_dataset = torch.utils.data.random_split(total_dataset, [Ntrain, Nval])\n",
    "\n",
    "\n",
    "test_dataset.transform  = test_transforms\n",
    "val_dataset.dataset.transform   = test_transforms\n",
    "train_dataset.dataset.transform = Image_transforms\n",
    "\n",
    "num_workers = 0 #PC\n",
    "#num_workers = 2 #####COLAB ENABLED\n",
    "batch_size = 256\n",
    "train_dataloader = DataLoader(train_dataset , batch_size = batch_size        , shuffle = True  , num_workers=num_workers)\n",
    "val_dataloader   = DataLoader(val_dataset   , batch_size = len(val_dataset)  , shuffle = True  , num_workers=num_workers)\n",
    "test_dataloader  = DataLoader(test_dataset  , batch_size = len(test_dataset) , shuffle = False , num_workers=num_workers)"
   ]
  },
  {
   "cell_type": "code",
   "execution_count": 387,
   "metadata": {},
   "outputs": [
    {
     "data": {
      "text/plain": [
       "Compose(\n",
       "    ToTensor()\n",
       "    <__main__.WhiteNoise object at 0x0000016813E43390>\n",
       ")"
      ]
     },
     "execution_count": 387,
     "metadata": {},
     "output_type": "execute_result"
    }
   ],
   "source": [
    "val_dataset.dataset.transform"
   ]
  },
  {
   "cell_type": "code",
   "execution_count": 388,
   "metadata": {},
   "outputs": [
    {
     "data": {
      "image/png": "[encoded data removed]",
      "text/plain": [
       "<Figure size 1152x576 with 8 Axes>"
      ]
     },
     "metadata": {
      "needs_background": "light"
     },
     "output_type": "display_data"
    }
   ],
   "source": [
    "fig = plt.figure(figsize=(16,8))\n",
    "for sample_index,nplot in zip([9,10,11,16,20,22,30,35],range(241,249)):\n",
    "    image = train_dataset[sample_index][0].squeeze(0)\n",
    "    label = train_dataset[sample_index][1]\n",
    "    fig.add_subplot(nplot)\n",
    "    plt.imshow(image, cmap='Greys')\n",
    "    plt.title(classes[label])\n",
    "    plt.axis('off')\n",
    "plt.show()"
   ]
  },
  {
   "cell_type": "markdown",
   "metadata": {},
   "source": [
    "## Convolutional Net Class\n",
    "Here we define the actual convolutional network that will be used in this task. The architecture is organized like so:\n",
    "+ A first convolutional layer. The user can define the kernel size ($K_1$) and the number of channels ($N_{ch1}$). the stride and the padding are fixed and cannot be modified, they are fixed respectively at 2 and 1\n",
    "+ A second convolutional layer with as input the channels of the last one , with his own tunable $K_2$ and $N_{ch2}$. The same approach has been taken for the stride and the padding as above.\n",
    "+ A flattening step, to make the jump from convolutional to fully connected network\n",
    "+ A fully connected layer with a tunable number of nodes ($N_h$)\n",
    "+ An output layer with the number of nodes equal to the number of classes.\n",
    "\n",
    "The user can also define in the network inizialization the dropout probability, the input size and the inizialization scheme. Since in the previous step we saw that the xavier normal seems to be the best performing inizialization this will be kept in this task as fixed. another fixed parameter is the activation function, wich for every layer is kept as the ReLU function, except for the last layer that outputs directly the neurons value.\n"
   ]
  },
  {
   "cell_type": "code",
   "execution_count": 389,
   "metadata": {},
   "outputs": [],
   "source": [
    "def init_weights(m):\n",
    "    \"\"\"Function to initialize weights in a layer\"\"\"\n",
    "    if isinstance(m, nn.Conv2d) or isinstance(m, nn.Linear):\n",
    "        \n",
    "        # gain is a parameter to be given to the xavier normal to decide the std, depends on the activation\n",
    "        torch.nn.init.xavier_normal_(m.weight , torch.nn.init.calculate_gain( 'relu' ) )\n",
    "        m.bias.data.fill_(0.01)"
   ]
  },
  {
   "cell_type": "code",
   "execution_count": 390,
   "metadata": {},
   "outputs": [],
   "source": [
    "class ConvNet(nn.Module):\n",
    "    \n",
    "    \"\"\"Network class, contains 3 hidden layers\"\"\"\n",
    "    \n",
    "    def __init__(self, InputSize,  No, NChannels = [8,16] ,KSize = [(3,3),(3,3)],FCLSize = 128, \n",
    "                 pDropout=0.0, init_func=init_weights):\n",
    "        \"\"\"\n",
    "        Args:\n",
    "        InputSize (tuple)                 : Input size of the image (e.g. (28,28))\n",
    "        No (int)                          : Output size\n",
    "        NChannels (series ofin of  len 2) : List of the number of channels\n",
    "        Ksize (series of tuples of len 2) : List of the number of Kernel sizes\n",
    "        FCLSize (int)                     : Fully connected Layer Size\n",
    "        pDropout (float [0,1] )           : Probability of dropout\n",
    "        init_func (nn.init function)      : Function to be applied to inizialize Tensors \n",
    "        \"\"\"\n",
    "        super().__init__()\n",
    "        \n",
    "        print('Network initialized')\n",
    "        self.ConvLayer = torch.nn.Sequential(\n",
    "            \n",
    "            #First Conv layer\n",
    "            nn.Conv2d(in_channels=1, out_channels=NChannels[0], kernel_size=KSize[0], \n",
    "                      stride=2, padding=1),\n",
    "            torch.nn.Dropout(pDropout),\n",
    "            nn.ReLU(True),\n",
    "\n",
    "            \n",
    "            #Second Conv Layer\n",
    "            nn.Conv2d(in_channels=NChannels[0], out_channels=NChannels[1], kernel_size=KSize[1], \n",
    "                      stride=2, padding=1),\n",
    "            torch.nn.Dropout(pDropout),\n",
    "            nn.ReLU(True)\n",
    "            \n",
    "        )\n",
    "\n",
    "        #The Flattening\n",
    "        self.flatten = nn.Flatten(start_dim=1)\n",
    "        \n",
    "        # Ugly hack to calculate on the fly the dimension of the last convolutional layer\n",
    "        # By passing a dummy sample image with same dimension as the expected input \n",
    "        InputSize = (1,1)+InputSize\n",
    "        dummy_sample_image = torch.zeros(InputSize)\n",
    "        FlatConvSize = self.flatten(self.ConvLayer(dummy_sample_image)).shape[1]\n",
    "        \n",
    "        #FC passage\n",
    "        self.FCLayer = torch.nn.Sequential(\n",
    "            \n",
    "            torch.nn.Linear(FlatConvSize,FCLSize),\n",
    "            torch.nn.Dropout(pDropout),\n",
    "            torch.nn.ReLU(True),\n",
    "\n",
    "            #Output Layer\n",
    "            torch.nn.Linear(FCLSize,No)\n",
    "            \n",
    "        )\n",
    "        \n",
    "        #Inizialization\n",
    "        self.ConvLayer.apply(init_func)\n",
    "        self.FCLayer.apply(init_func)\n",
    "\n",
    "        \n",
    "    def forward(self, x):\n",
    "        x = self.ConvLayer(x)\n",
    "        x = self.flatten(x)\n",
    "        x = self.FCLayer(x)\n",
    "        return x"
   ]
  },
  {
   "cell_type": "markdown",
   "metadata": {},
   "source": [
    "## Training\n",
    "Here we first try the network to see if everything is working smoothly"
   ]
  },
  {
   "cell_type": "code",
   "execution_count": 391,
   "metadata": {},
   "outputs": [
    {
     "name": "stdout",
     "output_type": "stream",
     "text": [
      "Training device: cpu\n",
      "Network initialized\n"
     ]
    },
    {
     "data": {
      "text/plain": [
       "tensor([[ 0.5576,  0.0162, -0.0610, -0.3114,  0.3066, -0.1672,  0.1107, -0.0216,\n",
       "         -0.0530,  0.2126]], grad_fn=<AddmmBackward>)"
      ]
     },
     "execution_count": 391,
     "metadata": {},
     "output_type": "execute_result"
    }
   ],
   "source": [
    "device = torch.device(\"cuda\") if torch.cuda.is_available() else torch.device(\"cpu\")\n",
    "print(f\"Training device: {device}\")\n",
    "\n",
    "\n",
    "torch.manual_seed(0)\n",
    "In        = (28,28)\n",
    "Out       = 10\n",
    "NChannels = [4,8]\n",
    "Ksize     = [(4,4)]*2\n",
    "FCLSize   = 64\n",
    "\n",
    "Net = ConvNet(In,Out,NChannels,Ksize,FCLSize)\n",
    "\n",
    "loss_fn = nn.CrossEntropyLoss()\n",
    "\n",
    "optimizer = optim.Adam(Net.parameters(), lr=2e-3)\n",
    "\n",
    "Net(train_dataset[78][0].unsqueeze(0).to(device))"
   ]
  },
  {
   "cell_type": "code",
   "execution_count": 392,
   "metadata": {},
   "outputs": [
    {
     "name": "stderr",
     "output_type": "stream",
     "text": [
      "100%|██████████████████████████████████████████████████████████████████████████████████| 10/10 [03:01<00:00, 18.16s/it]\n"
     ]
    }
   ],
   "source": [
    "train_loss_log, val_loss_log = train_func(Net,train_dataloader,val_dataloader,device,\n",
    "                                          loss_fn, optimizer, verbose=0,\n",
    "                                          num_epochs=10, disable_tqdm=True)"
   ]
  },
  {
   "cell_type": "code",
   "execution_count": 393,
   "metadata": {},
   "outputs": [
    {
     "data": {
      "image/png": "[encoded data removed]",
      "text/plain": [
       "<Figure size 432x288 with 1 Axes>"
      ]
     },
     "metadata": {
      "needs_background": "light"
     },
     "output_type": "display_data"
    }
   ],
   "source": [
    "plt.plot(train_loss_log, label = 'Loss over train data')\n",
    "plt.plot(val_loss_log, label = 'Loss over validation data')\n",
    "plt.xlabel('Epoch')\n",
    "plt.ylabel('Cross Entropy loss')\n",
    "plt.title('Network performance during training')\n",
    "plt.legend()\n",
    "plt.grid()\n",
    "plt.show()"
   ]
  },
  {
   "cell_type": "markdown",
   "metadata": {
    "tags": []
   },
   "source": [
    "## Random Search \n",
    "Now this section is dedicated to the search of hyperparametrs with a random search. The parameters to be optimized will be\n",
    "+ Number of channels of the first and second convolutional layer\n",
    "+ Number of nodes of the Fully connected layer\n",
    "+ Dropout probability\n",
    "+ The optimizer algorithm (between adam and adamax)\n",
    "+ the learning rate\n",
    "+ the number of epochs\n",
    "+ the weight decay\n",
    "\n",
    "As the previous task, the results of the search stem from a Cross validation setup, where the dataset is split in 4 parts."
   ]
  },
  {
   "cell_type": "code",
   "execution_count": 397,
   "metadata": {
    "colab": {
     "base_uri": "https://localhost:8080/"
    },
    "id": "y_E9v_SwPsEO",
    "outputId": "1c3856ec-f3cd-477f-d452-381c2c227070",
    "tags": []
   },
   "outputs": [],
   "source": [
    "def RandomSearch2(params_to_choose, Net_class, train_dataset, transform , n_folds = 4 , n_points = 5):\n",
    "    \"\"\"random search\"\"\"\n",
    "\n",
    "    Ntot = len(train_dataset)\n",
    "    Nval = int(Ntot/n_folds)\n",
    "    cvs = torch.utils.data.random_split(train_dataset,[Nval]*n_folds)\n",
    "    result_df_columns = ['mean_loss'] + list(params_to_choose.keys()) + ['losslog_cv' + str(i) for i in range(n_folds)] \n",
    "\n",
    "    results = pd.DataFrame(np.zeros((n_points,len(result_df_columns))),\n",
    "                           columns = result_df_columns, dtype=object)\n",
    "\n",
    "    Ni , No = 1 , 1\n",
    "    act = nn.Sigmoid()    \n",
    "\n",
    "    for i in range(n_points):\n",
    "\n",
    "        params   = {}\n",
    "        for param in params_to_choose.keys():\n",
    "            params[param] = np.random.choice(params_to_choose[param])\n",
    "\n",
    "            results[param][i] = params[param]\n",
    "\n",
    "        print('ITERATION N ' + str(i+1))\n",
    "        print('PARAMS:\\n' )\n",
    "        for value,name in zip(params.values(),params.keys()):\n",
    "            print(name,'     \\t :',value)\n",
    "\n",
    "        val_cv_losses = []\n",
    "\n",
    "        mean_loss = 0\n",
    "\n",
    "        for j in range(n_folds):\n",
    "\n",
    "            train_cv = cvs.copy()\n",
    "            val_cv   = train_cv.pop(j)\n",
    "            train_cv = torch.utils.data.ConcatDataset(train_cv)\n",
    "\n",
    "            train_cv.transform = transform\n",
    "            val_cv.transform   = transform\n",
    "\n",
    "\n",
    "            train_dataloader = DataLoader(train_cv , batch_size=256           , shuffle=True  , num_workers=0)\n",
    "            val_dataloader   = DataLoader(val_cv   , batch_size=len(val_cv) , shuffle=False , num_workers=0)  \n",
    "            \n",
    "            In        = (28,28)\n",
    "            Out       = 10\n",
    "            KSize     = [4,4]*2\n",
    "            \n",
    "            NChannel1 = params['NChannel1']\n",
    "            NChannel2 = params['NChannel2']\n",
    "            \n",
    "            FCLSize   = params['FCLSize']\n",
    "            init_func = params['init_func']\n",
    "            p_drop    = params['p_drop']\n",
    "            net       = Net_class(In,Out,[NChannel1,NChannel2],Ksize,FCLSize,\n",
    "                                  init_func=init_func,pDropout=p_drop)\n",
    "            net.to(device)\n",
    "\n",
    "            loss_fn = params['loss_fn']\n",
    "\n",
    "            optimizer = params['optimizer']\n",
    "            optimizer = optimizer(net.parameters(),lr=params['lr'] , weight_decay = params['w_decay'] )\n",
    "\n",
    "            _ , val_loss_log = train_func(net,train_dataloader,val_dataloader,device,\n",
    "                                          loss_fn, optimizer, verbose=0,\n",
    "                                          num_epochs = params['num_epochs'], disable_tqdm=True)\n",
    "\n",
    "            results['losslog_cv' + str(j) ][i] = val_loss_log\n",
    "            mean_loss += val_loss_log[-1]     \n",
    "\n",
    "        results['mean_loss'][i] = mean_loss/n_folds\n",
    "    return results"
   ]
  },
  {
   "cell_type": "code",
   "execution_count": 398,
   "metadata": {},
   "outputs": [],
   "source": [
    "params_to_choose = {\n",
    "    'NChannel1' : [ 4 , 8 ],\n",
    "    'NChannel2' : [ 8 , 16],\n",
    "    'FCLSize'   : [64 , 128 , 256],\n",
    "    'init_func' : [init_weights],\n",
    "    'p_drop'    : [0.2 , 0.3 , 0.4],\n",
    "    'loss_fn'   : [nn.CrossEntropyLoss()],\n",
    "    'optimizer' : [optim.Adam , optim.Adamax ],\n",
    "    'w_decay'   : [0 , 1e-5 , 1e-4],\n",
    "    'lr'        : [1e-4 , 1e-3],\n",
    "    'num_epochs': [10 , 15]\n",
    "    #'l1lambda'  : [1e-5,1e-4]\n",
    "}"
   ]
  },
  {
   "cell_type": "markdown",
   "metadata": {},
   "source": [
    "In order to speed up the search, a smaller dataset is fed to the random search, wich is a fourth of the total."
   ]
  },
  {
   "cell_type": "code",
   "execution_count": 399,
   "metadata": {},
   "outputs": [],
   "source": [
    "# Smaller train dataset to speed up the random search.  \n",
    "Ntot = len(train_dataset)\n",
    "NSmall = int(Ntot/4)\n",
    "small_train_dataset , _ = torch.utils.data.random_split(train_dataset , [ NSmall , Ntot - NSmall ])"
   ]
  },
  {
   "cell_type": "markdown",
   "metadata": {},
   "source": [
    "The search will be performed with a 4 fold cross validation setup and a serach over 10 random points."
   ]
  },
  {
   "cell_type": "code",
   "execution_count": 400,
   "metadata": {},
   "outputs": [
    {
     "name": "stdout",
     "output_type": "stream",
     "text": [
      "ITERATION N 1\n",
      "PARAMS:\n",
      "\n",
      "NChannel1      \t : 4\n",
      "NChannel2      \t : 8\n",
      "FCLSize      \t : 64\n",
      "init_func      \t : <function init_weights at 0x000001680A229E18>\n",
      "p_drop      \t : 0.2\n",
      "loss_fn      \t : CrossEntropyLoss()\n",
      "optimizer      \t : <class 'torch.optim.adamax.Adamax'>\n",
      "w_decay      \t : 0.0\n",
      "lr      \t : 0.001\n",
      "num_epochs      \t : 10\n",
      "Network initialized\n"
     ]
    },
    {
     "name": "stderr",
     "output_type": "stream",
     "text": [
      "100%|██████████████████████████████████████████████████████████████████████████████████| 10/10 [00:33<00:00,  3.35s/it]\n"
     ]
    },
    {
     "name": "stdout",
     "output_type": "stream",
     "text": [
      "Network initialized\n"
     ]
    },
    {
     "name": "stderr",
     "output_type": "stream",
     "text": [
      "100%|██████████████████████████████████████████████████████████████████████████████████| 10/10 [00:40<00:00,  4.04s/it]\n"
     ]
    },
    {
     "name": "stdout",
     "output_type": "stream",
     "text": [
      "Network initialized\n"
     ]
    },
    {
     "name": "stderr",
     "output_type": "stream",
     "text": [
      "100%|██████████████████████████████████████████████████████████████████████████████████| 10/10 [00:37<00:00,  3.77s/it]\n"
     ]
    },
    {
     "name": "stdout",
     "output_type": "stream",
     "text": [
      "Network initialized\n"
     ]
    },
    {
     "name": "stderr",
     "output_type": "stream",
     "text": [
      "100%|██████████████████████████████████████████████████████████████████████████████████| 10/10 [00:39<00:00,  3.99s/it]\n"
     ]
    },
    {
     "name": "stdout",
     "output_type": "stream",
     "text": [
      "ITERATION N 2\n",
      "PARAMS:\n",
      "\n",
      "NChannel1      \t : 8\n",
      "NChannel2      \t : 8\n",
      "FCLSize      \t : 64\n",
      "init_func      \t : <function init_weights at 0x000001680A229E18>\n",
      "p_drop      \t : 0.4\n",
      "loss_fn      \t : CrossEntropyLoss()\n",
      "optimizer      \t : <class 'torch.optim.adamax.Adamax'>\n",
      "w_decay      \t : 1e-05\n",
      "lr      \t : 0.001\n",
      "num_epochs      \t : 10\n",
      "Network initialized\n"
     ]
    },
    {
     "name": "stderr",
     "output_type": "stream",
     "text": [
      "100%|██████████████████████████████████████████████████████████████████████████████████| 10/10 [00:40<00:00,  4.06s/it]\n"
     ]
    },
    {
     "name": "stdout",
     "output_type": "stream",
     "text": [
      "Network initialized\n"
     ]
    },
    {
     "name": "stderr",
     "output_type": "stream",
     "text": [
      "100%|██████████████████████████████████████████████████████████████████████████████████| 10/10 [00:42<00:00,  4.26s/it]\n"
     ]
    },
    {
     "name": "stdout",
     "output_type": "stream",
     "text": [
      "Network initialized\n"
     ]
    },
    {
     "name": "stderr",
     "output_type": "stream",
     "text": [
      "100%|██████████████████████████████████████████████████████████████████████████████████| 10/10 [00:41<00:00,  4.11s/it]\n"
     ]
    },
    {
     "name": "stdout",
     "output_type": "stream",
     "text": [
      "Network initialized\n"
     ]
    },
    {
     "name": "stderr",
     "output_type": "stream",
     "text": [
      "100%|██████████████████████████████████████████████████████████████████████████████████| 10/10 [00:45<00:00,  4.56s/it]\n"
     ]
    },
    {
     "name": "stdout",
     "output_type": "stream",
     "text": [
      "ITERATION N 3\n",
      "PARAMS:\n",
      "\n",
      "NChannel1      \t : 8\n",
      "NChannel2      \t : 8\n",
      "FCLSize      \t : 128\n",
      "init_func      \t : <function init_weights at 0x000001680A229E18>\n",
      "p_drop      \t : 0.3\n",
      "loss_fn      \t : CrossEntropyLoss()\n",
      "optimizer      \t : <class 'torch.optim.adam.Adam'>\n",
      "w_decay      \t : 1e-05\n",
      "lr      \t : 0.001\n",
      "num_epochs      \t : 15\n",
      "Network initialized\n"
     ]
    },
    {
     "name": "stderr",
     "output_type": "stream",
     "text": [
      "100%|██████████████████████████████████████████████████████████████████████████████████| 15/15 [01:02<00:00,  4.17s/it]\n"
     ]
    },
    {
     "name": "stdout",
     "output_type": "stream",
     "text": [
      "Network initialized\n"
     ]
    },
    {
     "name": "stderr",
     "output_type": "stream",
     "text": [
      "100%|██████████████████████████████████████████████████████████████████████████████████| 15/15 [01:03<00:00,  4.20s/it]\n"
     ]
    },
    {
     "name": "stdout",
     "output_type": "stream",
     "text": [
      "Network initialized\n"
     ]
    },
    {
     "name": "stderr",
     "output_type": "stream",
     "text": [
      "100%|██████████████████████████████████████████████████████████████████████████████████| 15/15 [01:01<00:00,  4.11s/it]\n"
     ]
    },
    {
     "name": "stdout",
     "output_type": "stream",
     "text": [
      "Network initialized\n"
     ]
    },
    {
     "name": "stderr",
     "output_type": "stream",
     "text": [
      "100%|██████████████████████████████████████████████████████████████████████████████████| 15/15 [01:01<00:00,  4.10s/it]\n"
     ]
    },
    {
     "name": "stdout",
     "output_type": "stream",
     "text": [
      "ITERATION N 4\n",
      "PARAMS:\n",
      "\n",
      "NChannel1      \t : 8\n",
      "NChannel2      \t : 16\n",
      "FCLSize      \t : 64\n",
      "init_func      \t : <function init_weights at 0x000001680A229E18>\n",
      "p_drop      \t : 0.4\n",
      "loss_fn      \t : CrossEntropyLoss()\n",
      "optimizer      \t : <class 'torch.optim.adam.Adam'>\n",
      "w_decay      \t : 1e-05\n",
      "lr      \t : 0.0001\n",
      "num_epochs      \t : 15\n",
      "Network initialized\n"
     ]
    },
    {
     "name": "stderr",
     "output_type": "stream",
     "text": [
      "100%|██████████████████████████████████████████████████████████████████████████████████| 15/15 [01:05<00:00,  4.34s/it]\n"
     ]
    },
    {
     "name": "stdout",
     "output_type": "stream",
     "text": [
      "Network initialized\n"
     ]
    },
    {
     "name": "stderr",
     "output_type": "stream",
     "text": [
      "100%|██████████████████████████████████████████████████████████████████████████████████| 15/15 [01:06<00:00,  4.45s/it]\n"
     ]
    },
    {
     "name": "stdout",
     "output_type": "stream",
     "text": [
      "Network initialized\n"
     ]
    },
    {
     "name": "stderr",
     "output_type": "stream",
     "text": [
      "100%|██████████████████████████████████████████████████████████████████████████████████| 15/15 [01:05<00:00,  4.36s/it]\n"
     ]
    },
    {
     "name": "stdout",
     "output_type": "stream",
     "text": [
      "Network initialized\n"
     ]
    },
    {
     "name": "stderr",
     "output_type": "stream",
     "text": [
      "100%|██████████████████████████████████████████████████████████████████████████████████| 15/15 [01:05<00:00,  4.36s/it]\n"
     ]
    },
    {
     "name": "stdout",
     "output_type": "stream",
     "text": [
      "ITERATION N 5\n",
      "PARAMS:\n",
      "\n",
      "NChannel1      \t : 8\n",
      "NChannel2      \t : 8\n",
      "FCLSize      \t : 256\n",
      "init_func      \t : <function init_weights at 0x000001680A229E18>\n",
      "p_drop      \t : 0.4\n",
      "loss_fn      \t : CrossEntropyLoss()\n",
      "optimizer      \t : <class 'torch.optim.adamax.Adamax'>\n",
      "w_decay      \t : 1e-05\n",
      "lr      \t : 0.0001\n",
      "num_epochs      \t : 10\n",
      "Network initialized\n"
     ]
    },
    {
     "name": "stderr",
     "output_type": "stream",
     "text": [
      "100%|██████████████████████████████████████████████████████████████████████████████████| 10/10 [00:44<00:00,  4.45s/it]\n"
     ]
    },
    {
     "name": "stdout",
     "output_type": "stream",
     "text": [
      "Network initialized\n"
     ]
    },
    {
     "name": "stderr",
     "output_type": "stream",
     "text": [
      "100%|██████████████████████████████████████████████████████████████████████████████████| 10/10 [00:47<00:00,  4.74s/it]\n"
     ]
    },
    {
     "name": "stdout",
     "output_type": "stream",
     "text": [
      "Network initialized\n"
     ]
    },
    {
     "name": "stderr",
     "output_type": "stream",
     "text": [
      "100%|██████████████████████████████████████████████████████████████████████████████████| 10/10 [00:45<00:00,  4.54s/it]\n"
     ]
    },
    {
     "name": "stdout",
     "output_type": "stream",
     "text": [
      "Network initialized\n"
     ]
    },
    {
     "name": "stderr",
     "output_type": "stream",
     "text": [
      "100%|██████████████████████████████████████████████████████████████████████████████████| 10/10 [00:48<00:00,  4.86s/it]\n"
     ]
    },
    {
     "name": "stdout",
     "output_type": "stream",
     "text": [
      "ITERATION N 6\n",
      "PARAMS:\n",
      "\n",
      "NChannel1      \t : 4\n",
      "NChannel2      \t : 8\n",
      "FCLSize      \t : 64\n",
      "init_func      \t : <function init_weights at 0x000001680A229E18>\n",
      "p_drop      \t : 0.3\n",
      "loss_fn      \t : CrossEntropyLoss()\n",
      "optimizer      \t : <class 'torch.optim.adam.Adam'>\n",
      "w_decay      \t : 0.0\n",
      "lr      \t : 0.001\n",
      "num_epochs      \t : 15\n",
      "Network initialized\n"
     ]
    },
    {
     "name": "stderr",
     "output_type": "stream",
     "text": [
      "100%|██████████████████████████████████████████████████████████████████████████████████| 15/15 [01:04<00:00,  4.31s/it]\n"
     ]
    },
    {
     "name": "stdout",
     "output_type": "stream",
     "text": [
      "Network initialized\n"
     ]
    },
    {
     "name": "stderr",
     "output_type": "stream",
     "text": [
      "100%|██████████████████████████████████████████████████████████████████████████████████| 15/15 [01:04<00:00,  4.29s/it]\n"
     ]
    },
    {
     "name": "stdout",
     "output_type": "stream",
     "text": [
      "Network initialized\n"
     ]
    },
    {
     "name": "stderr",
     "output_type": "stream",
     "text": [
      "100%|██████████████████████████████████████████████████████████████████████████████████| 15/15 [01:08<00:00,  4.59s/it]\n"
     ]
    },
    {
     "name": "stdout",
     "output_type": "stream",
     "text": [
      "Network initialized\n"
     ]
    },
    {
     "name": "stderr",
     "output_type": "stream",
     "text": [
      "100%|██████████████████████████████████████████████████████████████████████████████████| 15/15 [01:08<00:00,  4.53s/it]\n"
     ]
    },
    {
     "name": "stdout",
     "output_type": "stream",
     "text": [
      "ITERATION N 7\n",
      "PARAMS:\n",
      "\n",
      "NChannel1      \t : 8\n",
      "NChannel2      \t : 16\n",
      "FCLSize      \t : 64\n",
      "init_func      \t : <function init_weights at 0x000001680A229E18>\n",
      "p_drop      \t : 0.4\n",
      "loss_fn      \t : CrossEntropyLoss()\n",
      "optimizer      \t : <class 'torch.optim.adamax.Adamax'>\n",
      "w_decay      \t : 0.0001\n",
      "lr      \t : 0.001\n",
      "num_epochs      \t : 15\n",
      "Network initialized\n"
     ]
    },
    {
     "name": "stderr",
     "output_type": "stream",
     "text": [
      "100%|██████████████████████████████████████████████████████████████████████████████████| 15/15 [01:07<00:00,  4.49s/it]\n"
     ]
    },
    {
     "name": "stdout",
     "output_type": "stream",
     "text": [
      "Network initialized\n"
     ]
    },
    {
     "name": "stderr",
     "output_type": "stream",
     "text": [
      "100%|██████████████████████████████████████████████████████████████████████████████████| 15/15 [01:05<00:00,  4.37s/it]\n"
     ]
    },
    {
     "name": "stdout",
     "output_type": "stream",
     "text": [
      "Network initialized\n"
     ]
    },
    {
     "name": "stderr",
     "output_type": "stream",
     "text": [
      "100%|██████████████████████████████████████████████████████████████████████████████████| 15/15 [01:07<00:00,  4.50s/it]\n"
     ]
    },
    {
     "name": "stdout",
     "output_type": "stream",
     "text": [
      "Network initialized\n"
     ]
    },
    {
     "name": "stderr",
     "output_type": "stream",
     "text": [
      "100%|██████████████████████████████████████████████████████████████████████████████████| 15/15 [01:07<00:00,  4.51s/it]\n"
     ]
    },
    {
     "name": "stdout",
     "output_type": "stream",
     "text": [
      "ITERATION N 8\n",
      "PARAMS:\n",
      "\n",
      "NChannel1      \t : 4\n",
      "NChannel2      \t : 16\n",
      "FCLSize      \t : 64\n",
      "init_func      \t : <function init_weights at 0x000001680A229E18>\n",
      "p_drop      \t : 0.3\n",
      "loss_fn      \t : CrossEntropyLoss()\n",
      "optimizer      \t : <class 'torch.optim.adamax.Adamax'>\n",
      "w_decay      \t : 0.0\n",
      "lr      \t : 0.0001\n",
      "num_epochs      \t : 15\n",
      "Network initialized\n"
     ]
    },
    {
     "name": "stderr",
     "output_type": "stream",
     "text": [
      "100%|██████████████████████████████████████████████████████████████████████████████████| 15/15 [01:06<00:00,  4.42s/it]\n"
     ]
    },
    {
     "name": "stdout",
     "output_type": "stream",
     "text": [
      "Network initialized\n"
     ]
    },
    {
     "name": "stderr",
     "output_type": "stream",
     "text": [
      "100%|██████████████████████████████████████████████████████████████████████████████████| 15/15 [01:09<00:00,  4.64s/it]\n"
     ]
    },
    {
     "name": "stdout",
     "output_type": "stream",
     "text": [
      "Network initialized\n"
     ]
    },
    {
     "name": "stderr",
     "output_type": "stream",
     "text": [
      "100%|██████████████████████████████████████████████████████████████████████████████████| 15/15 [01:08<00:00,  4.54s/it]\n"
     ]
    },
    {
     "name": "stdout",
     "output_type": "stream",
     "text": [
      "Network initialized\n"
     ]
    },
    {
     "name": "stderr",
     "output_type": "stream",
     "text": [
      "100%|██████████████████████████████████████████████████████████████████████████████████| 15/15 [01:05<00:00,  4.37s/it]\n"
     ]
    },
    {
     "name": "stdout",
     "output_type": "stream",
     "text": [
      "ITERATION N 9\n",
      "PARAMS:\n",
      "\n",
      "NChannel1      \t : 4\n",
      "NChannel2      \t : 8\n",
      "FCLSize      \t : 64\n",
      "init_func      \t : <function init_weights at 0x000001680A229E18>\n",
      "p_drop      \t : 0.2\n",
      "loss_fn      \t : CrossEntropyLoss()\n",
      "optimizer      \t : <class 'torch.optim.adamax.Adamax'>\n",
      "w_decay      \t : 1e-05\n",
      "lr      \t : 0.0001\n",
      "num_epochs      \t : 15\n",
      "Network initialized\n"
     ]
    },
    {
     "name": "stderr",
     "output_type": "stream",
     "text": [
      "100%|██████████████████████████████████████████████████████████████████████████████████| 15/15 [01:05<00:00,  4.35s/it]\n"
     ]
    },
    {
     "name": "stdout",
     "output_type": "stream",
     "text": [
      "Network initialized\n"
     ]
    },
    {
     "name": "stderr",
     "output_type": "stream",
     "text": [
      "100%|██████████████████████████████████████████████████████████████████████████████████| 15/15 [01:03<00:00,  4.25s/it]\n"
     ]
    },
    {
     "name": "stdout",
     "output_type": "stream",
     "text": [
      "Network initialized\n"
     ]
    },
    {
     "name": "stderr",
     "output_type": "stream",
     "text": [
      "100%|██████████████████████████████████████████████████████████████████████████████████| 15/15 [01:03<00:00,  4.25s/it]\n"
     ]
    },
    {
     "name": "stdout",
     "output_type": "stream",
     "text": [
      "Network initialized\n"
     ]
    },
    {
     "name": "stderr",
     "output_type": "stream",
     "text": [
      "100%|██████████████████████████████████████████████████████████████████████████████████| 15/15 [01:03<00:00,  4.24s/it]\n"
     ]
    },
    {
     "name": "stdout",
     "output_type": "stream",
     "text": [
      "ITERATION N 10\n",
      "PARAMS:\n",
      "\n",
      "NChannel1      \t : 8\n",
      "NChannel2      \t : 16\n",
      "FCLSize      \t : 64\n",
      "init_func      \t : <function init_weights at 0x000001680A229E18>\n",
      "p_drop      \t : 0.3\n",
      "loss_fn      \t : CrossEntropyLoss()\n",
      "optimizer      \t : <class 'torch.optim.adamax.Adamax'>\n",
      "w_decay      \t : 0.0\n",
      "lr      \t : 0.001\n",
      "num_epochs      \t : 10\n",
      "Network initialized\n"
     ]
    },
    {
     "name": "stderr",
     "output_type": "stream",
     "text": [
      "100%|██████████████████████████████████████████████████████████████████████████████████| 10/10 [00:45<00:00,  4.51s/it]\n"
     ]
    },
    {
     "name": "stdout",
     "output_type": "stream",
     "text": [
      "Network initialized\n"
     ]
    },
    {
     "name": "stderr",
     "output_type": "stream",
     "text": [
      "100%|██████████████████████████████████████████████████████████████████████████████████| 10/10 [00:45<00:00,  4.60s/it]\n"
     ]
    },
    {
     "name": "stdout",
     "output_type": "stream",
     "text": [
      "Network initialized\n"
     ]
    },
    {
     "name": "stderr",
     "output_type": "stream",
     "text": [
      "100%|██████████████████████████████████████████████████████████████████████████████████| 10/10 [00:44<00:00,  4.47s/it]\n"
     ]
    },
    {
     "name": "stdout",
     "output_type": "stream",
     "text": [
      "Network initialized\n"
     ]
    },
    {
     "name": "stderr",
     "output_type": "stream",
     "text": [
      "100%|██████████████████████████████████████████████████████████████████████████████████| 10/10 [00:44<00:00,  4.44s/it]\n"
     ]
    }
   ],
   "source": [
    "results = RandomSearch2(params_to_choose,ConvNet,small_train_dataset,train_transform,n_points=10)"
   ]
  },
  {
   "cell_type": "code",
   "execution_count": 402,
   "metadata": {},
   "outputs": [
    {
     "data": {
      "text/html": [
       "<div>\n",
       "<style scoped>\n",
       "    .dataframe tbody tr th:only-of-type {\n",
       "        vertical-align: middle;\n",
       "    }\n",
       "\n",
       "    .dataframe tbody tr th {\n",
       "        vertical-align: top;\n",
       "    }\n",
       "\n",
       "    .dataframe thead th {\n",
       "        text-align: right;\n",
       "    }\n",
       "</style>\n",
       "<table border=\"1\" class=\"dataframe\">\n",
       "  <thead>\n",
       "    <tr style=\"text-align: right;\">\n",
       "      <th></th>\n",
       "      <th>mean_loss</th>\n",
       "      <th>NChannel1</th>\n",
       "      <th>NChannel2</th>\n",
       "      <th>FCLSize</th>\n",
       "      <th>init_func</th>\n",
       "      <th>p_drop</th>\n",
       "      <th>loss_fn</th>\n",
       "      <th>optimizer</th>\n",
       "      <th>w_decay</th>\n",
       "      <th>lr</th>\n",
       "      <th>num_epochs</th>\n",
       "      <th>losslog_cv0</th>\n",
       "      <th>losslog_cv1</th>\n",
       "      <th>losslog_cv2</th>\n",
       "      <th>losslog_cv3</th>\n",
       "    </tr>\n",
       "  </thead>\n",
       "  <tbody>\n",
       "    <tr>\n",
       "      <th>0</th>\n",
       "      <td>tensor(0.6367)</td>\n",
       "      <td>4</td>\n",
       "      <td>8</td>\n",
       "      <td>64</td>\n",
       "      <td>&lt;function init_weights at 0x000001680A229E18&gt;</td>\n",
       "      <td>0.2</td>\n",
       "      <td>CrossEntropyLoss()</td>\n",
       "      <td>&lt;class 'torch.optim.adamax.Adamax'&gt;</td>\n",
       "      <td>0</td>\n",
       "      <td>0.001</td>\n",
       "      <td>10</td>\n",
       "      <td>[tensor(1.9319), tensor(1.2430), tensor(0.9735...</td>\n",
       "      <td>[tensor(2.0406), tensor(1.4849), tensor(1.0433...</td>\n",
       "      <td>[tensor(1.8606), tensor(1.1910), tensor(0.8721...</td>\n",
       "      <td>[tensor(1.7814), tensor(1.1611), tensor(0.9307...</td>\n",
       "    </tr>\n",
       "    <tr>\n",
       "      <th>1</th>\n",
       "      <td>tensor(0.7882)</td>\n",
       "      <td>8</td>\n",
       "      <td>8</td>\n",
       "      <td>64</td>\n",
       "      <td>&lt;function init_weights at 0x000001680A229E18&gt;</td>\n",
       "      <td>0.4</td>\n",
       "      <td>CrossEntropyLoss()</td>\n",
       "      <td>&lt;class 'torch.optim.adamax.Adamax'&gt;</td>\n",
       "      <td>1e-05</td>\n",
       "      <td>0.001</td>\n",
       "      <td>10</td>\n",
       "      <td>[tensor(2.2317), tensor(2.1259), tensor(1.8143...</td>\n",
       "      <td>[tensor(2.0322), tensor(1.6587), tensor(1.3209...</td>\n",
       "      <td>[tensor(2.1343), tensor(1.8699), tensor(1.4221...</td>\n",
       "      <td>[tensor(1.9752), tensor(1.5489), tensor(1.2357...</td>\n",
       "    </tr>\n",
       "    <tr>\n",
       "      <th>2</th>\n",
       "      <td>tensor(0.4493)</td>\n",
       "      <td>8</td>\n",
       "      <td>8</td>\n",
       "      <td>128</td>\n",
       "      <td>&lt;function init_weights at 0x000001680A229E18&gt;</td>\n",
       "      <td>0.3</td>\n",
       "      <td>CrossEntropyLoss()</td>\n",
       "      <td>&lt;class 'torch.optim.adam.Adam'&gt;</td>\n",
       "      <td>1e-05</td>\n",
       "      <td>0.001</td>\n",
       "      <td>15</td>\n",
       "      <td>[tensor(1.1920), tensor(0.8248), tensor(0.6849...</td>\n",
       "      <td>[tensor(1.2188), tensor(0.7793), tensor(0.6751...</td>\n",
       "      <td>[tensor(1.0431), tensor(0.7342), tensor(0.6451...</td>\n",
       "      <td>[tensor(0.9700), tensor(0.7632), tensor(0.6665...</td>\n",
       "    </tr>\n",
       "    <tr>\n",
       "      <th>3</th>\n",
       "      <td>tensor(0.9326)</td>\n",
       "      <td>8</td>\n",
       "      <td>16</td>\n",
       "      <td>64</td>\n",
       "      <td>&lt;function init_weights at 0x000001680A229E18&gt;</td>\n",
       "      <td>0.4</td>\n",
       "      <td>CrossEntropyLoss()</td>\n",
       "      <td>&lt;class 'torch.optim.adam.Adam'&gt;</td>\n",
       "      <td>1e-05</td>\n",
       "      <td>0.0001</td>\n",
       "      <td>15</td>\n",
       "      <td>[tensor(2.1690), tensor(2.0951), tensor(2.0281...</td>\n",
       "      <td>[tensor(2.1960), tensor(2.1266), tensor(2.0440...</td>\n",
       "      <td>[tensor(2.1818), tensor(2.1058), tensor(2.0323...</td>\n",
       "      <td>[tensor(2.2195), tensor(2.1302), tensor(2.0359...</td>\n",
       "    </tr>\n",
       "    <tr>\n",
       "      <th>4</th>\n",
       "      <td>tensor(1.8274)</td>\n",
       "      <td>8</td>\n",
       "      <td>8</td>\n",
       "      <td>256</td>\n",
       "      <td>&lt;function init_weights at 0x000001680A229E18&gt;</td>\n",
       "      <td>0.4</td>\n",
       "      <td>CrossEntropyLoss()</td>\n",
       "      <td>&lt;class 'torch.optim.adamax.Adamax'&gt;</td>\n",
       "      <td>1e-05</td>\n",
       "      <td>0.0001</td>\n",
       "      <td>10</td>\n",
       "      <td>[tensor(2.2601), tensor(2.1659), tensor(2.1078...</td>\n",
       "      <td>[tensor(2.1998), tensor(2.1559), tensor(2.1136...</td>\n",
       "      <td>[tensor(2.3510), tensor(2.2057), tensor(2.1171...</td>\n",
       "      <td>[tensor(2.3399), tensor(2.2664), tensor(2.2204...</td>\n",
       "    </tr>\n",
       "    <tr>\n",
       "      <th>5</th>\n",
       "      <td>tensor(0.5048)</td>\n",
       "      <td>4</td>\n",
       "      <td>8</td>\n",
       "      <td>64</td>\n",
       "      <td>&lt;function init_weights at 0x000001680A229E18&gt;</td>\n",
       "      <td>0.3</td>\n",
       "      <td>CrossEntropyLoss()</td>\n",
       "      <td>&lt;class 'torch.optim.adam.Adam'&gt;</td>\n",
       "      <td>0</td>\n",
       "      <td>0.001</td>\n",
       "      <td>15</td>\n",
       "      <td>[tensor(1.4708), tensor(0.8758), tensor(0.7181...</td>\n",
       "      <td>[tensor(1.6385), tensor(0.9711), tensor(0.7807...</td>\n",
       "      <td>[tensor(1.3752), tensor(0.8642), tensor(0.7313...</td>\n",
       "      <td>[tensor(1.6790), tensor(0.9142), tensor(0.7708...</td>\n",
       "    </tr>\n",
       "    <tr>\n",
       "      <th>6</th>\n",
       "      <td>tensor(0.6134)</td>\n",
       "      <td>8</td>\n",
       "      <td>16</td>\n",
       "      <td>64</td>\n",
       "      <td>&lt;function init_weights at 0x000001680A229E18&gt;</td>\n",
       "      <td>0.4</td>\n",
       "      <td>CrossEntropyLoss()</td>\n",
       "      <td>&lt;class 'torch.optim.adamax.Adamax'&gt;</td>\n",
       "      <td>0.0001</td>\n",
       "      <td>0.001</td>\n",
       "      <td>15</td>\n",
       "      <td>[tensor(1.9074), tensor(1.2328), tensor(0.9817...</td>\n",
       "      <td>[tensor(2.0297), tensor(1.6858), tensor(1.3428...</td>\n",
       "      <td>[tensor(1.7432), tensor(1.0933), tensor(0.8858...</td>\n",
       "      <td>[tensor(1.8010), tensor(1.2432), tensor(1.0218...</td>\n",
       "    </tr>\n",
       "    <tr>\n",
       "      <th>7</th>\n",
       "      <td>tensor(1.5192)</td>\n",
       "      <td>4</td>\n",
       "      <td>16</td>\n",
       "      <td>64</td>\n",
       "      <td>&lt;function init_weights at 0x000001680A229E18&gt;</td>\n",
       "      <td>0.3</td>\n",
       "      <td>CrossEntropyLoss()</td>\n",
       "      <td>&lt;class 'torch.optim.adamax.Adamax'&gt;</td>\n",
       "      <td>0</td>\n",
       "      <td>0.0001</td>\n",
       "      <td>15</td>\n",
       "      <td>[tensor(2.2884), tensor(2.2698), tensor(2.2515...</td>\n",
       "      <td>[tensor(2.2777), tensor(2.2090), tensor(2.1628...</td>\n",
       "      <td>[tensor(2.2099), tensor(2.1165), tensor(2.0497...</td>\n",
       "      <td>[tensor(2.2469), tensor(2.1981), tensor(2.1501...</td>\n",
       "    </tr>\n",
       "    <tr>\n",
       "      <th>8</th>\n",
       "      <td>tensor(1.7043)</td>\n",
       "      <td>4</td>\n",
       "      <td>8</td>\n",
       "      <td>64</td>\n",
       "      <td>&lt;function init_weights at 0x000001680A229E18&gt;</td>\n",
       "      <td>0.2</td>\n",
       "      <td>CrossEntropyLoss()</td>\n",
       "      <td>&lt;class 'torch.optim.adamax.Adamax'&gt;</td>\n",
       "      <td>1e-05</td>\n",
       "      <td>0.0001</td>\n",
       "      <td>15</td>\n",
       "      <td>[tensor(2.4474), tensor(2.2920), tensor(2.2037...</td>\n",
       "      <td>[tensor(2.2676), tensor(2.2483), tensor(2.2291...</td>\n",
       "      <td>[tensor(2.2691), tensor(2.2348), tensor(2.2045...</td>\n",
       "      <td>[tensor(2.3094), tensor(2.2557), tensor(2.2190...</td>\n",
       "    </tr>\n",
       "    <tr>\n",
       "      <th>9</th>\n",
       "      <td>tensor(0.6067)</td>\n",
       "      <td>8</td>\n",
       "      <td>16</td>\n",
       "      <td>64</td>\n",
       "      <td>&lt;function init_weights at 0x000001680A229E18&gt;</td>\n",
       "      <td>0.3</td>\n",
       "      <td>CrossEntropyLoss()</td>\n",
       "      <td>&lt;class 'torch.optim.adamax.Adamax'&gt;</td>\n",
       "      <td>0</td>\n",
       "      <td>0.001</td>\n",
       "      <td>10</td>\n",
       "      <td>[tensor(1.5490), tensor(1.0681), tensor(0.9050...</td>\n",
       "      <td>[tensor(1.5768), tensor(0.9637), tensor(0.8062...</td>\n",
       "      <td>[tensor(1.5971), tensor(0.9833), tensor(0.8223...</td>\n",
       "      <td>[tensor(1.4283), tensor(0.9871), tensor(0.8481...</td>\n",
       "    </tr>\n",
       "  </tbody>\n",
       "</table>\n",
       "</div>"
      ],
      "text/plain": [
       "        mean_loss NChannel1 NChannel2 FCLSize  \\\n",
       "0  tensor(0.6367)         4         8      64   \n",
       "1  tensor(0.7882)         8         8      64   \n",
       "2  tensor(0.4493)         8         8     128   \n",
       "3  tensor(0.9326)         8        16      64   \n",
       "4  tensor(1.8274)         8         8     256   \n",
       "5  tensor(0.5048)         4         8      64   \n",
       "6  tensor(0.6134)         8        16      64   \n",
       "7  tensor(1.5192)         4        16      64   \n",
       "8  tensor(1.7043)         4         8      64   \n",
       "9  tensor(0.6067)         8        16      64   \n",
       "\n",
       "                                       init_func p_drop             loss_fn  \\\n",
       "0  <function init_weights at 0x000001680A229E18>    0.2  CrossEntropyLoss()   \n",
       "1  <function init_weights at 0x000001680A229E18>    0.4  CrossEntropyLoss()   \n",
       "2  <function init_weights at 0x000001680A229E18>    0.3  CrossEntropyLoss()   \n",
       "3  <function init_weights at 0x000001680A229E18>    0.4  CrossEntropyLoss()   \n",
       "4  <function init_weights at 0x000001680A229E18>    0.4  CrossEntropyLoss()   \n",
       "5  <function init_weights at 0x000001680A229E18>    0.3  CrossEntropyLoss()   \n",
       "6  <function init_weights at 0x000001680A229E18>    0.4  CrossEntropyLoss()   \n",
       "7  <function init_weights at 0x000001680A229E18>    0.3  CrossEntropyLoss()   \n",
       "8  <function init_weights at 0x000001680A229E18>    0.2  CrossEntropyLoss()   \n",
       "9  <function init_weights at 0x000001680A229E18>    0.3  CrossEntropyLoss()   \n",
       "\n",
       "                             optimizer w_decay      lr num_epochs  \\\n",
       "0  <class 'torch.optim.adamax.Adamax'>       0   0.001         10   \n",
       "1  <class 'torch.optim.adamax.Adamax'>   1e-05   0.001         10   \n",
       "2      <class 'torch.optim.adam.Adam'>   1e-05   0.001         15   \n",
       "3      <class 'torch.optim.adam.Adam'>   1e-05  0.0001         15   \n",
       "4  <class 'torch.optim.adamax.Adamax'>   1e-05  0.0001         10   \n",
       "5      <class 'torch.optim.adam.Adam'>       0   0.001         15   \n",
       "6  <class 'torch.optim.adamax.Adamax'>  0.0001   0.001         15   \n",
       "7  <class 'torch.optim.adamax.Adamax'>       0  0.0001         15   \n",
       "8  <class 'torch.optim.adamax.Adamax'>   1e-05  0.0001         15   \n",
       "9  <class 'torch.optim.adamax.Adamax'>       0   0.001         10   \n",
       "\n",
       "                                         losslog_cv0  \\\n",
       "0  [tensor(1.9319), tensor(1.2430), tensor(0.9735...   \n",
       "1  [tensor(2.2317), tensor(2.1259), tensor(1.8143...   \n",
       "2  [tensor(1.1920), tensor(0.8248), tensor(0.6849...   \n",
       "3  [tensor(2.1690), tensor(2.0951), tensor(2.0281...   \n",
       "4  [tensor(2.2601), tensor(2.1659), tensor(2.1078...   \n",
       "5  [tensor(1.4708), tensor(0.8758), tensor(0.7181...   \n",
       "6  [tensor(1.9074), tensor(1.2328), tensor(0.9817...   \n",
       "7  [tensor(2.2884), tensor(2.2698), tensor(2.2515...   \n",
       "8  [tensor(2.4474), tensor(2.2920), tensor(2.2037...   \n",
       "9  [tensor(1.5490), tensor(1.0681), tensor(0.9050...   \n",
       "\n",
       "                                         losslog_cv1  \\\n",
       "0  [tensor(2.0406), tensor(1.4849), tensor(1.0433...   \n",
       "1  [tensor(2.0322), tensor(1.6587), tensor(1.3209...   \n",
       "2  [tensor(1.2188), tensor(0.7793), tensor(0.6751...   \n",
       "3  [tensor(2.1960), tensor(2.1266), tensor(2.0440...   \n",
       "4  [tensor(2.1998), tensor(2.1559), tensor(2.1136...   \n",
       "5  [tensor(1.6385), tensor(0.9711), tensor(0.7807...   \n",
       "6  [tensor(2.0297), tensor(1.6858), tensor(1.3428...   \n",
       "7  [tensor(2.2777), tensor(2.2090), tensor(2.1628...   \n",
       "8  [tensor(2.2676), tensor(2.2483), tensor(2.2291...   \n",
       "9  [tensor(1.5768), tensor(0.9637), tensor(0.8062...   \n",
       "\n",
       "                                         losslog_cv2  \\\n",
       "0  [tensor(1.8606), tensor(1.1910), tensor(0.8721...   \n",
       "1  [tensor(2.1343), tensor(1.8699), tensor(1.4221...   \n",
       "2  [tensor(1.0431), tensor(0.7342), tensor(0.6451...   \n",
       "3  [tensor(2.1818), tensor(2.1058), tensor(2.0323...   \n",
       "4  [tensor(2.3510), tensor(2.2057), tensor(2.1171...   \n",
       "5  [tensor(1.3752), tensor(0.8642), tensor(0.7313...   \n",
       "6  [tensor(1.7432), tensor(1.0933), tensor(0.8858...   \n",
       "7  [tensor(2.2099), tensor(2.1165), tensor(2.0497...   \n",
       "8  [tensor(2.2691), tensor(2.2348), tensor(2.2045...   \n",
       "9  [tensor(1.5971), tensor(0.9833), tensor(0.8223...   \n",
       "\n",
       "                                         losslog_cv3  \n",
       "0  [tensor(1.7814), tensor(1.1611), tensor(0.9307...  \n",
       "1  [tensor(1.9752), tensor(1.5489), tensor(1.2357...  \n",
       "2  [tensor(0.9700), tensor(0.7632), tensor(0.6665...  \n",
       "3  [tensor(2.2195), tensor(2.1302), tensor(2.0359...  \n",
       "4  [tensor(2.3399), tensor(2.2664), tensor(2.2204...  \n",
       "5  [tensor(1.6790), tensor(0.9142), tensor(0.7708...  \n",
       "6  [tensor(1.8010), tensor(1.2432), tensor(1.0218...  \n",
       "7  [tensor(2.2469), tensor(2.1981), tensor(2.1501...  \n",
       "8  [tensor(2.3094), tensor(2.2557), tensor(2.2190...  \n",
       "9  [tensor(1.4283), tensor(0.9871), tensor(0.8481...  "
      ]
     },
     "execution_count": 402,
     "metadata": {},
     "output_type": "execute_result"
    }
   ],
   "source": [
    "results"
   ]
  },
  {
   "cell_type": "code",
   "execution_count": 403,
   "metadata": {},
   "outputs": [
    {
     "data": {
      "text/plain": [
       "mean_loss                                         tensor(0.4493)\n",
       "NChannel1                                                      8\n",
       "NChannel2                                                      8\n",
       "FCLSize                                                      128\n",
       "init_func          <function init_weights at 0x000001680A229E18>\n",
       "p_drop                                                       0.3\n",
       "loss_fn                                       CrossEntropyLoss()\n",
       "optimizer                        <class 'torch.optim.adam.Adam'>\n",
       "w_decay                                                    1e-05\n",
       "lr                                                         0.001\n",
       "num_epochs                                                    15\n",
       "losslog_cv0    [tensor(1.1920), tensor(0.8248), tensor(0.6849...\n",
       "losslog_cv1    [tensor(1.2188), tensor(0.7793), tensor(0.6751...\n",
       "losslog_cv2    [tensor(1.0431), tensor(0.7342), tensor(0.6451...\n",
       "losslog_cv3    [tensor(0.9700), tensor(0.7632), tensor(0.6665...\n",
       "Name: 2, dtype: object"
      ]
     },
     "execution_count": 403,
     "metadata": {},
     "output_type": "execute_result"
    }
   ],
   "source": [
    "best_results = results.loc[results.mean_loss.apply(float).idxmin()]\n",
    "best_results"
   ]
  },
  {
   "cell_type": "markdown",
   "metadata": {},
   "source": [
    "The random search showed again that regularizations schemes such as weight decay (or L2 regularization) and dropout help in the training procedures. Also the netwrok size has not been chosen too big neither too small, since these extremes tend to either overfit or be too simple. Adam seems to be the best optimizer and the number of epochs is set at 15"
   ]
  },
  {
   "cell_type": "code",
   "execution_count": 405,
   "metadata": {},
   "outputs": [
    {
     "name": "stdout",
     "output_type": "stream",
     "text": [
      "Training device: cpu\n",
      "Network initialized\n"
     ]
    },
    {
     "data": {
      "text/plain": [
       "tensor([[ 0.2541, -0.0367,  0.1540,  0.5659,  0.1163,  0.1763, -0.1659, -0.3629,\n",
       "          0.3576, -0.0069]], grad_fn=<AddmmBackward>)"
      ]
     },
     "execution_count": 405,
     "metadata": {},
     "output_type": "execute_result"
    }
   ],
   "source": [
    "batch_size = 256\n",
    "train_dataloader = DataLoader(train_dataset , batch_size=batch_size           , shuffle=True  , num_workers=0)\n",
    "val_dataloader   = DataLoader(val_dataset   , batch_size=len(val_dataset) , shuffle=False , num_workers=0)\n",
    "\n",
    "device = torch.device(\"cuda\") if torch.cuda.is_available() else torch.device(\"cpu\")\n",
    "print(f\"Training device: {device}\")\n",
    "\n",
    "\n",
    "torch.manual_seed(0)\n",
    "In        = (28,28)\n",
    "Out       = 10\n",
    "NChannels = [best_results.NChannel1,best_results.NChannel2]\n",
    "Ksize     = [(4,4)]*2\n",
    "FCLSize   = best_results.FCLSize\n",
    "\n",
    "Net = ConvNet(In,Out,NChannels,Ksize,FCLSize,pDropout = best_results.p_drop)\n",
    "\n",
    "loss_fn = nn.CrossEntropyLoss()\n",
    "\n",
    "optimizer = best_results.optimizer(Net.parameters(), lr=best_results.lr\n",
    "                                   ,weight_decay=best_results.w_decay)\n",
    "\n",
    "Net(train_dataset[78][0].unsqueeze(0).to(device))\n"
   ]
  },
  {
   "cell_type": "code",
   "execution_count": 406,
   "metadata": {},
   "outputs": [
    {
     "name": "stderr",
     "output_type": "stream",
     "text": [
      "100%|██████████████████████████████████████████████████████████████████████████████████| 15/15 [04:46<00:00, 19.13s/it]\n"
     ]
    }
   ],
   "source": [
    "train_loss_log, val_loss_log = train_func(Net,train_dataloader,val_dataloader,device,\n",
    "                                          loss_fn, optimizer, verbose=0,\n",
    "                                          num_epochs=best_results.num_epochs, disable_tqdm=True)"
   ]
  },
  {
   "cell_type": "code",
   "execution_count": 407,
   "metadata": {},
   "outputs": [
    {
     "data": {
      "image/png": "[encoded data removed]",
      "text/plain": [
       "<Figure size 432x288 with 1 Axes>"
      ]
     },
     "metadata": {
      "needs_background": "light"
     },
     "output_type": "display_data"
    }
   ],
   "source": [
    "plt.plot(train_loss_log, label = 'Loss over train data')\n",
    "plt.plot(val_loss_log, label = 'Loss over validation data')\n",
    "plt.xlabel('Epoch')\n",
    "plt.ylabel('Cross Entropy loss')\n",
    "plt.title('Network performance during training')\n",
    "plt.legend()\n",
    "plt.grid()\n",
    "plt.show()"
   ]
  },
  {
   "cell_type": "markdown",
   "metadata": {},
   "source": [
    "### Analysis of the results of the random search"
   ]
  },
  {
   "cell_type": "markdown",
   "metadata": {},
   "source": [
    "The best way to evaluate the performance of a supervised learning classifier algorithm is to plot the **confusion matrix**, which will help to see the performance for each class of object, by creating a matrix with on the rows the true label of the samples and on the columns the predicted label. The value of the overall performance of this step is determined by the accuracy more than the value of the loss function. The perfect classifier will put every sample on the diagonal, so the way that the network will deviate from this ideal gives a measure on how much it's getting wrong, and in what way it is failing."
   ]
  },
  {
   "cell_type": "code",
   "execution_count": 408,
   "metadata": {},
   "outputs": [],
   "source": [
    "sm = torch.nn.Softmax(dim=1)\n",
    "\n",
    "val_out, val_labels , valloss = test_epoch(Net,device,test_dataloader,loss_fn)\n",
    "val_out        = np.array(sm(val_out))\n",
    "val_out_labels = np.argmax(val_out,axis=1)\n",
    "val_acc = 100*(sum(np.array(val_labels)==val_out_labels))/val_out_labels.shape\n",
    "classes = test_dataset.classes\n",
    "NClass = len(classes)\n",
    "Conf_matrix = np.zeros([ NClass , NClass ])\n",
    "for i in np.arange(val_out_labels.size):\n",
    "    Conf_matrix[ val_labels[i] , val_out_labels[i] ] += 1\n",
    "_, n_of_labels = np.unique(val_labels, return_counts = True)\n",
    "Conf_matrix = Conf_matrix.T/Conf_matrix.T.sum(axis=0)"
   ]
  },
  {
   "cell_type": "code",
   "execution_count": 409,
   "metadata": {},
   "outputs": [],
   "source": [
    "Conf_matrix = Conf_matrix.T"
   ]
  },
  {
   "cell_type": "code",
   "execution_count": 410,
   "metadata": {},
   "outputs": [
    {
     "data": {
      "image/png": "[encoded data removed]",
      "text/plain": [
       "<Figure size 504x504 with 1 Axes>"
      ]
     },
     "metadata": {
      "needs_background": "light"
     },
     "output_type": "display_data"
    }
   ],
   "source": [
    "import seaborn as sns\n",
    "fig,ax=plt.subplots(figsize=[7,7])\n",
    "plt.suptitle('Confusion matrix',y=1.05,fontsize=15,weight='bold')\n",
    "\n",
    "\n",
    "\n",
    "df_Confusion = pd.DataFrame( Conf_matrix*100 ,classes,classes)\n",
    "\n",
    "\n",
    "\n",
    "sns.heatmap(df_Confusion, ax = ax, cmap = 'PuBu', square = True, annot = True , fmt = '.1f', \n",
    "            cbar = False, cbar_kws = {\"shrink\": 0.56} )\n",
    "\n",
    "ax.set_title('Validation' + f' Dataset\\nOverall accuracy: {val_acc[0]:.1f} % ', fontweight='bold')\n",
    "ax.set_ylabel('True Label')\n",
    "ax.set_xlabel('Predicted Label')\n",
    "\n",
    "ax.set_ylim(10,-0.5, -0.5)\n",
    "plt.tight_layout()\n",
    "#plt.savefig('net_out.png')\n",
    "plt.show()"
   ]
  },
  {
   "cell_type": "markdown",
   "metadata": {},
   "source": [
    "### Visualization of the weigths\n",
    "\n",
    "To see if the convolution windows encompass some  recognisable features we will try to visualize the weights, both of the first and the second convolutional layer."
   ]
  },
  {
   "cell_type": "code",
   "execution_count": 411,
   "metadata": {},
   "outputs": [
    {
     "data": {
      "image/png": "[encoded data removed]",
      "text/plain": [
       "<Figure size 432x288 with 8 Axes>"
      ]
     },
     "metadata": {
      "needs_background": "light"
     },
     "output_type": "display_data"
    },
    {
     "data": {
      "image/png": "[encoded data removed]",
      "text/plain": [
       "<Figure size 432x288 with 64 Axes>"
      ]
     },
     "metadata": {
      "needs_background": "light"
     },
     "output_type": "display_data"
    }
   ],
   "source": [
    "fig = plt.figure()\n",
    "plt.suptitle('First Layer Kernels weights',y=0.7)\n",
    "Conv1  = Net.ConvLayer[0].weight.data.numpy()\n",
    "Ch1    = Conv1.shape[0]\n",
    "                \n",
    "\n",
    "for i in np.arange(Ch1):\n",
    "    ax = fig.add_subplot(1,Ch1,i+1)\n",
    "    ax.imshow(Conv1[i,0,:,:],cmap='Greys')\n",
    "    ax.axis('off')\n",
    "plt.tight_layout()\n",
    "plt.show()\n",
    "fig = plt.figure()\n",
    "plt.suptitle('Second Layer Kernels weights',y=1.05)\n",
    "Conv2  = Net.ConvLayer[3].weight.data.numpy()\n",
    "Ch1 = Conv2.shape[0]\n",
    "Ch2 = Conv2.shape[1]\n",
    "\n",
    "\n",
    "\n",
    "for i in np.arange(Ch1):\n",
    "    for j in np.arange(Ch2):\n",
    "        ax = fig.add_subplot(Ch1,Ch2,i*Ch2+j+1)\n",
    "        if i==0:\n",
    "            ax.set_title('Ch'+str(j))\n",
    "        ax.imshow(Conv2[i,j,:,:],cmap='Greys')\n",
    "        ax.axis('off')\n",
    "#        ax.set_title(str(i) + str(j))\n",
    "#plt.tight_layout()\n",
    "plt.show()"
   ]
  },
  {
   "cell_type": "markdown",
   "metadata": {},
   "source": [
    "As it could be expected, no discernable features are apparent in the weights and to human eyes look just like random noise.\n",
    "\n",
    "The next section is dedicated to look for features in the activation profiles of the network last convolutional layer, after an image has been passed throught. This should results in a number of activation profiles equal to the number of last layer channels."
   ]
  },
  {
   "cell_type": "code",
   "execution_count": 413,
   "metadata": {},
   "outputs": [
    {
     "data": {
      "image/png": "[encoded data removed]",
      "text/plain": [
       "<Figure size 1080x216 with 9 Axes>"
      ]
     },
     "metadata": {
      "needs_background": "light"
     },
     "output_type": "display_data"
    },
    {
     "data": {
      "image/png": "[encoded data removed]",
      "text/plain": [
       "<Figure size 1080x216 with 9 Axes>"
      ]
     },
     "metadata": {
      "needs_background": "light"
     },
     "output_type": "display_data"
    },
    {
     "data": {
      "image/png": "[encoded data removed]",
      "text/plain": [
       "<Figure size 1080x216 with 9 Axes>"
      ]
     },
     "metadata": {
      "needs_background": "light"
     },
     "output_type": "display_data"
    }
   ],
   "source": [
    "def get_activation(layer, input, output):\n",
    "    global activation\n",
    "    activation = torch.sigmoid(output)\n",
    "\n",
    "### Register hook\n",
    "def ConvActivationVisualizer(Net,figsize,classes,test_image,label):\n",
    "    hook_handle = Net.ConvLayer.register_forward_hook(get_activation)\n",
    "\n",
    "    Net = Net.to(device)\n",
    "    Net.eval()\n",
    "\n",
    "\n",
    "    with torch.no_grad():\n",
    "        y1 = Net(test_image.unsqueeze(0))\n",
    "        z1 = activation\n",
    "    hook_handle.remove()\n",
    "    Ch1    = z1.shape[1]\n",
    "\n",
    "\n",
    "    fig = plt.figure(figsize=figsize)\n",
    "    plt.subplot2grid((2,Ch1+2),(0,0),colspan=2,rowspan=2)\n",
    "    plt.imshow(test_image.squeeze(0),cmap='Greys')\n",
    "    plt.title(classes[label])\n",
    "    plt.axis('off')\n",
    "\n",
    "\n",
    "    plt.suptitle('Convolutional Layers output channels',y=0.75)\n",
    "\n",
    "    for i in np.arange(Ch1):\n",
    "        ax = fig.add_subplot(1,Ch1+2,i+3)\n",
    "        ax.imshow(z1[0,i,:,:],cmap='Greys')\n",
    "        ax.axis('off')\n",
    "    plt.tight_layout()\n",
    "    plt.show()\n",
    "\n",
    "\n",
    "figsize = [15,3]\n",
    "ConvActivationVisualizer(Net,figsize,classes,*val_dataset[1])\n",
    "ConvActivationVisualizer(Net,figsize,classes,*val_dataset[10])\n",
    "ConvActivationVisualizer(Net,figsize,classes,*val_dataset[1000])"
   ]
  },
  {
   "cell_type": "markdown",
   "metadata": {},
   "source": [
    "Some features of the original image are still visible in the actvations, but is difficult to know what the network is doing under the hood. The only recognaizable behaviours are that some channels seems to be more sensitive to vertical, horizontal or diagonal edges, wich is a feature of many convolutional neural networks that work with images."
   ]
  },
  {
   "cell_type": "markdown",
   "metadata": {},
   "source": [
    "## Results.\n",
    "\n",
    "The Convolutional neural network was succesfully able to achieve a pretty good performance in classifing the different classes, as is possible to see from the confusion matrix. Some classes are easily confused, as is the case with similar items of clothing, like the coat-pullover and shirt- T-shirt pairs. Classes of sample with a very different appearance than the rest, like trousers, seem to achieve really high accuracies. \n",
    "\n",
    "The meauser taken to avoid overfitting, like the addition of weight decay in the optimizer algorithm and the dropout, seems to be effective, since the difference between training and validation are not too great.\n",
    "\n",
    "The addition of input modification seems to also do the job, by helping the network to generalize its results.\n",
    "\n",
    "To improve performances, in the future it might help to find different strategies to modify the input even more, and also add layers and complexity to the network\n"
   ]
  },
  {
   "cell_type": "code",
   "execution_count": null,
   "metadata": {},
   "outputs": [],
   "source": []
  }
 ],
 "metadata": {
  "accelerator": "GPU",
  "colab": {
   "collapsed_sections": [],
   "name": "nndl_2021__homework_1.ipynb",
   "provenance": []
  },
  "kernelspec": {
   "display_name": "Python 3",
   "language": "python",
   "name": "python3"
  },
  "language_info": {
   "codemirror_mode": {
    "name": "ipython",
    "version": 3
   },
   "file_extension": ".py",
   "mimetype": "text/x-python",
   "name": "python",
   "nbconvert_exporter": "python",
   "pygments_lexer": "ipython3",
   "version": "3.6.13"
  },
  "toc-autonumbering": true,
  "toc-showcode": false,
  "toc-showmarkdowntxt": false,
  "widgets": {
   "application/vnd.jupyter.widget-state+json": {
    "0ca774af453d49e586dd4ac4fdac9663": {
     "model_module": "@jupyter-widgets/controls",
     "model_module_version": "1.5.0",
     "model_name": "FloatProgressModel",
     "state": {
      "_dom_classes": [],
      "_model_module": "@jupyter-widgets/controls",
      "_model_module_version": "1.5.0",
      "_model_name": "FloatProgressModel",
      "_view_count": null,
      "_view_module": "@jupyter-widgets/controls",
      "_view_module_version": "1.5.0",
      "_view_name": "ProgressView",
      "bar_style": "success",
      "description": "",
      "description_tooltip": null,
      "layout": "IPY_MODEL_abdc7c640853476eb2bd1f4edbbe9d24",
      "max": 29515,
      "min": 0,
      "orientation": "horizontal",
      "style": "IPY_MODEL_beeeefdc08e24464ba4369da9cd7faea",
      "value": 29515
     }
    },
    "108907707fb246c6aa2eb0055f22b6ad": {
     "model_module": "@jupyter-widgets/controls",
     "model_module_version": "1.5.0",
     "model_name": "ProgressStyleModel",
     "state": {
      "_model_module": "@jupyter-widgets/controls",
      "_model_module_version": "1.5.0",
      "_model_name": "ProgressStyleModel",
      "_view_count": null,
      "_view_module": "@jupyter-widgets/base",
      "_view_module_version": "1.2.0",
      "_view_name": "StyleView",
      "bar_color": null,
      "description_width": ""
     }
    },
    "1329211232b54ee48ee7b37e38a0416f": {
     "model_module": "@jupyter-widgets/controls",
     "model_module_version": "1.5.0",
     "model_name": "DescriptionStyleModel",
     "state": {
      "_model_module": "@jupyter-widgets/controls",
      "_model_module_version": "1.5.0",
      "_model_name": "DescriptionStyleModel",
      "_view_count": null,
      "_view_module": "@jupyter-widgets/base",
      "_view_module_version": "1.2.0",
      "_view_name": "StyleView",
      "description_width": ""
     }
    },
    "182a074481514dbc9f92a1a31923be73": {
     "model_module": "@jupyter-widgets/controls",
     "model_module_version": "1.5.0",
     "model_name": "HTMLModel",
     "state": {
      "_dom_classes": [],
      "_model_module": "@jupyter-widgets/controls",
      "_model_module_version": "1.5.0",
      "_model_name": "HTMLModel",
      "_view_count": null,
      "_view_module": "@jupyter-widgets/controls",
      "_view_module_version": "1.5.0",
      "_view_name": "HTMLView",
      "description": "",
      "description_tooltip": null,
      "layout": "IPY_MODEL_65abcefd8e25405aa5006179d335d2c5",
      "placeholder": "​",
      "style": "IPY_MODEL_f0e07a02ccce46caaccca01b8fa93686",
      "value": ""
     }
    },
    "1fbf8bf7242b415c9cccda738b25ed04": {
     "model_module": "@jupyter-widgets/base",
     "model_module_version": "1.2.0",
     "model_name": "LayoutModel",
     "state": {
      "_model_module": "@jupyter-widgets/base",
      "_model_module_version": "1.2.0",
      "_model_name": "LayoutModel",
      "_view_count": null,
      "_view_module": "@jupyter-widgets/base",
      "_view_module_version": "1.2.0",
      "_view_name": "LayoutView",
      "align_content": null,
      "align_items": null,
      "align_self": null,
      "border": null,
      "bottom": null,
      "display": null,
      "flex": null,
      "flex_flow": null,
      "grid_area": null,
      "grid_auto_columns": null,
      "grid_auto_flow": null,
      "grid_auto_rows": null,
      "grid_column": null,
      "grid_gap": null,
      "grid_row": null,
      "grid_template_areas": null,
      "grid_template_columns": null,
      "grid_template_rows": null,
      "height": null,
      "justify_content": null,
      "justify_items": null,
      "left": null,
      "margin": null,
      "max_height": null,
      "max_width": null,
      "min_height": null,
      "min_width": null,
      "object_fit": null,
      "object_position": null,
      "order": null,
      "overflow": null,
      "overflow_x": null,
      "overflow_y": null,
      "padding": null,
      "right": null,
      "top": null,
      "visibility": null,
      "width": null
     }
    },
    "24139599cc964b0283c787010d446db3": {
     "model_module": "@jupyter-widgets/controls",
     "model_module_version": "1.5.0",
     "model_name": "HTMLModel",
     "state": {
      "_dom_classes": [],
      "_model_module": "@jupyter-widgets/controls",
      "_model_module_version": "1.5.0",
      "_model_name": "HTMLModel",
      "_view_count": null,
      "_view_module": "@jupyter-widgets/controls",
      "_view_module_version": "1.5.0",
      "_view_name": "HTMLView",
      "description": "",
      "description_tooltip": null,
      "layout": "IPY_MODEL_672dd44117534a09b867291ac9f70974",
      "placeholder": "​",
      "style": "IPY_MODEL_60f1c19eede14af189bcd752f09e0b2e",
      "value": ""
     }
    },
    "28234bab3d1d43aea0e50d1245cd16f2": {
     "model_module": "@jupyter-widgets/base",
     "model_module_version": "1.2.0",
     "model_name": "LayoutModel",
     "state": {
      "_model_module": "@jupyter-widgets/base",
      "_model_module_version": "1.2.0",
      "_model_name": "LayoutModel",
      "_view_count": null,
      "_view_module": "@jupyter-widgets/base",
      "_view_module_version": "1.2.0",
      "_view_name": "LayoutView",
      "align_content": null,
      "align_items": null,
      "align_self": null,
      "border": null,
      "bottom": null,
      "display": null,
      "flex": null,
      "flex_flow": null,
      "grid_area": null,
      "grid_auto_columns": null,
      "grid_auto_flow": null,
      "grid_auto_rows": null,
      "grid_column": null,
      "grid_gap": null,
      "grid_row": null,
      "grid_template_areas": null,
      "grid_template_columns": null,
      "grid_template_rows": null,
      "height": null,
      "justify_content": null,
      "justify_items": null,
      "left": null,
      "margin": null,
      "max_height": null,
      "max_width": null,
      "min_height": null,
      "min_width": null,
      "object_fit": null,
      "object_position": null,
      "order": null,
      "overflow": null,
      "overflow_x": null,
      "overflow_y": null,
      "padding": null,
      "right": null,
      "top": null,
      "visibility": null,
      "width": null
     }
    },
    "3129bcbfd8ad40cb8797f60fe984fe3c": {
     "model_module": "@jupyter-widgets/controls",
     "model_module_version": "1.5.0",
     "model_name": "HTMLModel",
     "state": {
      "_dom_classes": [],
      "_model_module": "@jupyter-widgets/controls",
      "_model_module_version": "1.5.0",
      "_model_name": "HTMLModel",
      "_view_count": null,
      "_view_module": "@jupyter-widgets/controls",
      "_view_module_version": "1.5.0",
      "_view_name": "HTMLView",
      "description": "",
      "description_tooltip": null,
      "layout": "IPY_MODEL_72ad719dc306468cb506250d92f570ae",
      "placeholder": "​",
      "style": "IPY_MODEL_c0494a7e04d549b5a9323fa43d9ad3b2",
      "value": " 29696/? [00:00&lt;00:00, 304641.88it/s]"
     }
    },
    "32e794677d834420bdb9c664cff6f7cc": {
     "model_module": "@jupyter-widgets/controls",
     "model_module_version": "1.5.0",
     "model_name": "HBoxModel",
     "state": {
      "_dom_classes": [],
      "_model_module": "@jupyter-widgets/controls",
      "_model_module_version": "1.5.0",
      "_model_name": "HBoxModel",
      "_view_count": null,
      "_view_module": "@jupyter-widgets/controls",
      "_view_module_version": "1.5.0",
      "_view_name": "HBoxView",
      "box_style": "",
      "children": [
       "IPY_MODEL_cf57be0a6c7340ca8b54e0809ba0fbc9",
       "IPY_MODEL_7b8fe897f59046e68eb75a8cdd5e92de",
       "IPY_MODEL_d9277c7a992c4f9491530f6d443fc68e"
      ],
      "layout": "IPY_MODEL_acac05934e5647e8ad42893b8a6c10d1"
     }
    },
    "4725b0ab205e4520a3ad0004728ac82c": {
     "model_module": "@jupyter-widgets/controls",
     "model_module_version": "1.5.0",
     "model_name": "DescriptionStyleModel",
     "state": {
      "_model_module": "@jupyter-widgets/controls",
      "_model_module_version": "1.5.0",
      "_model_name": "DescriptionStyleModel",
      "_view_count": null,
      "_view_module": "@jupyter-widgets/base",
      "_view_module_version": "1.2.0",
      "_view_name": "StyleView",
      "description_width": ""
     }
    },
    "4c06f483297d47a2a1f81d3dde6007b5": {
     "model_module": "@jupyter-widgets/controls",
     "model_module_version": "1.5.0",
     "model_name": "HTMLModel",
     "state": {
      "_dom_classes": [],
      "_model_module": "@jupyter-widgets/controls",
      "_model_module_version": "1.5.0",
      "_model_name": "HTMLModel",
      "_view_count": null,
      "_view_module": "@jupyter-widgets/controls",
      "_view_module_version": "1.5.0",
      "_view_name": "HTMLView",
      "description": "",
      "description_tooltip": null,
      "layout": "IPY_MODEL_eaf3615362384da3961655307f87bc3a",
      "placeholder": "​",
      "style": "IPY_MODEL_4725b0ab205e4520a3ad0004728ac82c",
      "value": " 4422656/? [00:00&lt;00:00, 8742811.50it/s]"
     }
    },
    "54fd73e547ed43639e80285963517549": {
     "model_module": "@jupyter-widgets/controls",
     "model_module_version": "1.5.0",
     "model_name": "HBoxModel",
     "state": {
      "_dom_classes": [],
      "_model_module": "@jupyter-widgets/controls",
      "_model_module_version": "1.5.0",
      "_model_name": "HBoxModel",
      "_view_count": null,
      "_view_module": "@jupyter-widgets/controls",
      "_view_module_version": "1.5.0",
      "_view_name": "HBoxView",
      "box_style": "",
      "children": [
       "IPY_MODEL_6d9710d95a8247a5b7bc391a2350e55c",
       "IPY_MODEL_ead636b58dfc422596f2e5e53119c830",
       "IPY_MODEL_4c06f483297d47a2a1f81d3dde6007b5"
      ],
      "layout": "IPY_MODEL_f38390085e504e048e77154395244471"
     }
    },
    "60f1c19eede14af189bcd752f09e0b2e": {
     "model_module": "@jupyter-widgets/controls",
     "model_module_version": "1.5.0",
     "model_name": "DescriptionStyleModel",
     "state": {
      "_model_module": "@jupyter-widgets/controls",
      "_model_module_version": "1.5.0",
      "_model_name": "DescriptionStyleModel",
      "_view_count": null,
      "_view_module": "@jupyter-widgets/base",
      "_view_module_version": "1.2.0",
      "_view_name": "StyleView",
      "description_width": ""
     }
    },
    "65abcefd8e25405aa5006179d335d2c5": {
     "model_module": "@jupyter-widgets/base",
     "model_module_version": "1.2.0",
     "model_name": "LayoutModel",
     "state": {
      "_model_module": "@jupyter-widgets/base",
      "_model_module_version": "1.2.0",
      "_model_name": "LayoutModel",
      "_view_count": null,
      "_view_module": "@jupyter-widgets/base",
      "_view_module_version": "1.2.0",
      "_view_name": "LayoutView",
      "align_content": null,
      "align_items": null,
      "align_self": null,
      "border": null,
      "bottom": null,
      "display": null,
      "flex": null,
      "flex_flow": null,
      "grid_area": null,
      "grid_auto_columns": null,
      "grid_auto_flow": null,
      "grid_auto_rows": null,
      "grid_column": null,
      "grid_gap": null,
      "grid_row": null,
      "grid_template_areas": null,
      "grid_template_columns": null,
      "grid_template_rows": null,
      "height": null,
      "justify_content": null,
      "justify_items": null,
      "left": null,
      "margin": null,
      "max_height": null,
      "max_width": null,
      "min_height": null,
      "min_width": null,
      "object_fit": null,
      "object_position": null,
      "order": null,
      "overflow": null,
      "overflow_x": null,
      "overflow_y": null,
      "padding": null,
      "right": null,
      "top": null,
      "visibility": null,
      "width": null
     }
    },
    "672dd44117534a09b867291ac9f70974": {
     "model_module": "@jupyter-widgets/base",
     "model_module_version": "1.2.0",
     "model_name": "LayoutModel",
     "state": {
      "_model_module": "@jupyter-widgets/base",
      "_model_module_version": "1.2.0",
      "_model_name": "LayoutModel",
      "_view_count": null,
      "_view_module": "@jupyter-widgets/base",
      "_view_module_version": "1.2.0",
      "_view_name": "LayoutView",
      "align_content": null,
      "align_items": null,
      "align_self": null,
      "border": null,
      "bottom": null,
      "display": null,
      "flex": null,
      "flex_flow": null,
      "grid_area": null,
      "grid_auto_columns": null,
      "grid_auto_flow": null,
      "grid_auto_rows": null,
      "grid_column": null,
      "grid_gap": null,
      "grid_row": null,
      "grid_template_areas": null,
      "grid_template_columns": null,
      "grid_template_rows": null,
      "height": null,
      "justify_content": null,
      "justify_items": null,
      "left": null,
      "margin": null,
      "max_height": null,
      "max_width": null,
      "min_height": null,
      "min_width": null,
      "object_fit": null,
      "object_position": null,
      "order": null,
      "overflow": null,
      "overflow_x": null,
      "overflow_y": null,
      "padding": null,
      "right": null,
      "top": null,
      "visibility": null,
      "width": null
     }
    },
    "6cdcb148e8a446be913504e4d9e16634": {
     "model_module": "@jupyter-widgets/base",
     "model_module_version": "1.2.0",
     "model_name": "LayoutModel",
     "state": {
      "_model_module": "@jupyter-widgets/base",
      "_model_module_version": "1.2.0",
      "_model_name": "LayoutModel",
      "_view_count": null,
      "_view_module": "@jupyter-widgets/base",
      "_view_module_version": "1.2.0",
      "_view_name": "LayoutView",
      "align_content": null,
      "align_items": null,
      "align_self": null,
      "border": null,
      "bottom": null,
      "display": null,
      "flex": null,
      "flex_flow": null,
      "grid_area": null,
      "grid_auto_columns": null,
      "grid_auto_flow": null,
      "grid_auto_rows": null,
      "grid_column": null,
      "grid_gap": null,
      "grid_row": null,
      "grid_template_areas": null,
      "grid_template_columns": null,
      "grid_template_rows": null,
      "height": null,
      "justify_content": null,
      "justify_items": null,
      "left": null,
      "margin": null,
      "max_height": null,
      "max_width": null,
      "min_height": null,
      "min_width": null,
      "object_fit": null,
      "object_position": null,
      "order": null,
      "overflow": null,
      "overflow_x": null,
      "overflow_y": null,
      "padding": null,
      "right": null,
      "top": null,
      "visibility": null,
      "width": null
     }
    },
    "6d9710d95a8247a5b7bc391a2350e55c": {
     "model_module": "@jupyter-widgets/controls",
     "model_module_version": "1.5.0",
     "model_name": "HTMLModel",
     "state": {
      "_dom_classes": [],
      "_model_module": "@jupyter-widgets/controls",
      "_model_module_version": "1.5.0",
      "_model_name": "HTMLModel",
      "_view_count": null,
      "_view_module": "@jupyter-widgets/controls",
      "_view_module_version": "1.5.0",
      "_view_name": "HTMLView",
      "description": "",
      "description_tooltip": null,
      "layout": "IPY_MODEL_f311b7a94b244f87b5badd6824089d38",
      "placeholder": "​",
      "style": "IPY_MODEL_1329211232b54ee48ee7b37e38a0416f",
      "value": ""
     }
    },
    "72ad719dc306468cb506250d92f570ae": {
     "model_module": "@jupyter-widgets/base",
     "model_module_version": "1.2.0",
     "model_name": "LayoutModel",
     "state": {
      "_model_module": "@jupyter-widgets/base",
      "_model_module_version": "1.2.0",
      "_model_name": "LayoutModel",
      "_view_count": null,
      "_view_module": "@jupyter-widgets/base",
      "_view_module_version": "1.2.0",
      "_view_name": "LayoutView",
      "align_content": null,
      "align_items": null,
      "align_self": null,
      "border": null,
      "bottom": null,
      "display": null,
      "flex": null,
      "flex_flow": null,
      "grid_area": null,
      "grid_auto_columns": null,
      "grid_auto_flow": null,
      "grid_auto_rows": null,
      "grid_column": null,
      "grid_gap": null,
      "grid_row": null,
      "grid_template_areas": null,
      "grid_template_columns": null,
      "grid_template_rows": null,
      "height": null,
      "justify_content": null,
      "justify_items": null,
      "left": null,
      "margin": null,
      "max_height": null,
      "max_width": null,
      "min_height": null,
      "min_width": null,
      "object_fit": null,
      "object_position": null,
      "order": null,
      "overflow": null,
      "overflow_x": null,
      "overflow_y": null,
      "padding": null,
      "right": null,
      "top": null,
      "visibility": null,
      "width": null
     }
    },
    "77f5bffcf0494c3db33df30552e15b8e": {
     "model_module": "@jupyter-widgets/base",
     "model_module_version": "1.2.0",
     "model_name": "LayoutModel",
     "state": {
      "_model_module": "@jupyter-widgets/base",
      "_model_module_version": "1.2.0",
      "_model_name": "LayoutModel",
      "_view_count": null,
      "_view_module": "@jupyter-widgets/base",
      "_view_module_version": "1.2.0",
      "_view_name": "LayoutView",
      "align_content": null,
      "align_items": null,
      "align_self": null,
      "border": null,
      "bottom": null,
      "display": null,
      "flex": null,
      "flex_flow": null,
      "grid_area": null,
      "grid_auto_columns": null,
      "grid_auto_flow": null,
      "grid_auto_rows": null,
      "grid_column": null,
      "grid_gap": null,
      "grid_row": null,
      "grid_template_areas": null,
      "grid_template_columns": null,
      "grid_template_rows": null,
      "height": null,
      "justify_content": null,
      "justify_items": null,
      "left": null,
      "margin": null,
      "max_height": null,
      "max_width": null,
      "min_height": null,
      "min_width": null,
      "object_fit": null,
      "object_position": null,
      "order": null,
      "overflow": null,
      "overflow_x": null,
      "overflow_y": null,
      "padding": null,
      "right": null,
      "top": null,
      "visibility": null,
      "width": null
     }
    },
    "7904076e1ed94fe7ae911266d6f7cc29": {
     "model_module": "@jupyter-widgets/controls",
     "model_module_version": "1.5.0",
     "model_name": "FloatProgressModel",
     "state": {
      "_dom_classes": [],
      "_model_module": "@jupyter-widgets/controls",
      "_model_module_version": "1.5.0",
      "_model_name": "FloatProgressModel",
      "_view_count": null,
      "_view_module": "@jupyter-widgets/controls",
      "_view_module_version": "1.5.0",
      "_view_name": "ProgressView",
      "bar_style": "success",
      "description": "",
      "description_tooltip": null,
      "layout": "IPY_MODEL_1fbf8bf7242b415c9cccda738b25ed04",
      "max": 5148,
      "min": 0,
      "orientation": "horizontal",
      "style": "IPY_MODEL_cd2038d9851a4a4d8c7e107edf02cca1",
      "value": 5148
     }
    },
    "7b8fe897f59046e68eb75a8cdd5e92de": {
     "model_module": "@jupyter-widgets/controls",
     "model_module_version": "1.5.0",
     "model_name": "FloatProgressModel",
     "state": {
      "_dom_classes": [],
      "_model_module": "@jupyter-widgets/controls",
      "_model_module_version": "1.5.0",
      "_model_name": "FloatProgressModel",
      "_view_count": null,
      "_view_module": "@jupyter-widgets/controls",
      "_view_module_version": "1.5.0",
      "_view_name": "ProgressView",
      "bar_style": "success",
      "description": "",
      "description_tooltip": null,
      "layout": "IPY_MODEL_28234bab3d1d43aea0e50d1245cd16f2",
      "max": 26421880,
      "min": 0,
      "orientation": "horizontal",
      "style": "IPY_MODEL_827906e0ccbc4881922c18683a4e97bb",
      "value": 26421880
     }
    },
    "827906e0ccbc4881922c18683a4e97bb": {
     "model_module": "@jupyter-widgets/controls",
     "model_module_version": "1.5.0",
     "model_name": "ProgressStyleModel",
     "state": {
      "_model_module": "@jupyter-widgets/controls",
      "_model_module_version": "1.5.0",
      "_model_name": "ProgressStyleModel",
      "_view_count": null,
      "_view_module": "@jupyter-widgets/base",
      "_view_module_version": "1.2.0",
      "_view_name": "StyleView",
      "bar_color": null,
      "description_width": ""
     }
    },
    "8b5cad589d3e4d65a86420980287059a": {
     "model_module": "@jupyter-widgets/controls",
     "model_module_version": "1.5.0",
     "model_name": "HTMLModel",
     "state": {
      "_dom_classes": [],
      "_model_module": "@jupyter-widgets/controls",
      "_model_module_version": "1.5.0",
      "_model_name": "HTMLModel",
      "_view_count": null,
      "_view_module": "@jupyter-widgets/controls",
      "_view_module_version": "1.5.0",
      "_view_name": "HTMLView",
      "description": "",
      "description_tooltip": null,
      "layout": "IPY_MODEL_6cdcb148e8a446be913504e4d9e16634",
      "placeholder": "​",
      "style": "IPY_MODEL_a68d8cc7829f45718e72751c24dc728f",
      "value": " 6144/? [00:00&lt;00:00, 144308.82it/s]"
     }
    },
    "99a1e802632c4a1ab0976776641fce8c": {
     "model_module": "@jupyter-widgets/base",
     "model_module_version": "1.2.0",
     "model_name": "LayoutModel",
     "state": {
      "_model_module": "@jupyter-widgets/base",
      "_model_module_version": "1.2.0",
      "_model_name": "LayoutModel",
      "_view_count": null,
      "_view_module": "@jupyter-widgets/base",
      "_view_module_version": "1.2.0",
      "_view_name": "LayoutView",
      "align_content": null,
      "align_items": null,
      "align_self": null,
      "border": null,
      "bottom": null,
      "display": null,
      "flex": null,
      "flex_flow": null,
      "grid_area": null,
      "grid_auto_columns": null,
      "grid_auto_flow": null,
      "grid_auto_rows": null,
      "grid_column": null,
      "grid_gap": null,
      "grid_row": null,
      "grid_template_areas": null,
      "grid_template_columns": null,
      "grid_template_rows": null,
      "height": null,
      "justify_content": null,
      "justify_items": null,
      "left": null,
      "margin": null,
      "max_height": null,
      "max_width": null,
      "min_height": null,
      "min_width": null,
      "object_fit": null,
      "object_position": null,
      "order": null,
      "overflow": null,
      "overflow_x": null,
      "overflow_y": null,
      "padding": null,
      "right": null,
      "top": null,
      "visibility": null,
      "width": null
     }
    },
    "9db22c25d6474d8288fa40aad726393d": {
     "model_module": "@jupyter-widgets/controls",
     "model_module_version": "1.5.0",
     "model_name": "DescriptionStyleModel",
     "state": {
      "_model_module": "@jupyter-widgets/controls",
      "_model_module_version": "1.5.0",
      "_model_name": "DescriptionStyleModel",
      "_view_count": null,
      "_view_module": "@jupyter-widgets/base",
      "_view_module_version": "1.2.0",
      "_view_name": "StyleView",
      "description_width": ""
     }
    },
    "a68d8cc7829f45718e72751c24dc728f": {
     "model_module": "@jupyter-widgets/controls",
     "model_module_version": "1.5.0",
     "model_name": "DescriptionStyleModel",
     "state": {
      "_model_module": "@jupyter-widgets/controls",
      "_model_module_version": "1.5.0",
      "_model_name": "DescriptionStyleModel",
      "_view_count": null,
      "_view_module": "@jupyter-widgets/base",
      "_view_module_version": "1.2.0",
      "_view_name": "StyleView",
      "description_width": ""
     }
    },
    "abdc7c640853476eb2bd1f4edbbe9d24": {
     "model_module": "@jupyter-widgets/base",
     "model_module_version": "1.2.0",
     "model_name": "LayoutModel",
     "state": {
      "_model_module": "@jupyter-widgets/base",
      "_model_module_version": "1.2.0",
      "_model_name": "LayoutModel",
      "_view_count": null,
      "_view_module": "@jupyter-widgets/base",
      "_view_module_version": "1.2.0",
      "_view_name": "LayoutView",
      "align_content": null,
      "align_items": null,
      "align_self": null,
      "border": null,
      "bottom": null,
      "display": null,
      "flex": null,
      "flex_flow": null,
      "grid_area": null,
      "grid_auto_columns": null,
      "grid_auto_flow": null,
      "grid_auto_rows": null,
      "grid_column": null,
      "grid_gap": null,
      "grid_row": null,
      "grid_template_areas": null,
      "grid_template_columns": null,
      "grid_template_rows": null,
      "height": null,
      "justify_content": null,
      "justify_items": null,
      "left": null,
      "margin": null,
      "max_height": null,
      "max_width": null,
      "min_height": null,
      "min_width": null,
      "object_fit": null,
      "object_position": null,
      "order": null,
      "overflow": null,
      "overflow_x": null,
      "overflow_y": null,
      "padding": null,
      "right": null,
      "top": null,
      "visibility": null,
      "width": null
     }
    },
    "acac05934e5647e8ad42893b8a6c10d1": {
     "model_module": "@jupyter-widgets/base",
     "model_module_version": "1.2.0",
     "model_name": "LayoutModel",
     "state": {
      "_model_module": "@jupyter-widgets/base",
      "_model_module_version": "1.2.0",
      "_model_name": "LayoutModel",
      "_view_count": null,
      "_view_module": "@jupyter-widgets/base",
      "_view_module_version": "1.2.0",
      "_view_name": "LayoutView",
      "align_content": null,
      "align_items": null,
      "align_self": null,
      "border": null,
      "bottom": null,
      "display": null,
      "flex": null,
      "flex_flow": null,
      "grid_area": null,
      "grid_auto_columns": null,
      "grid_auto_flow": null,
      "grid_auto_rows": null,
      "grid_column": null,
      "grid_gap": null,
      "grid_row": null,
      "grid_template_areas": null,
      "grid_template_columns": null,
      "grid_template_rows": null,
      "height": null,
      "justify_content": null,
      "justify_items": null,
      "left": null,
      "margin": null,
      "max_height": null,
      "max_width": null,
      "min_height": null,
      "min_width": null,
      "object_fit": null,
      "object_position": null,
      "order": null,
      "overflow": null,
      "overflow_x": null,
      "overflow_y": null,
      "padding": null,
      "right": null,
      "top": null,
      "visibility": null,
      "width": null
     }
    },
    "b1c6d5b7f8504d84a9782a36e6491712": {
     "model_module": "@jupyter-widgets/controls",
     "model_module_version": "1.5.0",
     "model_name": "HBoxModel",
     "state": {
      "_dom_classes": [],
      "_model_module": "@jupyter-widgets/controls",
      "_model_module_version": "1.5.0",
      "_model_name": "HBoxModel",
      "_view_count": null,
      "_view_module": "@jupyter-widgets/controls",
      "_view_module_version": "1.5.0",
      "_view_name": "HBoxView",
      "box_style": "",
      "children": [
       "IPY_MODEL_24139599cc964b0283c787010d446db3",
       "IPY_MODEL_7904076e1ed94fe7ae911266d6f7cc29",
       "IPY_MODEL_8b5cad589d3e4d65a86420980287059a"
      ],
      "layout": "IPY_MODEL_df911c163a5a49f982caafcbced21920"
     }
    },
    "b1d7c852c19d4178974246cef1db19ca": {
     "model_module": "@jupyter-widgets/controls",
     "model_module_version": "1.5.0",
     "model_name": "HBoxModel",
     "state": {
      "_dom_classes": [],
      "_model_module": "@jupyter-widgets/controls",
      "_model_module_version": "1.5.0",
      "_model_name": "HBoxModel",
      "_view_count": null,
      "_view_module": "@jupyter-widgets/controls",
      "_view_module_version": "1.5.0",
      "_view_name": "HBoxView",
      "box_style": "",
      "children": [
       "IPY_MODEL_182a074481514dbc9f92a1a31923be73",
       "IPY_MODEL_0ca774af453d49e586dd4ac4fdac9663",
       "IPY_MODEL_3129bcbfd8ad40cb8797f60fe984fe3c"
      ],
      "layout": "IPY_MODEL_77f5bffcf0494c3db33df30552e15b8e"
     }
    },
    "b39d8e8b9e1647449544903cc5a2ba34": {
     "model_module": "@jupyter-widgets/base",
     "model_module_version": "1.2.0",
     "model_name": "LayoutModel",
     "state": {
      "_model_module": "@jupyter-widgets/base",
      "_model_module_version": "1.2.0",
      "_model_name": "LayoutModel",
      "_view_count": null,
      "_view_module": "@jupyter-widgets/base",
      "_view_module_version": "1.2.0",
      "_view_name": "LayoutView",
      "align_content": null,
      "align_items": null,
      "align_self": null,
      "border": null,
      "bottom": null,
      "display": null,
      "flex": null,
      "flex_flow": null,
      "grid_area": null,
      "grid_auto_columns": null,
      "grid_auto_flow": null,
      "grid_auto_rows": null,
      "grid_column": null,
      "grid_gap": null,
      "grid_row": null,
      "grid_template_areas": null,
      "grid_template_columns": null,
      "grid_template_rows": null,
      "height": null,
      "justify_content": null,
      "justify_items": null,
      "left": null,
      "margin": null,
      "max_height": null,
      "max_width": null,
      "min_height": null,
      "min_width": null,
      "object_fit": null,
      "object_position": null,
      "order": null,
      "overflow": null,
      "overflow_x": null,
      "overflow_y": null,
      "padding": null,
      "right": null,
      "top": null,
      "visibility": null,
      "width": null
     }
    },
    "beeeefdc08e24464ba4369da9cd7faea": {
     "model_module": "@jupyter-widgets/controls",
     "model_module_version": "1.5.0",
     "model_name": "ProgressStyleModel",
     "state": {
      "_model_module": "@jupyter-widgets/controls",
      "_model_module_version": "1.5.0",
      "_model_name": "ProgressStyleModel",
      "_view_count": null,
      "_view_module": "@jupyter-widgets/base",
      "_view_module_version": "1.2.0",
      "_view_name": "StyleView",
      "bar_color": null,
      "description_width": ""
     }
    },
    "c0494a7e04d549b5a9323fa43d9ad3b2": {
     "model_module": "@jupyter-widgets/controls",
     "model_module_version": "1.5.0",
     "model_name": "DescriptionStyleModel",
     "state": {
      "_model_module": "@jupyter-widgets/controls",
      "_model_module_version": "1.5.0",
      "_model_name": "DescriptionStyleModel",
      "_view_count": null,
      "_view_module": "@jupyter-widgets/base",
      "_view_module_version": "1.2.0",
      "_view_name": "StyleView",
      "description_width": ""
     }
    },
    "c8805dcf332245e18439d109c50466d2": {
     "model_module": "@jupyter-widgets/controls",
     "model_module_version": "1.5.0",
     "model_name": "DescriptionStyleModel",
     "state": {
      "_model_module": "@jupyter-widgets/controls",
      "_model_module_version": "1.5.0",
      "_model_name": "DescriptionStyleModel",
      "_view_count": null,
      "_view_module": "@jupyter-widgets/base",
      "_view_module_version": "1.2.0",
      "_view_name": "StyleView",
      "description_width": ""
     }
    },
    "cd2038d9851a4a4d8c7e107edf02cca1": {
     "model_module": "@jupyter-widgets/controls",
     "model_module_version": "1.5.0",
     "model_name": "ProgressStyleModel",
     "state": {
      "_model_module": "@jupyter-widgets/controls",
      "_model_module_version": "1.5.0",
      "_model_name": "ProgressStyleModel",
      "_view_count": null,
      "_view_module": "@jupyter-widgets/base",
      "_view_module_version": "1.2.0",
      "_view_name": "StyleView",
      "bar_color": null,
      "description_width": ""
     }
    },
    "cf57be0a6c7340ca8b54e0809ba0fbc9": {
     "model_module": "@jupyter-widgets/controls",
     "model_module_version": "1.5.0",
     "model_name": "HTMLModel",
     "state": {
      "_dom_classes": [],
      "_model_module": "@jupyter-widgets/controls",
      "_model_module_version": "1.5.0",
      "_model_name": "HTMLModel",
      "_view_count": null,
      "_view_module": "@jupyter-widgets/controls",
      "_view_module_version": "1.5.0",
      "_view_name": "HTMLView",
      "description": "",
      "description_tooltip": null,
      "layout": "IPY_MODEL_dec4e52f4ae04b298abc0f125c300534",
      "placeholder": "​",
      "style": "IPY_MODEL_9db22c25d6474d8288fa40aad726393d",
      "value": ""
     }
    },
    "d9277c7a992c4f9491530f6d443fc68e": {
     "model_module": "@jupyter-widgets/controls",
     "model_module_version": "1.5.0",
     "model_name": "HTMLModel",
     "state": {
      "_dom_classes": [],
      "_model_module": "@jupyter-widgets/controls",
      "_model_module_version": "1.5.0",
      "_model_name": "HTMLModel",
      "_view_count": null,
      "_view_module": "@jupyter-widgets/controls",
      "_view_module_version": "1.5.0",
      "_view_name": "HTMLView",
      "description": "",
      "description_tooltip": null,
      "layout": "IPY_MODEL_b39d8e8b9e1647449544903cc5a2ba34",
      "placeholder": "​",
      "style": "IPY_MODEL_c8805dcf332245e18439d109c50466d2",
      "value": " 26422272/? [00:01&lt;00:00, 26789266.56it/s]"
     }
    },
    "dec4e52f4ae04b298abc0f125c300534": {
     "model_module": "@jupyter-widgets/base",
     "model_module_version": "1.2.0",
     "model_name": "LayoutModel",
     "state": {
      "_model_module": "@jupyter-widgets/base",
      "_model_module_version": "1.2.0",
      "_model_name": "LayoutModel",
      "_view_count": null,
      "_view_module": "@jupyter-widgets/base",
      "_view_module_version": "1.2.0",
      "_view_name": "LayoutView",
      "align_content": null,
      "align_items": null,
      "align_self": null,
      "border": null,
      "bottom": null,
      "display": null,
      "flex": null,
      "flex_flow": null,
      "grid_area": null,
      "grid_auto_columns": null,
      "grid_auto_flow": null,
      "grid_auto_rows": null,
      "grid_column": null,
      "grid_gap": null,
      "grid_row": null,
      "grid_template_areas": null,
      "grid_template_columns": null,
      "grid_template_rows": null,
      "height": null,
      "justify_content": null,
      "justify_items": null,
      "left": null,
      "margin": null,
      "max_height": null,
      "max_width": null,
      "min_height": null,
      "min_width": null,
      "object_fit": null,
      "object_position": null,
      "order": null,
      "overflow": null,
      "overflow_x": null,
      "overflow_y": null,
      "padding": null,
      "right": null,
      "top": null,
      "visibility": null,
      "width": null
     }
    },
    "df911c163a5a49f982caafcbced21920": {
     "model_module": "@jupyter-widgets/base",
     "model_module_version": "1.2.0",
     "model_name": "LayoutModel",
     "state": {
      "_model_module": "@jupyter-widgets/base",
      "_model_module_version": "1.2.0",
      "_model_name": "LayoutModel",
      "_view_count": null,
      "_view_module": "@jupyter-widgets/base",
      "_view_module_version": "1.2.0",
      "_view_name": "LayoutView",
      "align_content": null,
      "align_items": null,
      "align_self": null,
      "border": null,
      "bottom": null,
      "display": null,
      "flex": null,
      "flex_flow": null,
      "grid_area": null,
      "grid_auto_columns": null,
      "grid_auto_flow": null,
      "grid_auto_rows": null,
      "grid_column": null,
      "grid_gap": null,
      "grid_row": null,
      "grid_template_areas": null,
      "grid_template_columns": null,
      "grid_template_rows": null,
      "height": null,
      "justify_content": null,
      "justify_items": null,
      "left": null,
      "margin": null,
      "max_height": null,
      "max_width": null,
      "min_height": null,
      "min_width": null,
      "object_fit": null,
      "object_position": null,
      "order": null,
      "overflow": null,
      "overflow_x": null,
      "overflow_y": null,
      "padding": null,
      "right": null,
      "top": null,
      "visibility": null,
      "width": null
     }
    },
    "ead636b58dfc422596f2e5e53119c830": {
     "model_module": "@jupyter-widgets/controls",
     "model_module_version": "1.5.0",
     "model_name": "FloatProgressModel",
     "state": {
      "_dom_classes": [],
      "_model_module": "@jupyter-widgets/controls",
      "_model_module_version": "1.5.0",
      "_model_name": "FloatProgressModel",
      "_view_count": null,
      "_view_module": "@jupyter-widgets/controls",
      "_view_module_version": "1.5.0",
      "_view_name": "ProgressView",
      "bar_style": "success",
      "description": "",
      "description_tooltip": null,
      "layout": "IPY_MODEL_99a1e802632c4a1ab0976776641fce8c",
      "max": 4422102,
      "min": 0,
      "orientation": "horizontal",
      "style": "IPY_MODEL_108907707fb246c6aa2eb0055f22b6ad",
      "value": 4422102
     }
    },
    "eaf3615362384da3961655307f87bc3a": {
     "model_module": "@jupyter-widgets/base",
     "model_module_version": "1.2.0",
     "model_name": "LayoutModel",
     "state": {
      "_model_module": "@jupyter-widgets/base",
      "_model_module_version": "1.2.0",
      "_model_name": "LayoutModel",
      "_view_count": null,
      "_view_module": "@jupyter-widgets/base",
      "_view_module_version": "1.2.0",
      "_view_name": "LayoutView",
      "align_content": null,
      "align_items": null,
      "align_self": null,
      "border": null,
      "bottom": null,
      "display": null,
      "flex": null,
      "flex_flow": null,
      "grid_area": null,
      "grid_auto_columns": null,
      "grid_auto_flow": null,
      "grid_auto_rows": null,
      "grid_column": null,
      "grid_gap": null,
      "grid_row": null,
      "grid_template_areas": null,
      "grid_template_columns": null,
      "grid_template_rows": null,
      "height": null,
      "justify_content": null,
      "justify_items": null,
      "left": null,
      "margin": null,
      "max_height": null,
      "max_width": null,
      "min_height": null,
      "min_width": null,
      "object_fit": null,
      "object_position": null,
      "order": null,
      "overflow": null,
      "overflow_x": null,
      "overflow_y": null,
      "padding": null,
      "right": null,
      "top": null,
      "visibility": null,
      "width": null
     }
    },
    "f0e07a02ccce46caaccca01b8fa93686": {
     "model_module": "@jupyter-widgets/controls",
     "model_module_version": "1.5.0",
     "model_name": "DescriptionStyleModel",
     "state": {
      "_model_module": "@jupyter-widgets/controls",
      "_model_module_version": "1.5.0",
      "_model_name": "DescriptionStyleModel",
      "_view_count": null,
      "_view_module": "@jupyter-widgets/base",
      "_view_module_version": "1.2.0",
      "_view_name": "StyleView",
      "description_width": ""
     }
    },
    "f311b7a94b244f87b5badd6824089d38": {
     "model_module": "@jupyter-widgets/base",
     "model_module_version": "1.2.0",
     "model_name": "LayoutModel",
     "state": {
      "_model_module": "@jupyter-widgets/base",
      "_model_module_version": "1.2.0",
      "_model_name": "LayoutModel",
      "_view_count": null,
      "_view_module": "@jupyter-widgets/base",
      "_view_module_version": "1.2.0",
      "_view_name": "LayoutView",
      "align_content": null,
      "align_items": null,
      "align_self": null,
      "border": null,
      "bottom": null,
      "display": null,
      "flex": null,
      "flex_flow": null,
      "grid_area": null,
      "grid_auto_columns": null,
      "grid_auto_flow": null,
      "grid_auto_rows": null,
      "grid_column": null,
      "grid_gap": null,
      "grid_row": null,
      "grid_template_areas": null,
      "grid_template_columns": null,
      "grid_template_rows": null,
      "height": null,
      "justify_content": null,
      "justify_items": null,
      "left": null,
      "margin": null,
      "max_height": null,
      "max_width": null,
      "min_height": null,
      "min_width": null,
      "object_fit": null,
      "object_position": null,
      "order": null,
      "overflow": null,
      "overflow_x": null,
      "overflow_y": null,
      "padding": null,
      "right": null,
      "top": null,
      "visibility": null,
      "width": null
     }
    },
    "f38390085e504e048e77154395244471": {
     "model_module": "@jupyter-widgets/base",
     "model_module_version": "1.2.0",
     "model_name": "LayoutModel",
     "state": {
      "_model_module": "@jupyter-widgets/base",
      "_model_module_version": "1.2.0",
      "_model_name": "LayoutModel",
      "_view_count": null,
      "_view_module": "@jupyter-widgets/base",
      "_view_module_version": "1.2.0",
      "_view_name": "LayoutView",
      "align_content": null,
      "align_items": null,
      "align_self": null,
      "border": null,
      "bottom": null,
      "display": null,
      "flex": null,
      "flex_flow": null,
      "grid_area": null,
      "grid_auto_columns": null,
      "grid_auto_flow": null,
      "grid_auto_rows": null,
      "grid_column": null,
      "grid_gap": null,
      "grid_row": null,
      "grid_template_areas": null,
      "grid_template_columns": null,
      "grid_template_rows": null,
      "height": null,
      "justify_content": null,
      "justify_items": null,
      "left": null,
      "margin": null,
      "max_height": null,
      "max_width": null,
      "min_height": null,
      "min_width": null,
      "object_fit": null,
      "object_position": null,
      "order": null,
      "overflow": null,
      "overflow_x": null,
      "overflow_y": null,
      "padding": null,
      "right": null,
      "top": null,
      "visibility": null,
      "width": null
     }
    }
   }
  }
 },
 "nbformat": 4,
 "nbformat_minor": 4
}
